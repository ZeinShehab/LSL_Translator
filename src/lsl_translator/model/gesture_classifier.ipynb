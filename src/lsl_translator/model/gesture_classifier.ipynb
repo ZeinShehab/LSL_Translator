{
  "cells": [
    {
      "cell_type": "code",
      "execution_count": 1,
      "metadata": {
        "id": "igMyGnjE9hEp"
      },
      "outputs": [
        {
          "name": "stdout",
          "output_type": "stream",
          "text": [
            "WARNING:tensorflow:From c:\\Users\\zeins\\anaconda3\\envs\\lsl\\lib\\site-packages\\keras\\src\\losses.py:2976: The name tf.losses.sparse_softmax_cross_entropy is deprecated. Please use tf.compat.v1.losses.sparse_softmax_cross_entropy instead.\n",
            "\n"
          ]
        }
      ],
      "source": [
        "import numpy as np\n",
        "import tensorflow as tf\n",
        "from sklearn.model_selection import train_test_split"
      ]
    },
    {
      "cell_type": "markdown",
      "metadata": {
        "id": "t2HDvhIu9hEr"
      },
      "source": [
        "# Specify each path"
      ]
    },
    {
      "cell_type": "code",
      "execution_count": 2,
      "metadata": {
        "id": "9NvZP2Zn9hEy"
      },
      "outputs": [],
      "source": [
        "data_directory = \"../../../data/\"\n",
        "train_dataset = f'{data_directory}augmented_gestures_train.csv'\n",
        "test_dataset = f'{data_directory}augmented_gestures_test.csv'\n",
        "model_save_path = './gesture_classifier.keras'\n",
        "tflite_save_path = './gesture_classifier.tflite'"
      ]
    },
    {
      "cell_type": "markdown",
      "metadata": {
        "id": "s5oMH7x19hEz"
      },
      "source": [
        "# Set number of classes"
      ]
    },
    {
      "cell_type": "code",
      "execution_count": 3,
      "metadata": {
        "id": "du4kodXL9hEz"
      },
      "outputs": [],
      "source": [
        "RANDOM_SEED = 42\n",
        "NUM_CLASSES = 5\n",
        "NUM_SEQUENCE_FRAMES = 10\n",
        "MULTI_HAND_LANDMARKS = 126\n",
        "FEATURE_DIM = MULTI_HAND_LANDMARKS * NUM_SEQUENCE_FRAMES"
      ]
    },
    {
      "cell_type": "markdown",
      "metadata": {
        "id": "XjnL0uso9hEz"
      },
      "source": [
        "# Dataset reading"
      ]
    },
    {
      "cell_type": "code",
      "execution_count": 4,
      "metadata": {
        "id": "QT5ZqtEz9hE0"
      },
      "outputs": [],
      "source": [
        "X_train = np.loadtxt(train_dataset, delimiter=',', dtype='float32', usecols=list(range(1, FEATURE_DIM + 1)))\n",
        "X_test_data = np.loadtxt(test_dataset, delimiter=',', dtype='float32', usecols=list(range(1, FEATURE_DIM + 1)))"
      ]
    },
    {
      "cell_type": "code",
      "execution_count": 5,
      "metadata": {
        "id": "QmoKFsp49hE0"
      },
      "outputs": [],
      "source": [
        "y_train = np.loadtxt(train_dataset, delimiter=',', dtype='int32', usecols=(0))\n",
        "y_test_data = np.loadtxt(test_dataset, delimiter=',', dtype='int32', usecols=(0))"
      ]
    },
    {
      "cell_type": "code",
      "execution_count": 6,
      "metadata": {},
      "outputs": [],
      "source": [
        "X_test, X_valid, y_test, y_valid = train_test_split(X_test_data, y_test_data, train_size=0.75, random_state=RANDOM_SEED)"
      ]
    },
    {
      "cell_type": "code",
      "execution_count": 7,
      "metadata": {},
      "outputs": [
        {
          "name": "stdout",
          "output_type": "stream",
          "text": [
            "[0 1 2 3 4]\n",
            "[0 1 2 3 4]\n",
            "[0 1 2 3 4]\n"
          ]
        }
      ],
      "source": [
        "print(np.unique(y_train))\n",
        "print(np.unique(y_test))\n",
        "print(np.unique(y_valid))"
      ]
    },
    {
      "cell_type": "code",
      "execution_count": 8,
      "metadata": {},
      "outputs": [
        {
          "name": "stdout",
          "output_type": "stream",
          "text": [
            "(551, 1260)\n",
            "(551,)\n"
          ]
        }
      ],
      "source": [
        "print(X_train.shape)\n",
        "print(y_train.shape)"
      ]
    },
    {
      "cell_type": "markdown",
      "metadata": {
        "id": "mxK_lETT9hE0"
      },
      "source": [
        "# Model building"
      ]
    },
    {
      "cell_type": "code",
      "execution_count": 9,
      "metadata": {
        "id": "vHBmUf1t9hE1"
      },
      "outputs": [
        {
          "name": "stdout",
          "output_type": "stream",
          "text": [
            "WARNING:tensorflow:From c:\\Users\\zeins\\anaconda3\\envs\\lsl\\lib\\site-packages\\keras\\src\\backend.py:1398: The name tf.executing_eagerly_outside_functions is deprecated. Please use tf.compat.v1.executing_eagerly_outside_functions instead.\n",
            "\n"
          ]
        }
      ],
      "source": [
        "model = tf.keras.models.Sequential([\n",
        "    tf.keras.layers.Input((FEATURE_DIM, )),\n",
        "    # tf.keras.layers.BatchNormalization(),  # Normalizes input features\n",
        "    tf.keras.layers.Dense(256, activation='relu'),\n",
        "    tf.keras.layers.Dropout(0.5),  # Dropout for regularization\n",
        "    tf.keras.layers.Dense(128, activation='relu'),\n",
        "    tf.keras.layers.Dropout(0.3),  # Dropout for regularization\n",
        "    tf.keras.layers.Dense(64, activation='relu'),\n",
        "    tf.keras.layers.Dropout(0.2),  # Dropout for regularization\n",
        "    tf.keras.layers.Dense(NUM_CLASSES, activation='softmax')  # Output layer with 5 units\n",
        "])"
      ]
    },
    {
      "cell_type": "code",
      "execution_count": 10,
      "metadata": {},
      "outputs": [],
      "source": [
        "cp_callback = tf.keras.callbacks.ModelCheckpoint(\n",
        "    model_save_path, verbose=1, save_weights_only=False)\n",
        "# Callback for early stopping\n",
        "es_callback = tf.keras.callbacks.EarlyStopping(patience=20, verbose=1)"
      ]
    },
    {
      "cell_type": "code",
      "execution_count": 11,
      "metadata": {},
      "outputs": [
        {
          "name": "stdout",
          "output_type": "stream",
          "text": [
            "WARNING:tensorflow:From c:\\Users\\zeins\\anaconda3\\envs\\lsl\\lib\\site-packages\\keras\\src\\optimizers\\__init__.py:309: The name tf.train.Optimizer is deprecated. Please use tf.compat.v1.train.Optimizer instead.\n",
            "\n"
          ]
        }
      ],
      "source": [
        "# Model compilation\n",
        "model.compile(\n",
        "    optimizer='adam',\n",
        "    loss='sparse_categorical_crossentropy',\n",
        "    metrics=['accuracy']\n",
        ")"
      ]
    },
    {
      "cell_type": "code",
      "execution_count": 12,
      "metadata": {},
      "outputs": [
        {
          "name": "stdout",
          "output_type": "stream",
          "text": [
            "Epoch 1/1000\n",
            "WARNING:tensorflow:From c:\\Users\\zeins\\anaconda3\\envs\\lsl\\lib\\site-packages\\keras\\src\\utils\\tf_utils.py:492: The name tf.ragged.RaggedTensorValue is deprecated. Please use tf.compat.v1.ragged.RaggedTensorValue instead.\n",
            "\n",
            "WARNING:tensorflow:From c:\\Users\\zeins\\anaconda3\\envs\\lsl\\lib\\site-packages\\keras\\src\\engine\\base_layer_utils.py:384: The name tf.executing_eagerly_outside_functions is deprecated. Please use tf.compat.v1.executing_eagerly_outside_functions instead.\n",
            "\n",
            "1/5 [=====>........................] - ETA: 3s - loss: 5.5453 - accuracy: 0.1641\n",
            "Epoch 1: saving model to .\\gesture_classifier.keras\n",
            "5/5 [==============================] - 1s 66ms/step - loss: 2.7275 - accuracy: 0.4555 - val_loss: 0.6910 - val_accuracy: 0.6145\n",
            "Epoch 2/1000\n",
            "1/5 [=====>........................] - ETA: 0s - loss: 0.8273 - accuracy: 0.7578\n",
            "Epoch 2: saving model to .\\gesture_classifier.keras\n",
            "5/5 [==============================] - 0s 20ms/step - loss: 0.6586 - accuracy: 0.8185 - val_loss: 0.5977 - val_accuracy: 0.6145\n",
            "Epoch 3/1000\n",
            "1/5 [=====>........................] - ETA: 0s - loss: 0.4664 - accuracy: 0.8359\n",
            "Epoch 3: saving model to .\\gesture_classifier.keras\n",
            "5/5 [==============================] - 0s 19ms/step - loss: 0.3881 - accuracy: 0.8748 - val_loss: 0.4571 - val_accuracy: 0.8193\n",
            "Epoch 4/1000\n",
            "1/5 [=====>........................] - ETA: 0s - loss: 0.2979 - accuracy: 0.8984\n",
            "Epoch 4: saving model to .\\gesture_classifier.keras\n",
            "5/5 [==============================] - 0s 20ms/step - loss: 0.2112 - accuracy: 0.9383 - val_loss: 0.4086 - val_accuracy: 0.8193\n",
            "Epoch 5/1000\n",
            "1/5 [=====>........................] - ETA: 0s - loss: 0.1134 - accuracy: 0.9609\n",
            "Epoch 5: saving model to .\\gesture_classifier.keras\n",
            "5/5 [==============================] - 0s 19ms/step - loss: 0.1280 - accuracy: 0.9619 - val_loss: 0.2238 - val_accuracy: 0.8193\n",
            "Epoch 6/1000\n",
            "1/5 [=====>........................] - ETA: 0s - loss: 0.2327 - accuracy: 0.9453\n",
            "Epoch 6: saving model to .\\gesture_classifier.keras\n",
            "5/5 [==============================] - 0s 22ms/step - loss: 0.1546 - accuracy: 0.9637 - val_loss: 0.1677 - val_accuracy: 0.9880\n",
            "Epoch 7/1000\n",
            "1/5 [=====>........................] - ETA: 0s - loss: 0.2699 - accuracy: 0.9531\n",
            "Epoch 7: saving model to .\\gesture_classifier.keras\n",
            "5/5 [==============================] - 0s 21ms/step - loss: 0.1425 - accuracy: 0.9637 - val_loss: 0.1508 - val_accuracy: 0.9880\n",
            "Epoch 8/1000\n",
            "1/5 [=====>........................] - ETA: 0s - loss: 0.0689 - accuracy: 0.9688\n",
            "Epoch 8: saving model to .\\gesture_classifier.keras\n",
            "5/5 [==============================] - 0s 22ms/step - loss: 0.0882 - accuracy: 0.9764 - val_loss: 0.1730 - val_accuracy: 0.9880\n",
            "Epoch 9/1000\n",
            "1/5 [=====>........................] - ETA: 0s - loss: 0.0613 - accuracy: 0.9766\n",
            "Epoch 9: saving model to .\\gesture_classifier.keras\n",
            "5/5 [==============================] - 0s 21ms/step - loss: 0.0692 - accuracy: 0.9764 - val_loss: 0.1714 - val_accuracy: 0.8193\n",
            "Epoch 10/1000\n",
            "1/5 [=====>........................] - ETA: 0s - loss: 0.0789 - accuracy: 0.9844\n",
            "Epoch 10: saving model to .\\gesture_classifier.keras\n",
            "5/5 [==============================] - 0s 19ms/step - loss: 0.0502 - accuracy: 0.9891 - val_loss: 0.5375 - val_accuracy: 0.8313\n",
            "Epoch 11/1000\n",
            "1/5 [=====>........................] - ETA: 0s - loss: 0.0787 - accuracy: 0.9844\n",
            "Epoch 11: saving model to .\\gesture_classifier.keras\n",
            "5/5 [==============================] - 0s 19ms/step - loss: 0.0807 - accuracy: 0.9746 - val_loss: 0.6057 - val_accuracy: 0.8193\n",
            "Epoch 12/1000\n",
            "1/5 [=====>........................] - ETA: 0s - loss: 0.0391 - accuracy: 0.9766\n",
            "Epoch 12: saving model to .\\gesture_classifier.keras\n",
            "5/5 [==============================] - 0s 18ms/step - loss: 0.0294 - accuracy: 0.9891 - val_loss: 0.4122 - val_accuracy: 0.8193\n",
            "Epoch 13/1000\n",
            "1/5 [=====>........................] - ETA: 0s - loss: 0.0553 - accuracy: 0.9922\n",
            "Epoch 13: saving model to .\\gesture_classifier.keras\n",
            "5/5 [==============================] - 0s 18ms/step - loss: 0.0676 - accuracy: 0.9819 - val_loss: 0.1857 - val_accuracy: 0.8313\n",
            "Epoch 14/1000\n",
            "1/5 [=====>........................] - ETA: 0s - loss: 0.0060 - accuracy: 1.0000\n",
            "Epoch 14: saving model to .\\gesture_classifier.keras\n",
            "5/5 [==============================] - 0s 19ms/step - loss: 0.0278 - accuracy: 0.9927 - val_loss: 0.1260 - val_accuracy: 1.0000\n",
            "Epoch 15/1000\n",
            "1/5 [=====>........................] - ETA: 0s - loss: 0.1125 - accuracy: 0.9844\n",
            "Epoch 15: saving model to .\\gesture_classifier.keras\n",
            "5/5 [==============================] - 0s 19ms/step - loss: 0.0840 - accuracy: 0.9873 - val_loss: 0.0478 - val_accuracy: 1.0000\n",
            "Epoch 16/1000\n",
            "1/5 [=====>........................] - ETA: 0s - loss: 0.0395 - accuracy: 0.9922\n",
            "Epoch 16: saving model to .\\gesture_classifier.keras\n",
            "5/5 [==============================] - 0s 19ms/step - loss: 0.0513 - accuracy: 0.9855 - val_loss: 0.0810 - val_accuracy: 0.9880\n",
            "Epoch 17/1000\n",
            "1/5 [=====>........................] - ETA: 0s - loss: 0.0085 - accuracy: 1.0000\n",
            "Epoch 17: saving model to .\\gesture_classifier.keras\n",
            "5/5 [==============================] - 0s 23ms/step - loss: 0.0083 - accuracy: 0.9982 - val_loss: 0.3656 - val_accuracy: 0.8193\n",
            "Epoch 18/1000\n",
            "1/5 [=====>........................] - ETA: 0s - loss: 0.0065 - accuracy: 1.0000\n",
            "Epoch 18: saving model to .\\gesture_classifier.keras\n",
            "5/5 [==============================] - 0s 19ms/step - loss: 0.0337 - accuracy: 0.9909 - val_loss: 0.4496 - val_accuracy: 0.8193\n",
            "Epoch 19/1000\n",
            "1/5 [=====>........................] - ETA: 0s - loss: 0.0294 - accuracy: 0.9922\n",
            "Epoch 19: saving model to .\\gesture_classifier.keras\n",
            "5/5 [==============================] - 0s 19ms/step - loss: 0.0246 - accuracy: 0.9909 - val_loss: 0.3859 - val_accuracy: 0.8193\n",
            "Epoch 20/1000\n",
            "1/5 [=====>........................] - ETA: 0s - loss: 0.0472 - accuracy: 0.9844\n",
            "Epoch 20: saving model to .\\gesture_classifier.keras\n",
            "5/5 [==============================] - 0s 18ms/step - loss: 0.0213 - accuracy: 0.9909 - val_loss: 0.2139 - val_accuracy: 0.8313\n",
            "Epoch 21/1000\n",
            "1/5 [=====>........................] - ETA: 0s - loss: 0.0013 - accuracy: 1.0000\n",
            "Epoch 21: saving model to .\\gesture_classifier.keras\n",
            "5/5 [==============================] - 0s 19ms/step - loss: 0.0420 - accuracy: 0.9946 - val_loss: 0.5505 - val_accuracy: 0.8795\n",
            "Epoch 22/1000\n",
            "1/5 [=====>........................] - ETA: 0s - loss: 0.0158 - accuracy: 0.9922\n",
            "Epoch 22: saving model to .\\gesture_classifier.keras\n",
            "5/5 [==============================] - 0s 19ms/step - loss: 0.0359 - accuracy: 0.9927 - val_loss: 0.6355 - val_accuracy: 0.8795\n",
            "Epoch 23/1000\n",
            "1/5 [=====>........................] - ETA: 0s - loss: 0.0022 - accuracy: 1.0000\n",
            "Epoch 23: saving model to .\\gesture_classifier.keras\n",
            "5/5 [==============================] - 0s 19ms/step - loss: 0.0083 - accuracy: 0.9964 - val_loss: 0.3186 - val_accuracy: 0.8795\n",
            "Epoch 24/1000\n",
            "1/5 [=====>........................] - ETA: 0s - loss: 0.0336 - accuracy: 0.9922\n",
            "Epoch 24: saving model to .\\gesture_classifier.keras\n",
            "5/5 [==============================] - 0s 21ms/step - loss: 0.0212 - accuracy: 0.9946 - val_loss: 0.1052 - val_accuracy: 1.0000\n",
            "Epoch 25/1000\n",
            "1/5 [=====>........................] - ETA: 0s - loss: 0.0033 - accuracy: 1.0000\n",
            "Epoch 25: saving model to .\\gesture_classifier.keras\n",
            "5/5 [==============================] - 0s 20ms/step - loss: 0.0077 - accuracy: 1.0000 - val_loss: 0.2090 - val_accuracy: 0.8193\n",
            "Epoch 26/1000\n",
            "1/5 [=====>........................] - ETA: 0s - loss: 0.0288 - accuracy: 0.9922\n",
            "Epoch 26: saving model to .\\gesture_classifier.keras\n",
            "5/5 [==============================] - 0s 24ms/step - loss: 0.0460 - accuracy: 0.9891 - val_loss: 0.1315 - val_accuracy: 0.9880\n",
            "Epoch 27/1000\n",
            "1/5 [=====>........................] - ETA: 0s - loss: 0.0011 - accuracy: 1.0000\n",
            "Epoch 27: saving model to .\\gesture_classifier.keras\n",
            "5/5 [==============================] - 0s 20ms/step - loss: 0.0196 - accuracy: 0.9946 - val_loss: 0.4128 - val_accuracy: 0.8313\n",
            "Epoch 28/1000\n",
            "1/5 [=====>........................] - ETA: 0s - loss: 0.0114 - accuracy: 0.9922\n",
            "Epoch 28: saving model to .\\gesture_classifier.keras\n",
            "5/5 [==============================] - 0s 20ms/step - loss: 0.0229 - accuracy: 0.9909 - val_loss: 0.2569 - val_accuracy: 0.8313\n",
            "Epoch 29/1000\n",
            "1/5 [=====>........................] - ETA: 0s - loss: 0.0013 - accuracy: 1.0000\n",
            "Epoch 29: saving model to .\\gesture_classifier.keras\n",
            "5/5 [==============================] - 0s 20ms/step - loss: 0.0018 - accuracy: 1.0000 - val_loss: 0.2257 - val_accuracy: 0.8795\n",
            "Epoch 30/1000\n",
            "1/5 [=====>........................] - ETA: 0s - loss: 0.0600 - accuracy: 0.9922\n",
            "Epoch 30: saving model to .\\gesture_classifier.keras\n",
            "5/5 [==============================] - 0s 23ms/step - loss: 0.0287 - accuracy: 0.9891 - val_loss: 0.3639 - val_accuracy: 0.8795\n",
            "Epoch 31/1000\n",
            "1/5 [=====>........................] - ETA: 0s - loss: 0.0175 - accuracy: 0.9922\n",
            "Epoch 31: saving model to .\\gesture_classifier.keras\n",
            "5/5 [==============================] - 0s 21ms/step - loss: 0.0308 - accuracy: 0.9909 - val_loss: 1.2549 - val_accuracy: 0.7108\n",
            "Epoch 32/1000\n",
            "1/5 [=====>........................] - ETA: 0s - loss: 0.0713 - accuracy: 0.9844\n",
            "Epoch 32: saving model to .\\gesture_classifier.keras\n",
            "5/5 [==============================] - 0s 21ms/step - loss: 0.0350 - accuracy: 0.9891 - val_loss: 0.6976 - val_accuracy: 0.8313\n",
            "Epoch 33/1000\n",
            "1/5 [=====>........................] - ETA: 0s - loss: 0.1002 - accuracy: 0.9766\n",
            "Epoch 33: saving model to .\\gesture_classifier.keras\n",
            "5/5 [==============================] - 0s 20ms/step - loss: 0.0420 - accuracy: 0.9891 - val_loss: 0.4561 - val_accuracy: 0.8193\n",
            "Epoch 34/1000\n",
            "1/5 [=====>........................] - ETA: 0s - loss: 0.0038 - accuracy: 1.0000\n",
            "Epoch 34: saving model to .\\gesture_classifier.keras\n",
            "5/5 [==============================] - 0s 21ms/step - loss: 0.0392 - accuracy: 0.9927 - val_loss: 1.0243 - val_accuracy: 0.8193\n",
            "Epoch 35/1000\n",
            "1/5 [=====>........................] - ETA: 0s - loss: 0.0168 - accuracy: 0.9922\n",
            "Epoch 35: saving model to .\\gesture_classifier.keras\n",
            "5/5 [==============================] - 0s 19ms/step - loss: 0.0135 - accuracy: 0.9946 - val_loss: 0.1297 - val_accuracy: 1.0000\n",
            "Epoch 35: early stopping\n"
          ]
        },
        {
          "data": {
            "text/plain": [
              "<keras.src.callbacks.History at 0x20e13054d60>"
            ]
          },
          "execution_count": 12,
          "metadata": {},
          "output_type": "execute_result"
        }
      ],
      "source": [
        "model.fit(\n",
        "    X_train,\n",
        "    y_train,\n",
        "    epochs=1000,\n",
        "    batch_size=128,\n",
        "    validation_data=(X_valid, y_valid),\n",
        "    callbacks=[cp_callback, es_callback]\n",
        ")"
      ]
    },
    {
      "cell_type": "code",
      "execution_count": 14,
      "metadata": {},
      "outputs": [
        {
          "name": "stdout",
          "output_type": "stream",
          "text": [
            "2/2 [==============================] - 0s 4ms/step - loss: 0.3980 - accuracy: 0.9717\n"
          ]
        }
      ],
      "source": [
        "val_loss, val_acc = model.evaluate(X_test, y_test, batch_size=128)"
      ]
    },
    {
      "cell_type": "code",
      "execution_count": 15,
      "metadata": {
        "colab": {
          "base_uri": "https://localhost:8080/"
        },
        "id": "WirBl-JE9hE3",
        "outputId": "71b30ca2-8294-4d9d-8aa2-800d90d399de",
        "scrolled": true,
        "tags": [
          "outputPrepend"
        ]
      },
      "outputs": [],
      "source": [
        "model = tf.keras.models.load_model(model_save_path)"
      ]
    },
    {
      "cell_type": "code",
      "execution_count": 16,
      "metadata": {},
      "outputs": [
        {
          "name": "stdout",
          "output_type": "stream",
          "text": [
            "1/1 [==============================] - 0s 85ms/step\n",
            "[5.6423342e-01 1.8590833e-03 3.2266413e-05 4.5423285e-04 4.3342093e-01]\n",
            "0\n",
            "0\n"
          ]
        }
      ],
      "source": [
        "# Inference test\n",
        "predict_result = model.predict(np.array([X_test[0]]))\n",
        "print(np.squeeze(predict_result))\n",
        "print(np.argmax(np.squeeze(predict_result)))\n",
        "print(y_test[0])"
      ]
    },
    {
      "cell_type": "markdown",
      "metadata": {
        "id": "S3U4yNWx9hE4"
      },
      "source": [
        "# Confusion matrix"
      ]
    },
    {
      "cell_type": "code",
      "execution_count": 17,
      "metadata": {
        "colab": {
          "base_uri": "https://localhost:8080/",
          "height": 582
        },
        "id": "AP1V6SCk9hE5",
        "outputId": "08e41a80-7a4a-4619-8125-ecc371368d19"
      },
      "outputs": [
        {
          "name": "stdout",
          "output_type": "stream",
          "text": [
            "8/8 [==============================] - 0s 2ms/step\n"
          ]
        },
        {
          "data": {
            "image/png": "[encoded data removed]",
            "text/plain": [
              "<Figure size 700x600 with 2 Axes>"
            ]
          },
          "metadata": {},
          "output_type": "display_data"
        },
        {
          "name": "stdout",
          "output_type": "stream",
          "text": [
            "Classification Report\n",
            "              precision    recall  f1-score   support\n",
            "\n",
            "           0       0.98      0.94      0.96        52\n",
            "           1       1.00      1.00      1.00        43\n",
            "           2       0.96      0.98      0.97        47\n",
            "           3       0.98      0.96      0.97        54\n",
            "           4       0.94      0.98      0.96        51\n",
            "\n",
            "    accuracy                           0.97       247\n",
            "   macro avg       0.97      0.97      0.97       247\n",
            "weighted avg       0.97      0.97      0.97       247\n",
            "\n"
          ]
        }
      ],
      "source": [
        "import pandas as pd\n",
        "import seaborn as sns\n",
        "import matplotlib.pyplot as plt\n",
        "from sklearn.metrics import confusion_matrix, classification_report\n",
        "\n",
        "def print_confusion_matrix(y_true, y_pred, report=True):\n",
        "    labels = sorted(list(set(y_true)))\n",
        "    cmx_data = confusion_matrix(y_true, y_pred, labels=labels)\n",
        "    \n",
        "    df_cmx = pd.DataFrame(cmx_data, index=labels, columns=labels)\n",
        " \n",
        "    fig, ax = plt.subplots(figsize=(7, 6))\n",
        "    sns.heatmap(df_cmx, annot=True, fmt='g' ,square=False)\n",
        "    ax.set_ylim(len(set(y_true)), 0)\n",
        "    plt.show()\n",
        "    \n",
        "    if report:\n",
        "        print('Classification Report')\n",
        "        print(classification_report(y_test, y_pred))\n",
        "\n",
        "Y_pred = model.predict(X_test)\n",
        "y_pred = np.argmax(Y_pred, axis=1)\n",
        "\n",
        "print_confusion_matrix(y_test, y_pred)"
      ]
    },
    {
      "cell_type": "markdown",
      "metadata": {
        "id": "FNP6aqzc9hE5"
      },
      "source": [
        "# Convert to model for Tensorflow-Lite"
      ]
    },
    {
      "cell_type": "code",
      "execution_count": 18,
      "metadata": {
        "id": "ODjnYyld9hE6"
      },
      "outputs": [],
      "source": [
        "# Save as a model dedicated to inference\n",
        "model.save(model_save_path)"
      ]
    },
    {
      "cell_type": "code",
      "execution_count": 19,
      "metadata": {},
      "outputs": [
        {
          "name": "stdout",
          "output_type": "stream",
          "text": [
            "INFO:tensorflow:Assets written to: C:\\Users\\zeins\\AppData\\Local\\Temp\\tmpwcrwrlsy\\assets\n"
          ]
        },
        {
          "name": "stderr",
          "output_type": "stream",
          "text": [
            "INFO:tensorflow:Assets written to: C:\\Users\\zeins\\AppData\\Local\\Temp\\tmpwcrwrlsy\\assets\n"
          ]
        },
        {
          "data": {
            "text/plain": [
              "369272"
            ]
          },
          "execution_count": 19,
          "metadata": {},
          "output_type": "execute_result"
        }
      ],
      "source": [
        "\n",
        "converter = tf.lite.TFLiteConverter.from_keras_model(model)\n",
        "converter.optimizations = [tf.lite.Optimize.DEFAULT]\n",
        "tflite_quantized_model = converter.convert()\n",
        "\n",
        "open(tflite_save_path, 'wb').write(tflite_quantized_model)"
      ]
    },
    {
      "cell_type": "code",
      "execution_count": 20,
      "metadata": {},
      "outputs": [],
      "source": [
        "interpreter = tf.lite.Interpreter(model_path=tflite_save_path)\n",
        "interpreter.allocate_tensors()"
      ]
    },
    {
      "cell_type": "code",
      "execution_count": 21,
      "metadata": {},
      "outputs": [],
      "source": [
        "# Get I / O tensor\n",
        "input_details = interpreter.get_input_details()\n",
        "output_details = interpreter.get_output_details()"
      ]
    },
    {
      "cell_type": "code",
      "execution_count": 22,
      "metadata": {},
      "outputs": [
        {
          "name": "stdout",
          "output_type": "stream",
          "text": [
            "[1. 0. 0. 0. 0.]\n",
            "0\n",
            "CPU times: total: 0 ns\n",
            "Wall time: 999 µs\n"
          ]
        }
      ],
      "source": [
        "%%time\n",
        "# Inference implementation\n",
        "interpreter.invoke()\n",
        "tflite_results = interpreter.get_tensor(output_details[0]['index'])\n",
        "print(np.squeeze(tflite_results))\n",
        "print(np.argmax(np.squeeze(tflite_results)))"
      ]
    }
  ],
  "metadata": {
    "accelerator": "GPU",
    "colab": {
      "collapsed_sections": [],
      "name": "keypoint_classification_EN.ipynb",
      "provenance": [],
      "toc_visible": true
    },
    "interpreter": {
      "hash": "85b733480cc67b8cf4f7b44ea859236688838663f0d4c864dc5b1de551a5e467"
    },
    "kernelspec": {
      "display_name": "Python 3.9.4 64-bit ('mpenv': conda)",
      "name": "python3"
    },
    "language_info": {
      "codemirror_mode": {
        "name": "ipython",
        "version": 3
      },
      "file_extension": ".py",
      "mimetype": "text/x-python",
      "name": "python",
      "nbconvert_exporter": "python",
      "pygments_lexer": "ipython3",
      "version": "3.10.13"
    }
  },
  "nbformat": 4,
  "nbformat_minor": 0
}
