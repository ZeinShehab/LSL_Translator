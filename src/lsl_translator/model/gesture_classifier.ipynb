{
  "cells": [
    {
      "cell_type": "code",
      "execution_count": 1,
      "metadata": {
        "id": "igMyGnjE9hEp"
      },
      "outputs": [
        {
          "name": "stdout",
          "output_type": "stream",
          "text": [
            "WARNING:tensorflow:From c:\\Users\\zeins\\anaconda3\\envs\\lsl\\lib\\site-packages\\keras\\src\\losses.py:2976: The name tf.losses.sparse_softmax_cross_entropy is deprecated. Please use tf.compat.v1.losses.sparse_softmax_cross_entropy instead.\n",
            "\n"
          ]
        }
      ],
      "source": [
        "import numpy as np\n",
        "import tensorflow as tf\n",
        "from sklearn.model_selection import train_test_split"
      ]
    },
    {
      "cell_type": "markdown",
      "metadata": {
        "id": "t2HDvhIu9hEr"
      },
      "source": [
        "# Specify each path"
      ]
    },
    {
      "cell_type": "code",
      "execution_count": 4,
      "metadata": {
        "id": "9NvZP2Zn9hEy"
      },
      "outputs": [],
      "source": [
        "data_directory = \"../../../data/\"\n",
        "train_dataset = f'{data_directory}augmented_gestures_train_new.csv'\n",
        "test_dataset = f'{data_directory}augmented_gestures_test_new.csv'\n",
        "model_save_path = './gesture_classifier.keras'\n",
        "tflite_save_path = './gesture_classifier.tflite'"
      ]
    },
    {
      "cell_type": "markdown",
      "metadata": {
        "id": "s5oMH7x19hEz"
      },
      "source": [
        "# Set number of classes"
      ]
    },
    {
      "cell_type": "code",
      "execution_count": 2,
      "metadata": {
        "id": "du4kodXL9hEz"
      },
      "outputs": [],
      "source": [
        "RANDOM_SEED = 42\n",
        "NUM_CLASSES = 2\n",
        "NUM_SEQUENCE_FRAMES = 10\n",
        "MULTI_HAND_LANDMARKS = 126\n",
        "FEATURE_DIM = MULTI_HAND_LANDMARKS * NUM_SEQUENCE_FRAMES"
      ]
    },
    {
      "cell_type": "markdown",
      "metadata": {
        "id": "XjnL0uso9hEz"
      },
      "source": [
        "# Dataset reading"
      ]
    },
    {
      "cell_type": "code",
      "execution_count": 5,
      "metadata": {
        "id": "QT5ZqtEz9hE0"
      },
      "outputs": [],
      "source": [
        "X_train = np.loadtxt(train_dataset, delimiter=',', dtype='float32', usecols=list(range(1, FEATURE_DIM + 1)))\n",
        "X_test_data = np.loadtxt(test_dataset, delimiter=',', dtype='float32', usecols=list(range(1, FEATURE_DIM + 1)))"
      ]
    },
    {
      "cell_type": "code",
      "execution_count": 6,
      "metadata": {
        "id": "QmoKFsp49hE0"
      },
      "outputs": [],
      "source": [
        "y_train = np.loadtxt(train_dataset, delimiter=',', dtype='int32', usecols=(0))\n",
        "y_test_data = np.loadtxt(test_dataset, delimiter=',', dtype='int32', usecols=(0))"
      ]
    },
    {
      "cell_type": "code",
      "execution_count": 7,
      "metadata": {},
      "outputs": [],
      "source": [
        "X_test, X_valid, y_test, y_valid = train_test_split(X_test_data, y_test_data, train_size=0.75, random_state=RANDOM_SEED)"
      ]
    },
    {
      "cell_type": "code",
      "execution_count": 8,
      "metadata": {},
      "outputs": [
        {
          "name": "stdout",
          "output_type": "stream",
          "text": [
            "[0 1]\n",
            "[0 1]\n",
            "[0 1]\n"
          ]
        }
      ],
      "source": [
        "print(np.unique(y_train))\n",
        "print(np.unique(y_test))\n",
        "print(np.unique(y_valid))"
      ]
    },
    {
      "cell_type": "code",
      "execution_count": 9,
      "metadata": {},
      "outputs": [
        {
          "name": "stdout",
          "output_type": "stream",
          "text": [
            "(220, 1260)\n",
            "(220,)\n"
          ]
        }
      ],
      "source": [
        "print(X_train.shape)\n",
        "print(y_train.shape)"
      ]
    },
    {
      "cell_type": "markdown",
      "metadata": {
        "id": "mxK_lETT9hE0"
      },
      "source": [
        "# Model building"
      ]
    },
    {
      "cell_type": "code",
      "execution_count": 10,
      "metadata": {
        "id": "vHBmUf1t9hE1"
      },
      "outputs": [
        {
          "name": "stdout",
          "output_type": "stream",
          "text": [
            "WARNING:tensorflow:From c:\\Users\\zeins\\anaconda3\\envs\\lsl\\lib\\site-packages\\keras\\src\\backend.py:1398: The name tf.executing_eagerly_outside_functions is deprecated. Please use tf.compat.v1.executing_eagerly_outside_functions instead.\n",
            "\n"
          ]
        }
      ],
      "source": [
        "model = tf.keras.models.Sequential([\n",
        "    tf.keras.layers.Input((FEATURE_DIM, )),\n",
        "    # tf.keras.layers.BatchNormalization(),  # Normalizes input features\n",
        "    tf.keras.layers.Dense(256, activation='relu'),\n",
        "    tf.keras.layers.Dropout(0.5),  # Dropout for regularization\n",
        "    tf.keras.layers.Dense(128, activation='relu'),\n",
        "    tf.keras.layers.Dropout(0.3),  # Dropout for regularization\n",
        "    tf.keras.layers.Dense(64, activation='relu'),\n",
        "    tf.keras.layers.Dropout(0.2),  # Dropout for regularization\n",
        "    tf.keras.layers.Dense(NUM_CLASSES, activation='softmax')  # Output layer with 5 units\n",
        "])"
      ]
    },
    {
      "cell_type": "code",
      "execution_count": 11,
      "metadata": {},
      "outputs": [],
      "source": [
        "cp_callback = tf.keras.callbacks.ModelCheckpoint(\n",
        "    model_save_path, verbose=1, save_weights_only=False)\n",
        "# Callback for early stopping\n",
        "es_callback = tf.keras.callbacks.EarlyStopping(patience=20, verbose=1)"
      ]
    },
    {
      "cell_type": "code",
      "execution_count": 12,
      "metadata": {},
      "outputs": [
        {
          "name": "stdout",
          "output_type": "stream",
          "text": [
            "WARNING:tensorflow:From c:\\Users\\zeins\\anaconda3\\envs\\lsl\\lib\\site-packages\\keras\\src\\optimizers\\__init__.py:309: The name tf.train.Optimizer is deprecated. Please use tf.compat.v1.train.Optimizer instead.\n",
            "\n"
          ]
        }
      ],
      "source": [
        "# Model compilation\n",
        "model.compile(\n",
        "    optimizer='adam',\n",
        "    loss='sparse_categorical_crossentropy',\n",
        "    metrics=['accuracy']\n",
        ")"
      ]
    },
    {
      "cell_type": "code",
      "execution_count": 13,
      "metadata": {},
      "outputs": [
        {
          "name": "stdout",
          "output_type": "stream",
          "text": [
            "Epoch 1/1000\n",
            "WARNING:tensorflow:From c:\\Users\\zeins\\anaconda3\\envs\\lsl\\lib\\site-packages\\keras\\src\\utils\\tf_utils.py:492: The name tf.ragged.RaggedTensorValue is deprecated. Please use tf.compat.v1.ragged.RaggedTensorValue instead.\n",
            "\n",
            "WARNING:tensorflow:From c:\\Users\\zeins\\anaconda3\\envs\\lsl\\lib\\site-packages\\keras\\src\\engine\\base_layer_utils.py:384: The name tf.executing_eagerly_outside_functions is deprecated. Please use tf.compat.v1.executing_eagerly_outside_functions instead.\n",
            "\n",
            "1/2 [==============>...............] - ETA: 0s - loss: 0.7829 - accuracy: 0.4688\n",
            "Epoch 1: saving model to .\\gesture_classifier.keras\n",
            "2/2 [==============================] - 1s 225ms/step - loss: 0.7777 - accuracy: 0.5045 - val_loss: 0.6646 - val_accuracy: 0.5152\n",
            "Epoch 2/1000\n",
            "1/2 [==============>...............] - ETA: 0s - loss: 0.7075 - accuracy: 0.4688\n",
            "Epoch 2: saving model to .\\gesture_classifier.keras\n",
            "2/2 [==============================] - 0s 58ms/step - loss: 0.7089 - accuracy: 0.4955 - val_loss: 0.6673 - val_accuracy: 0.4848\n",
            "Epoch 3/1000\n",
            "1/2 [==============>...............] - ETA: 0s - loss: 0.6944 - accuracy: 0.5234\n",
            "Epoch 3: saving model to .\\gesture_classifier.keras\n",
            "2/2 [==============================] - 0s 60ms/step - loss: 0.6841 - accuracy: 0.5591 - val_loss: 0.6857 - val_accuracy: 0.5152\n",
            "Epoch 4/1000\n",
            "1/2 [==============>...............] - ETA: 0s - loss: 0.6758 - accuracy: 0.5703\n",
            "Epoch 4: saving model to .\\gesture_classifier.keras\n",
            "2/2 [==============================] - 0s 81ms/step - loss: 0.6727 - accuracy: 0.5864 - val_loss: 0.6632 - val_accuracy: 0.5152\n",
            "Epoch 5/1000\n",
            "1/2 [==============>...............] - ETA: 0s - loss: 0.6755 - accuracy: 0.5781\n",
            "Epoch 5: saving model to .\\gesture_classifier.keras\n",
            "2/2 [==============================] - 0s 59ms/step - loss: 0.6848 - accuracy: 0.5682 - val_loss: 0.6191 - val_accuracy: 1.0000\n",
            "Epoch 6/1000\n",
            "1/2 [==============>...............] - ETA: 0s - loss: 0.6650 - accuracy: 0.5703\n",
            "Epoch 6: saving model to .\\gesture_classifier.keras\n",
            "2/2 [==============================] - 0s 58ms/step - loss: 0.6710 - accuracy: 0.5636 - val_loss: 0.6064 - val_accuracy: 0.4848\n",
            "Epoch 7/1000\n",
            "1/2 [==============>...............] - ETA: 0s - loss: 0.6491 - accuracy: 0.6250\n",
            "Epoch 7: saving model to .\\gesture_classifier.keras\n",
            "2/2 [==============================] - 0s 60ms/step - loss: 0.6551 - accuracy: 0.6091 - val_loss: 0.5684 - val_accuracy: 1.0000\n",
            "Epoch 8/1000\n",
            "1/2 [==============>...............] - ETA: 0s - loss: 0.6348 - accuracy: 0.6484\n",
            "Epoch 8: saving model to .\\gesture_classifier.keras\n",
            "2/2 [==============================] - 0s 61ms/step - loss: 0.6278 - accuracy: 0.6591 - val_loss: 0.5637 - val_accuracy: 0.9697\n",
            "Epoch 9/1000\n",
            "1/2 [==============>...............] - ETA: 0s - loss: 0.6220 - accuracy: 0.6562\n",
            "Epoch 9: saving model to .\\gesture_classifier.keras\n",
            "2/2 [==============================] - 0s 57ms/step - loss: 0.6375 - accuracy: 0.6591 - val_loss: 0.5332 - val_accuracy: 0.9697\n",
            "Epoch 10/1000\n",
            "1/2 [==============>...............] - ETA: 0s - loss: 0.5928 - accuracy: 0.6953\n",
            "Epoch 10: saving model to .\\gesture_classifier.keras\n",
            "2/2 [==============================] - 0s 58ms/step - loss: 0.5879 - accuracy: 0.7045 - val_loss: 0.4927 - val_accuracy: 1.0000\n",
            "Epoch 11/1000\n",
            "1/2 [==============>...............] - ETA: 0s - loss: 0.5597 - accuracy: 0.7422\n",
            "Epoch 11: saving model to .\\gesture_classifier.keras\n",
            "2/2 [==============================] - 0s 59ms/step - loss: 0.5401 - accuracy: 0.7364 - val_loss: 0.4579 - val_accuracy: 1.0000\n",
            "Epoch 12/1000\n",
            "1/2 [==============>...............] - ETA: 0s - loss: 0.5654 - accuracy: 0.6875\n",
            "Epoch 12: saving model to .\\gesture_classifier.keras\n",
            "2/2 [==============================] - 0s 59ms/step - loss: 0.5368 - accuracy: 0.7318 - val_loss: 0.3906 - val_accuracy: 1.0000\n",
            "Epoch 13/1000\n",
            "1/2 [==============>...............] - ETA: 0s - loss: 0.4908 - accuracy: 0.7812\n",
            "Epoch 13: saving model to .\\gesture_classifier.keras\n",
            "2/2 [==============================] - 0s 62ms/step - loss: 0.5107 - accuracy: 0.7455 - val_loss: 0.3514 - val_accuracy: 1.0000\n",
            "Epoch 14/1000\n",
            "1/2 [==============>...............] - ETA: 0s - loss: 0.4279 - accuracy: 0.8594\n",
            "Epoch 14: saving model to .\\gesture_classifier.keras\n",
            "2/2 [==============================] - 0s 59ms/step - loss: 0.4235 - accuracy: 0.8545 - val_loss: 0.3330 - val_accuracy: 1.0000\n",
            "Epoch 15/1000\n",
            "1/2 [==============>...............] - ETA: 0s - loss: 0.4327 - accuracy: 0.8359\n",
            "Epoch 15: saving model to .\\gesture_classifier.keras\n",
            "2/2 [==============================] - 0s 60ms/step - loss: 0.4258 - accuracy: 0.8409 - val_loss: 0.2606 - val_accuracy: 1.0000\n",
            "Epoch 16/1000\n",
            "1/2 [==============>...............] - ETA: 0s - loss: 0.3729 - accuracy: 0.8750\n",
            "Epoch 16: saving model to .\\gesture_classifier.keras\n",
            "2/2 [==============================] - 0s 57ms/step - loss: 0.3698 - accuracy: 0.8682 - val_loss: 0.1945 - val_accuracy: 1.0000\n",
            "Epoch 17/1000\n",
            "1/2 [==============>...............] - ETA: 0s - loss: 0.3244 - accuracy: 0.9375\n",
            "Epoch 17: saving model to .\\gesture_classifier.keras\n",
            "2/2 [==============================] - 0s 58ms/step - loss: 0.3106 - accuracy: 0.9318 - val_loss: 0.1769 - val_accuracy: 1.0000\n",
            "Epoch 18/1000\n",
            "1/2 [==============>...............] - ETA: 0s - loss: 0.2441 - accuracy: 0.9688\n",
            "Epoch 18: saving model to .\\gesture_classifier.keras\n",
            "2/2 [==============================] - 0s 59ms/step - loss: 0.2449 - accuracy: 0.9545 - val_loss: 0.1565 - val_accuracy: 1.0000\n",
            "Epoch 19/1000\n",
            "1/2 [==============>...............] - ETA: 0s - loss: 0.2228 - accuracy: 0.9609\n",
            "Epoch 19: saving model to .\\gesture_classifier.keras\n",
            "2/2 [==============================] - 0s 61ms/step - loss: 0.2371 - accuracy: 0.9545 - val_loss: 0.1163 - val_accuracy: 1.0000\n",
            "Epoch 20/1000\n",
            "1/2 [==============>...............] - ETA: 0s - loss: 0.2137 - accuracy: 0.9609\n",
            "Epoch 20: saving model to .\\gesture_classifier.keras\n",
            "2/2 [==============================] - 0s 57ms/step - loss: 0.1944 - accuracy: 0.9682 - val_loss: 0.0921 - val_accuracy: 1.0000\n",
            "Epoch 21/1000\n",
            "1/2 [==============>...............] - ETA: 0s - loss: 0.1812 - accuracy: 0.9922\n",
            "Epoch 21: saving model to .\\gesture_classifier.keras\n",
            "2/2 [==============================] - 0s 57ms/step - loss: 0.1670 - accuracy: 0.9909 - val_loss: 0.0851 - val_accuracy: 1.0000\n",
            "Epoch 22/1000\n",
            "1/2 [==============>...............] - ETA: 0s - loss: 0.1472 - accuracy: 0.9844\n",
            "Epoch 22: saving model to .\\gesture_classifier.keras\n",
            "2/2 [==============================] - 0s 58ms/step - loss: 0.1373 - accuracy: 0.9818 - val_loss: 0.0453 - val_accuracy: 1.0000\n",
            "Epoch 23/1000\n",
            "1/2 [==============>...............] - ETA: 0s - loss: 0.1104 - accuracy: 0.9766\n",
            "Epoch 23: saving model to .\\gesture_classifier.keras\n",
            "2/2 [==============================] - 0s 61ms/step - loss: 0.1068 - accuracy: 0.9773 - val_loss: 0.0301 - val_accuracy: 1.0000\n",
            "Epoch 24/1000\n",
            "1/2 [==============>...............] - ETA: 0s - loss: 0.1028 - accuracy: 0.9844\n",
            "Epoch 24: saving model to .\\gesture_classifier.keras\n",
            "2/2 [==============================] - 0s 59ms/step - loss: 0.0932 - accuracy: 0.9818 - val_loss: 0.0376 - val_accuracy: 1.0000\n",
            "Epoch 25/1000\n",
            "1/2 [==============>...............] - ETA: 0s - loss: 0.0788 - accuracy: 0.9922\n",
            "Epoch 25: saving model to .\\gesture_classifier.keras\n",
            "2/2 [==============================] - 0s 59ms/step - loss: 0.0900 - accuracy: 0.9864 - val_loss: 0.0167 - val_accuracy: 1.0000\n",
            "Epoch 26/1000\n",
            "1/2 [==============>...............] - ETA: 0s - loss: 0.0536 - accuracy: 0.9922\n",
            "Epoch 26: saving model to .\\gesture_classifier.keras\n",
            "2/2 [==============================] - 0s 56ms/step - loss: 0.0514 - accuracy: 0.9909 - val_loss: 0.0100 - val_accuracy: 1.0000\n",
            "Epoch 27/1000\n",
            "1/2 [==============>...............] - ETA: 0s - loss: 0.0559 - accuracy: 0.9844\n",
            "Epoch 27: saving model to .\\gesture_classifier.keras\n",
            "2/2 [==============================] - 0s 60ms/step - loss: 0.0515 - accuracy: 0.9864 - val_loss: 0.0070 - val_accuracy: 1.0000\n",
            "Epoch 28/1000\n",
            "1/2 [==============>...............] - ETA: 0s - loss: 0.0353 - accuracy: 1.0000\n",
            "Epoch 28: saving model to .\\gesture_classifier.keras\n",
            "2/2 [==============================] - 0s 61ms/step - loss: 0.0304 - accuracy: 1.0000 - val_loss: 0.0079 - val_accuracy: 1.0000\n",
            "Epoch 29/1000\n",
            "1/2 [==============>...............] - ETA: 0s - loss: 0.0372 - accuracy: 1.0000\n",
            "Epoch 29: saving model to .\\gesture_classifier.keras\n",
            "2/2 [==============================] - 0s 60ms/step - loss: 0.0360 - accuracy: 0.9955 - val_loss: 0.0085 - val_accuracy: 1.0000\n",
            "Epoch 30/1000\n",
            "1/2 [==============>...............] - ETA: 0s - loss: 0.0475 - accuracy: 0.9922\n",
            "Epoch 30: saving model to .\\gesture_classifier.keras\n",
            "2/2 [==============================] - 0s 58ms/step - loss: 0.0413 - accuracy: 0.9909 - val_loss: 0.0033 - val_accuracy: 1.0000\n",
            "Epoch 31/1000\n",
            "1/2 [==============>...............] - ETA: 0s - loss: 0.0209 - accuracy: 1.0000\n",
            "Epoch 31: saving model to .\\gesture_classifier.keras\n",
            "2/2 [==============================] - 0s 58ms/step - loss: 0.0255 - accuracy: 0.9955 - val_loss: 0.0024 - val_accuracy: 1.0000\n",
            "Epoch 32/1000\n",
            "1/2 [==============>...............] - ETA: 0s - loss: 0.0211 - accuracy: 1.0000\n",
            "Epoch 32: saving model to .\\gesture_classifier.keras\n",
            "2/2 [==============================] - 0s 57ms/step - loss: 0.0227 - accuracy: 0.9955 - val_loss: 0.0020 - val_accuracy: 1.0000\n",
            "Epoch 33/1000\n",
            "1/2 [==============>...............] - ETA: 0s - loss: 0.0238 - accuracy: 1.0000\n",
            "Epoch 33: saving model to .\\gesture_classifier.keras\n",
            "2/2 [==============================] - 0s 63ms/step - loss: 0.0195 - accuracy: 1.0000 - val_loss: 0.0018 - val_accuracy: 1.0000\n",
            "Epoch 34/1000\n",
            "1/2 [==============>...............] - ETA: 0s - loss: 0.0185 - accuracy: 0.9922\n",
            "Epoch 34: saving model to .\\gesture_classifier.keras\n",
            "2/2 [==============================] - 0s 61ms/step - loss: 0.0193 - accuracy: 0.9955 - val_loss: 0.0025 - val_accuracy: 1.0000\n",
            "Epoch 35/1000\n",
            "1/2 [==============>...............] - ETA: 0s - loss: 0.0206 - accuracy: 1.0000\n",
            "Epoch 35: saving model to .\\gesture_classifier.keras\n",
            "2/2 [==============================] - 0s 59ms/step - loss: 0.0229 - accuracy: 1.0000 - val_loss: 0.0019 - val_accuracy: 1.0000\n",
            "Epoch 36/1000\n",
            "1/2 [==============>...............] - ETA: 0s - loss: 0.0159 - accuracy: 0.9922\n",
            "Epoch 36: saving model to .\\gesture_classifier.keras\n",
            "2/2 [==============================] - 0s 57ms/step - loss: 0.0180 - accuracy: 0.9955 - val_loss: 0.0010 - val_accuracy: 1.0000\n",
            "Epoch 37/1000\n",
            "1/2 [==============>...............] - ETA: 0s - loss: 0.0132 - accuracy: 1.0000\n",
            "Epoch 37: saving model to .\\gesture_classifier.keras\n",
            "2/2 [==============================] - 0s 60ms/step - loss: 0.0143 - accuracy: 0.9955 - val_loss: 0.0011 - val_accuracy: 1.0000\n",
            "Epoch 38/1000\n",
            "1/2 [==============>...............] - ETA: 0s - loss: 0.0124 - accuracy: 1.0000\n",
            "Epoch 38: saving model to .\\gesture_classifier.keras\n",
            "2/2 [==============================] - 0s 57ms/step - loss: 0.0165 - accuracy: 0.9955 - val_loss: 9.2483e-04 - val_accuracy: 1.0000\n",
            "Epoch 39/1000\n",
            "1/2 [==============>...............] - ETA: 0s - loss: 0.0142 - accuracy: 1.0000\n",
            "Epoch 39: saving model to .\\gesture_classifier.keras\n",
            "2/2 [==============================] - 0s 57ms/step - loss: 0.0116 - accuracy: 1.0000 - val_loss: 7.4548e-04 - val_accuracy: 1.0000\n",
            "Epoch 40/1000\n",
            "1/2 [==============>...............] - ETA: 0s - loss: 0.0058 - accuracy: 1.0000\n",
            "Epoch 40: saving model to .\\gesture_classifier.keras\n",
            "2/2 [==============================] - 0s 58ms/step - loss: 0.0124 - accuracy: 0.9955 - val_loss: 7.9664e-04 - val_accuracy: 1.0000\n",
            "Epoch 41/1000\n",
            "1/2 [==============>...............] - ETA: 0s - loss: 0.0062 - accuracy: 1.0000\n",
            "Epoch 41: saving model to .\\gesture_classifier.keras\n",
            "2/2 [==============================] - 0s 60ms/step - loss: 0.0074 - accuracy: 1.0000 - val_loss: 0.0011 - val_accuracy: 1.0000\n",
            "Epoch 42/1000\n",
            "1/2 [==============>...............] - ETA: 0s - loss: 0.0075 - accuracy: 1.0000\n",
            "Epoch 42: saving model to .\\gesture_classifier.keras\n",
            "2/2 [==============================] - 0s 59ms/step - loss: 0.0067 - accuracy: 1.0000 - val_loss: 0.0012 - val_accuracy: 1.0000\n",
            "Epoch 43/1000\n",
            "1/2 [==============>...............] - ETA: 0s - loss: 0.0123 - accuracy: 1.0000\n",
            "Epoch 43: saving model to .\\gesture_classifier.keras\n",
            "2/2 [==============================] - 0s 60ms/step - loss: 0.0100 - accuracy: 1.0000 - val_loss: 7.9995e-04 - val_accuracy: 1.0000\n",
            "Epoch 44/1000\n",
            "1/2 [==============>...............] - ETA: 0s - loss: 0.0069 - accuracy: 1.0000\n",
            "Epoch 44: saving model to .\\gesture_classifier.keras\n",
            "2/2 [==============================] - 0s 58ms/step - loss: 0.0057 - accuracy: 1.0000 - val_loss: 4.7504e-04 - val_accuracy: 1.0000\n",
            "Epoch 45/1000\n",
            "1/2 [==============>...............] - ETA: 0s - loss: 0.0045 - accuracy: 1.0000\n",
            "Epoch 45: saving model to .\\gesture_classifier.keras\n",
            "2/2 [==============================] - 0s 62ms/step - loss: 0.0037 - accuracy: 1.0000 - val_loss: 3.1247e-04 - val_accuracy: 1.0000\n",
            "Epoch 46/1000\n",
            "1/2 [==============>...............] - ETA: 0s - loss: 0.0058 - accuracy: 1.0000\n",
            "Epoch 46: saving model to .\\gesture_classifier.keras\n",
            "2/2 [==============================] - 0s 56ms/step - loss: 0.0056 - accuracy: 1.0000 - val_loss: 2.5547e-04 - val_accuracy: 1.0000\n",
            "Epoch 47/1000\n",
            "1/2 [==============>...............] - ETA: 0s - loss: 0.0068 - accuracy: 1.0000\n",
            "Epoch 47: saving model to .\\gesture_classifier.keras\n",
            "2/2 [==============================] - 0s 57ms/step - loss: 0.0056 - accuracy: 1.0000 - val_loss: 2.2436e-04 - val_accuracy: 1.0000\n",
            "Epoch 48/1000\n",
            "1/2 [==============>...............] - ETA: 0s - loss: 0.0128 - accuracy: 1.0000\n",
            "Epoch 48: saving model to .\\gesture_classifier.keras\n",
            "2/2 [==============================] - 0s 60ms/step - loss: 0.0094 - accuracy: 1.0000 - val_loss: 2.7960e-04 - val_accuracy: 1.0000\n",
            "Epoch 49/1000\n",
            "1/2 [==============>...............] - ETA: 0s - loss: 0.0020 - accuracy: 1.0000\n",
            "Epoch 49: saving model to .\\gesture_classifier.keras\n",
            "2/2 [==============================] - 0s 58ms/step - loss: 0.0022 - accuracy: 1.0000 - val_loss: 3.5853e-04 - val_accuracy: 1.0000\n",
            "Epoch 50/1000\n",
            "1/2 [==============>...............] - ETA: 0s - loss: 0.0015 - accuracy: 1.0000\n",
            "Epoch 50: saving model to .\\gesture_classifier.keras\n",
            "2/2 [==============================] - 0s 59ms/step - loss: 0.0020 - accuracy: 1.0000 - val_loss: 4.1419e-04 - val_accuracy: 1.0000\n",
            "Epoch 51/1000\n",
            "1/2 [==============>...............] - ETA: 0s - loss: 0.0068 - accuracy: 1.0000\n",
            "Epoch 51: saving model to .\\gesture_classifier.keras\n",
            "2/2 [==============================] - 0s 60ms/step - loss: 0.0053 - accuracy: 1.0000 - val_loss: 3.0470e-04 - val_accuracy: 1.0000\n",
            "Epoch 52/1000\n",
            "1/2 [==============>...............] - ETA: 0s - loss: 0.0038 - accuracy: 1.0000\n",
            "Epoch 52: saving model to .\\gesture_classifier.keras\n",
            "2/2 [==============================] - 0s 60ms/step - loss: 0.0031 - accuracy: 1.0000 - val_loss: 1.9649e-04 - val_accuracy: 1.0000\n",
            "Epoch 53/1000\n",
            "1/2 [==============>...............] - ETA: 0s - loss: 0.0019 - accuracy: 1.0000\n",
            "Epoch 53: saving model to .\\gesture_classifier.keras\n",
            "2/2 [==============================] - 0s 59ms/step - loss: 0.0022 - accuracy: 1.0000 - val_loss: 1.3987e-04 - val_accuracy: 1.0000\n",
            "Epoch 54/1000\n",
            "1/2 [==============>...............] - ETA: 0s - loss: 0.0051 - accuracy: 1.0000\n",
            "Epoch 54: saving model to .\\gesture_classifier.keras\n",
            "2/2 [==============================] - 0s 61ms/step - loss: 0.0045 - accuracy: 1.0000 - val_loss: 1.1663e-04 - val_accuracy: 1.0000\n",
            "Epoch 55/1000\n",
            "1/2 [==============>...............] - ETA: 0s - loss: 0.0025 - accuracy: 1.0000\n",
            "Epoch 55: saving model to .\\gesture_classifier.keras\n",
            "2/2 [==============================] - 0s 64ms/step - loss: 0.0021 - accuracy: 1.0000 - val_loss: 1.0413e-04 - val_accuracy: 1.0000\n",
            "Epoch 56/1000\n",
            "1/2 [==============>...............] - ETA: 0s - loss: 0.0028 - accuracy: 1.0000\n",
            "Epoch 56: saving model to .\\gesture_classifier.keras\n",
            "2/2 [==============================] - 0s 59ms/step - loss: 0.0025 - accuracy: 1.0000 - val_loss: 9.6695e-05 - val_accuracy: 1.0000\n",
            "Epoch 57/1000\n",
            "1/2 [==============>...............] - ETA: 0s - loss: 0.0039 - accuracy: 1.0000\n",
            "Epoch 57: saving model to .\\gesture_classifier.keras\n",
            "2/2 [==============================] - 0s 59ms/step - loss: 0.0029 - accuracy: 1.0000 - val_loss: 8.9984e-05 - val_accuracy: 1.0000\n",
            "Epoch 58/1000\n",
            "1/2 [==============>...............] - ETA: 0s - loss: 0.0011 - accuracy: 1.0000\n",
            "Epoch 58: saving model to .\\gesture_classifier.keras\n",
            "2/2 [==============================] - 0s 61ms/step - loss: 0.0016 - accuracy: 1.0000 - val_loss: 8.5996e-05 - val_accuracy: 1.0000\n",
            "Epoch 59/1000\n",
            "1/2 [==============>...............] - ETA: 0s - loss: 0.0017 - accuracy: 1.0000\n",
            "Epoch 59: saving model to .\\gesture_classifier.keras\n",
            "2/2 [==============================] - 0s 69ms/step - loss: 0.0043 - accuracy: 1.0000 - val_loss: 9.9125e-05 - val_accuracy: 1.0000\n",
            "Epoch 60/1000\n",
            "1/2 [==============>...............] - ETA: 0s - loss: 0.0030 - accuracy: 1.0000\n",
            "Epoch 60: saving model to .\\gesture_classifier.keras\n",
            "2/2 [==============================] - 0s 72ms/step - loss: 0.0027 - accuracy: 1.0000 - val_loss: 1.2526e-04 - val_accuracy: 1.0000\n",
            "Epoch 61/1000\n",
            "1/2 [==============>...............] - ETA: 0s - loss: 0.0038 - accuracy: 1.0000\n",
            "Epoch 61: saving model to .\\gesture_classifier.keras\n",
            "2/2 [==============================] - 0s 59ms/step - loss: 0.0035 - accuracy: 1.0000 - val_loss: 1.2942e-04 - val_accuracy: 1.0000\n",
            "Epoch 62/1000\n",
            "1/2 [==============>...............] - ETA: 0s - loss: 0.0033 - accuracy: 1.0000\n",
            "Epoch 62: saving model to .\\gesture_classifier.keras\n",
            "2/2 [==============================] - 0s 59ms/step - loss: 0.0030 - accuracy: 1.0000 - val_loss: 1.1962e-04 - val_accuracy: 1.0000\n",
            "Epoch 63/1000\n",
            "1/2 [==============>...............] - ETA: 0s - loss: 0.0011 - accuracy: 1.0000\n",
            "Epoch 63: saving model to .\\gesture_classifier.keras\n",
            "2/2 [==============================] - 0s 60ms/step - loss: 0.0011 - accuracy: 1.0000 - val_loss: 1.1029e-04 - val_accuracy: 1.0000\n",
            "Epoch 64/1000\n",
            "1/2 [==============>...............] - ETA: 0s - loss: 0.0011 - accuracy: 1.0000\n",
            "Epoch 64: saving model to .\\gesture_classifier.keras\n",
            "2/2 [==============================] - 0s 62ms/step - loss: 0.0012 - accuracy: 1.0000 - val_loss: 1.0171e-04 - val_accuracy: 1.0000\n",
            "Epoch 65/1000\n",
            "1/2 [==============>...............] - ETA: 0s - loss: 0.0018 - accuracy: 1.0000\n",
            "Epoch 65: saving model to .\\gesture_classifier.keras\n",
            "2/2 [==============================] - 0s 61ms/step - loss: 0.0023 - accuracy: 1.0000 - val_loss: 9.4506e-05 - val_accuracy: 1.0000\n",
            "Epoch 66/1000\n",
            "1/2 [==============>...............] - ETA: 0s - loss: 0.0034 - accuracy: 1.0000\n",
            "Epoch 66: saving model to .\\gesture_classifier.keras\n",
            "2/2 [==============================] - 0s 59ms/step - loss: 0.0024 - accuracy: 1.0000 - val_loss: 9.7381e-05 - val_accuracy: 1.0000\n",
            "Epoch 67/1000\n",
            "1/2 [==============>...............] - ETA: 0s - loss: 0.0032 - accuracy: 1.0000\n",
            "Epoch 67: saving model to .\\gesture_classifier.keras\n",
            "2/2 [==============================] - 0s 59ms/step - loss: 0.0031 - accuracy: 1.0000 - val_loss: 1.0290e-04 - val_accuracy: 1.0000\n",
            "Epoch 68/1000\n",
            "1/2 [==============>...............] - ETA: 0s - loss: 0.0015 - accuracy: 1.0000\n",
            "Epoch 68: saving model to .\\gesture_classifier.keras\n",
            "2/2 [==============================] - 0s 61ms/step - loss: 0.0012 - accuracy: 1.0000 - val_loss: 1.0669e-04 - val_accuracy: 1.0000\n",
            "Epoch 69/1000\n",
            "1/2 [==============>...............] - ETA: 0s - loss: 0.0019 - accuracy: 1.0000\n",
            "Epoch 69: saving model to .\\gesture_classifier.keras\n",
            "2/2 [==============================] - 0s 59ms/step - loss: 0.0017 - accuracy: 1.0000 - val_loss: 1.0824e-04 - val_accuracy: 1.0000\n",
            "Epoch 70/1000\n",
            "1/2 [==============>...............] - ETA: 0s - loss: 0.0010 - accuracy: 1.0000\n",
            "Epoch 70: saving model to .\\gesture_classifier.keras\n",
            "2/2 [==============================] - 0s 61ms/step - loss: 9.4186e-04 - accuracy: 1.0000 - val_loss: 1.0260e-04 - val_accuracy: 1.0000\n",
            "Epoch 71/1000\n",
            "1/2 [==============>...............] - ETA: 0s - loss: 0.0014 - accuracy: 1.0000\n",
            "Epoch 71: saving model to .\\gesture_classifier.keras\n",
            "2/2 [==============================] - 0s 57ms/step - loss: 0.0057 - accuracy: 0.9955 - val_loss: 7.7471e-05 - val_accuracy: 1.0000\n",
            "Epoch 72/1000\n",
            "1/2 [==============>...............] - ETA: 0s - loss: 0.0014 - accuracy: 1.0000\n",
            "Epoch 72: saving model to .\\gesture_classifier.keras\n",
            "2/2 [==============================] - 0s 58ms/step - loss: 0.0016 - accuracy: 1.0000 - val_loss: 7.1815e-05 - val_accuracy: 1.0000\n",
            "Epoch 73/1000\n",
            "1/2 [==============>...............] - ETA: 0s - loss: 0.0015 - accuracy: 1.0000\n",
            "Epoch 73: saving model to .\\gesture_classifier.keras\n",
            "2/2 [==============================] - 0s 73ms/step - loss: 0.0023 - accuracy: 1.0000 - val_loss: 8.4111e-05 - val_accuracy: 1.0000\n",
            "Epoch 74/1000\n",
            "1/2 [==============>...............] - ETA: 0s - loss: 0.0018 - accuracy: 1.0000\n",
            "Epoch 74: saving model to .\\gesture_classifier.keras\n",
            "2/2 [==============================] - 0s 60ms/step - loss: 0.0015 - accuracy: 1.0000 - val_loss: 9.5484e-05 - val_accuracy: 1.0000\n",
            "Epoch 75/1000\n",
            "1/2 [==============>...............] - ETA: 0s - loss: 0.0026 - accuracy: 1.0000\n",
            "Epoch 75: saving model to .\\gesture_classifier.keras\n",
            "2/2 [==============================] - 0s 58ms/step - loss: 0.0021 - accuracy: 1.0000 - val_loss: 9.6990e-05 - val_accuracy: 1.0000\n",
            "Epoch 76/1000\n",
            "1/2 [==============>...............] - ETA: 0s - loss: 0.0011 - accuracy: 1.0000\n",
            "Epoch 76: saving model to .\\gesture_classifier.keras\n",
            "2/2 [==============================] - 0s 58ms/step - loss: 0.0024 - accuracy: 1.0000 - val_loss: 8.6899e-05 - val_accuracy: 1.0000\n",
            "Epoch 77/1000\n",
            "1/2 [==============>...............] - ETA: 0s - loss: 0.0023 - accuracy: 1.0000\n",
            "Epoch 77: saving model to .\\gesture_classifier.keras\n",
            "2/2 [==============================] - 0s 59ms/step - loss: 0.0021 - accuracy: 1.0000 - val_loss: 7.3618e-05 - val_accuracy: 1.0000\n",
            "Epoch 78/1000\n",
            "1/2 [==============>...............] - ETA: 0s - loss: 0.0022 - accuracy: 1.0000\n",
            "Epoch 78: saving model to .\\gesture_classifier.keras\n",
            "2/2 [==============================] - 0s 59ms/step - loss: 0.0019 - accuracy: 1.0000 - val_loss: 6.5830e-05 - val_accuracy: 1.0000\n",
            "Epoch 79/1000\n",
            "1/2 [==============>...............] - ETA: 0s - loss: 0.0021 - accuracy: 1.0000\n",
            "Epoch 79: saving model to .\\gesture_classifier.keras\n",
            "2/2 [==============================] - 0s 61ms/step - loss: 0.0017 - accuracy: 1.0000 - val_loss: 6.2174e-05 - val_accuracy: 1.0000\n",
            "Epoch 80/1000\n",
            "1/2 [==============>...............] - ETA: 0s - loss: 0.0035 - accuracy: 1.0000\n",
            "Epoch 80: saving model to .\\gesture_classifier.keras\n",
            "2/2 [==============================] - 0s 59ms/step - loss: 0.0025 - accuracy: 1.0000 - val_loss: 5.4795e-05 - val_accuracy: 1.0000\n",
            "Epoch 81/1000\n",
            "1/2 [==============>...............] - ETA: 0s - loss: 8.9396e-04 - accuracy: 1.0000\n",
            "Epoch 81: saving model to .\\gesture_classifier.keras\n",
            "2/2 [==============================] - 0s 58ms/step - loss: 0.0013 - accuracy: 1.0000 - val_loss: 4.7758e-05 - val_accuracy: 1.0000\n",
            "Epoch 82/1000\n",
            "1/2 [==============>...............] - ETA: 0s - loss: 7.6807e-04 - accuracy: 1.0000\n",
            "Epoch 82: saving model to .\\gesture_classifier.keras\n",
            "2/2 [==============================] - 0s 59ms/step - loss: 6.6854e-04 - accuracy: 1.0000 - val_loss: 4.1776e-05 - val_accuracy: 1.0000\n",
            "Epoch 83/1000\n",
            "1/2 [==============>...............] - ETA: 0s - loss: 0.0031 - accuracy: 1.0000\n",
            "Epoch 83: saving model to .\\gesture_classifier.keras\n",
            "2/2 [==============================] - 0s 60ms/step - loss: 0.0024 - accuracy: 1.0000 - val_loss: 4.4290e-05 - val_accuracy: 1.0000\n",
            "Epoch 84/1000\n",
            "1/2 [==============>...............] - ETA: 0s - loss: 8.5525e-04 - accuracy: 1.0000\n",
            "Epoch 84: saving model to .\\gesture_classifier.keras\n",
            "2/2 [==============================] - 0s 63ms/step - loss: 8.3849e-04 - accuracy: 1.0000 - val_loss: 4.6403e-05 - val_accuracy: 1.0000\n",
            "Epoch 85/1000\n",
            "1/2 [==============>...............] - ETA: 0s - loss: 0.0012 - accuracy: 1.0000\n",
            "Epoch 85: saving model to .\\gesture_classifier.keras\n",
            "2/2 [==============================] - 0s 58ms/step - loss: 0.0011 - accuracy: 1.0000 - val_loss: 4.6024e-05 - val_accuracy: 1.0000\n",
            "Epoch 86/1000\n",
            "1/2 [==============>...............] - ETA: 0s - loss: 8.3751e-04 - accuracy: 1.0000\n",
            "Epoch 86: saving model to .\\gesture_classifier.keras\n",
            "2/2 [==============================] - 0s 58ms/step - loss: 6.4277e-04 - accuracy: 1.0000 - val_loss: 4.2498e-05 - val_accuracy: 1.0000\n",
            "Epoch 87/1000\n",
            "1/2 [==============>...............] - ETA: 0s - loss: 6.0460e-04 - accuracy: 1.0000\n",
            "Epoch 87: saving model to .\\gesture_classifier.keras\n",
            "2/2 [==============================] - 0s 61ms/step - loss: 6.2508e-04 - accuracy: 1.0000 - val_loss: 3.7792e-05 - val_accuracy: 1.0000\n",
            "Epoch 88/1000\n",
            "1/2 [==============>...............] - ETA: 0s - loss: 0.0012 - accuracy: 1.0000\n",
            "Epoch 88: saving model to .\\gesture_classifier.keras\n",
            "2/2 [==============================] - 0s 59ms/step - loss: 8.9927e-04 - accuracy: 1.0000 - val_loss: 3.1517e-05 - val_accuracy: 1.0000\n",
            "Epoch 89/1000\n",
            "1/2 [==============>...............] - ETA: 0s - loss: 0.0018 - accuracy: 1.0000\n",
            "Epoch 89: saving model to .\\gesture_classifier.keras\n",
            "2/2 [==============================] - 0s 60ms/step - loss: 0.0013 - accuracy: 1.0000 - val_loss: 2.4004e-05 - val_accuracy: 1.0000\n",
            "Epoch 90/1000\n",
            "1/2 [==============>...............] - ETA: 0s - loss: 5.3552e-04 - accuracy: 1.0000\n",
            "Epoch 90: saving model to .\\gesture_classifier.keras\n",
            "2/2 [==============================] - 0s 57ms/step - loss: 4.2696e-04 - accuracy: 1.0000 - val_loss: 1.9485e-05 - val_accuracy: 1.0000\n",
            "Epoch 91/1000\n",
            "1/2 [==============>...............] - ETA: 0s - loss: 5.6800e-04 - accuracy: 1.0000\n",
            "Epoch 91: saving model to .\\gesture_classifier.keras\n",
            "2/2 [==============================] - 0s 58ms/step - loss: 5.2714e-04 - accuracy: 1.0000 - val_loss: 1.6960e-05 - val_accuracy: 1.0000\n",
            "Epoch 92/1000\n",
            "1/2 [==============>...............] - ETA: 0s - loss: 5.8000e-04 - accuracy: 1.0000\n",
            "Epoch 92: saving model to .\\gesture_classifier.keras\n",
            "2/2 [==============================] - 0s 58ms/step - loss: 6.4425e-04 - accuracy: 1.0000 - val_loss: 1.5515e-05 - val_accuracy: 1.0000\n",
            "Epoch 93/1000\n",
            "1/2 [==============>...............] - ETA: 0s - loss: 7.6029e-04 - accuracy: 1.0000\n",
            "Epoch 93: saving model to .\\gesture_classifier.keras\n",
            "2/2 [==============================] - 0s 61ms/step - loss: 5.6710e-04 - accuracy: 1.0000 - val_loss: 1.4431e-05 - val_accuracy: 1.0000\n",
            "Epoch 94/1000\n",
            "1/2 [==============>...............] - ETA: 0s - loss: 4.1054e-04 - accuracy: 1.0000\n",
            "Epoch 94: saving model to .\\gesture_classifier.keras\n",
            "2/2 [==============================] - 0s 58ms/step - loss: 4.1388e-04 - accuracy: 1.0000 - val_loss: 1.3626e-05 - val_accuracy: 1.0000\n",
            "Epoch 95/1000\n",
            "1/2 [==============>...............] - ETA: 0s - loss: 3.2134e-04 - accuracy: 1.0000\n",
            "Epoch 95: saving model to .\\gesture_classifier.keras\n",
            "2/2 [==============================] - 0s 58ms/step - loss: 0.0018 - accuracy: 1.0000 - val_loss: 1.2557e-05 - val_accuracy: 1.0000\n",
            "Epoch 96/1000\n",
            "1/2 [==============>...............] - ETA: 0s - loss: 7.0062e-04 - accuracy: 1.0000\n",
            "Epoch 96: saving model to .\\gesture_classifier.keras\n",
            "2/2 [==============================] - 0s 56ms/step - loss: 6.8514e-04 - accuracy: 1.0000 - val_loss: 1.1704e-05 - val_accuracy: 1.0000\n",
            "Epoch 97/1000\n",
            "1/2 [==============>...............] - ETA: 0s - loss: 5.1183e-04 - accuracy: 1.0000\n",
            "Epoch 97: saving model to .\\gesture_classifier.keras\n",
            "2/2 [==============================] - 0s 61ms/step - loss: 7.2774e-04 - accuracy: 1.0000 - val_loss: 1.1130e-05 - val_accuracy: 1.0000\n",
            "Epoch 98/1000\n",
            "1/2 [==============>...............] - ETA: 0s - loss: 3.7239e-04 - accuracy: 1.0000\n",
            "Epoch 98: saving model to .\\gesture_classifier.keras\n",
            "2/2 [==============================] - 0s 56ms/step - loss: 7.3416e-04 - accuracy: 1.0000 - val_loss: 1.0675e-05 - val_accuracy: 1.0000\n",
            "Epoch 99/1000\n",
            "1/2 [==============>...............] - ETA: 0s - loss: 9.3311e-04 - accuracy: 1.0000\n",
            "Epoch 99: saving model to .\\gesture_classifier.keras\n",
            "2/2 [==============================] - 0s 64ms/step - loss: 6.1715e-04 - accuracy: 1.0000 - val_loss: 1.0299e-05 - val_accuracy: 1.0000\n",
            "Epoch 100/1000\n",
            "1/2 [==============>...............] - ETA: 0s - loss: 3.2135e-04 - accuracy: 1.0000\n",
            "Epoch 100: saving model to .\\gesture_classifier.keras\n",
            "2/2 [==============================] - 0s 69ms/step - loss: 8.6623e-04 - accuracy: 1.0000 - val_loss: 1.0042e-05 - val_accuracy: 1.0000\n",
            "Epoch 101/1000\n",
            "1/2 [==============>...............] - ETA: 0s - loss: 7.6491e-04 - accuracy: 1.0000\n",
            "Epoch 101: saving model to .\\gesture_classifier.keras\n",
            "2/2 [==============================] - 0s 57ms/step - loss: 7.0235e-04 - accuracy: 1.0000 - val_loss: 9.7173e-06 - val_accuracy: 1.0000\n",
            "Epoch 102/1000\n",
            "1/2 [==============>...............] - ETA: 0s - loss: 5.4044e-04 - accuracy: 1.0000\n",
            "Epoch 102: saving model to .\\gesture_classifier.keras\n",
            "2/2 [==============================] - 0s 57ms/step - loss: 5.3708e-04 - accuracy: 1.0000 - val_loss: 9.3308e-06 - val_accuracy: 1.0000\n",
            "Epoch 103/1000\n",
            "1/2 [==============>...............] - ETA: 0s - loss: 4.5665e-04 - accuracy: 1.0000\n",
            "Epoch 103: saving model to .\\gesture_classifier.keras\n",
            "2/2 [==============================] - 0s 58ms/step - loss: 8.4600e-04 - accuracy: 1.0000 - val_loss: 8.8973e-06 - val_accuracy: 1.0000\n",
            "Epoch 104/1000\n",
            "1/2 [==============>...............] - ETA: 0s - loss: 3.3775e-04 - accuracy: 1.0000\n",
            "Epoch 104: saving model to .\\gesture_classifier.keras\n",
            "2/2 [==============================] - 0s 58ms/step - loss: 3.3599e-04 - accuracy: 1.0000 - val_loss: 8.5216e-06 - val_accuracy: 1.0000\n",
            "Epoch 105/1000\n",
            "1/2 [==============>...............] - ETA: 0s - loss: 5.6848e-04 - accuracy: 1.0000\n",
            "Epoch 105: saving model to .\\gesture_classifier.keras\n",
            "2/2 [==============================] - 0s 59ms/step - loss: 4.8062e-04 - accuracy: 1.0000 - val_loss: 8.1279e-06 - val_accuracy: 1.0000\n",
            "Epoch 106/1000\n",
            "1/2 [==============>...............] - ETA: 0s - loss: 2.5339e-04 - accuracy: 1.0000\n",
            "Epoch 106: saving model to .\\gesture_classifier.keras\n",
            "2/2 [==============================] - 0s 60ms/step - loss: 9.2759e-04 - accuracy: 1.0000 - val_loss: 8.2037e-06 - val_accuracy: 1.0000\n",
            "Epoch 107/1000\n",
            "1/2 [==============>...............] - ETA: 0s - loss: 4.5272e-04 - accuracy: 1.0000\n",
            "Epoch 107: saving model to .\\gesture_classifier.keras\n",
            "2/2 [==============================] - 0s 57ms/step - loss: 3.2544e-04 - accuracy: 1.0000 - val_loss: 8.8684e-06 - val_accuracy: 1.0000\n",
            "Epoch 108/1000\n",
            "1/2 [==============>...............] - ETA: 0s - loss: 7.0583e-04 - accuracy: 1.0000\n",
            "Epoch 108: saving model to .\\gesture_classifier.keras\n",
            "2/2 [==============================] - 0s 57ms/step - loss: 5.8237e-04 - accuracy: 1.0000 - val_loss: 9.7317e-06 - val_accuracy: 1.0000\n",
            "Epoch 109/1000\n",
            "1/2 [==============>...............] - ETA: 0s - loss: 4.0279e-04 - accuracy: 1.0000\n",
            "Epoch 109: saving model to .\\gesture_classifier.keras\n",
            "2/2 [==============================] - 0s 58ms/step - loss: 0.0019 - accuracy: 1.0000 - val_loss: 9.1068e-06 - val_accuracy: 1.0000\n",
            "Epoch 110/1000\n",
            "1/2 [==============>...............] - ETA: 0s - loss: 2.7548e-04 - accuracy: 1.0000\n",
            "Epoch 110: saving model to .\\gesture_classifier.keras\n",
            "2/2 [==============================] - 0s 57ms/step - loss: 3.7785e-04 - accuracy: 1.0000 - val_loss: 8.0014e-06 - val_accuracy: 1.0000\n",
            "Epoch 111/1000\n",
            "1/2 [==============>...............] - ETA: 0s - loss: 0.0012 - accuracy: 1.0000\n",
            "Epoch 111: saving model to .\\gesture_classifier.keras\n",
            "2/2 [==============================] - 0s 58ms/step - loss: 8.7213e-04 - accuracy: 1.0000 - val_loss: 7.9617e-06 - val_accuracy: 1.0000\n",
            "Epoch 112/1000\n",
            "1/2 [==============>...............] - ETA: 0s - loss: 4.8795e-04 - accuracy: 1.0000\n",
            "Epoch 112: saving model to .\\gesture_classifier.keras\n",
            "2/2 [==============================] - 0s 61ms/step - loss: 6.3938e-04 - accuracy: 1.0000 - val_loss: 8.0954e-06 - val_accuracy: 1.0000\n",
            "Epoch 113/1000\n",
            "1/2 [==============>...............] - ETA: 0s - loss: 0.0012 - accuracy: 1.0000\n",
            "Epoch 113: saving model to .\\gesture_classifier.keras\n",
            "2/2 [==============================] - 0s 58ms/step - loss: 8.7892e-04 - accuracy: 1.0000 - val_loss: 8.2977e-06 - val_accuracy: 1.0000\n",
            "Epoch 114/1000\n",
            "1/2 [==============>...............] - ETA: 0s - loss: 7.4216e-04 - accuracy: 1.0000\n",
            "Epoch 114: saving model to .\\gesture_classifier.keras\n",
            "2/2 [==============================] - 0s 56ms/step - loss: 5.0879e-04 - accuracy: 1.0000 - val_loss: 8.4819e-06 - val_accuracy: 1.0000\n",
            "Epoch 115/1000\n",
            "1/2 [==============>...............] - ETA: 0s - loss: 0.0025 - accuracy: 1.0000\n",
            "Epoch 115: saving model to .\\gesture_classifier.keras\n",
            "2/2 [==============================] - 0s 57ms/step - loss: 0.0017 - accuracy: 1.0000 - val_loss: 1.1162e-05 - val_accuracy: 1.0000\n",
            "Epoch 116/1000\n",
            "1/2 [==============>...............] - ETA: 0s - loss: 0.0011 - accuracy: 1.0000\n",
            "Epoch 116: saving model to .\\gesture_classifier.keras\n",
            "2/2 [==============================] - 0s 59ms/step - loss: 0.0011 - accuracy: 1.0000 - val_loss: 1.6162e-05 - val_accuracy: 1.0000\n",
            "Epoch 117/1000\n",
            "1/2 [==============>...............] - ETA: 0s - loss: 7.0392e-04 - accuracy: 1.0000\n",
            "Epoch 117: saving model to .\\gesture_classifier.keras\n",
            "2/2 [==============================] - 0s 62ms/step - loss: 7.1823e-04 - accuracy: 1.0000 - val_loss: 2.3220e-05 - val_accuracy: 1.0000\n",
            "Epoch 118/1000\n",
            "1/2 [==============>...............] - ETA: 0s - loss: 0.0017 - accuracy: 1.0000\n",
            "Epoch 118: saving model to .\\gesture_classifier.keras\n",
            "2/2 [==============================] - 0s 62ms/step - loss: 0.0018 - accuracy: 1.0000 - val_loss: 2.6977e-05 - val_accuracy: 1.0000\n",
            "Epoch 119/1000\n",
            "1/2 [==============>...............] - ETA: 0s - loss: 0.0011 - accuracy: 1.0000\n",
            "Epoch 119: saving model to .\\gesture_classifier.keras\n",
            "2/2 [==============================] - 0s 62ms/step - loss: 0.0013 - accuracy: 1.0000 - val_loss: 2.3332e-05 - val_accuracy: 1.0000\n",
            "Epoch 120/1000\n",
            "1/2 [==============>...............] - ETA: 0s - loss: 4.2150e-04 - accuracy: 1.0000\n",
            "Epoch 120: saving model to .\\gesture_classifier.keras\n",
            "2/2 [==============================] - 0s 58ms/step - loss: 0.0037 - accuracy: 0.9955 - val_loss: 1.6176e-05 - val_accuracy: 1.0000\n",
            "Epoch 121/1000\n",
            "1/2 [==============>...............] - ETA: 0s - loss: 0.0011 - accuracy: 1.0000\n",
            "Epoch 121: saving model to .\\gesture_classifier.keras\n",
            "2/2 [==============================] - 0s 60ms/step - loss: 0.0010 - accuracy: 1.0000 - val_loss: 1.2488e-05 - val_accuracy: 1.0000\n",
            "Epoch 122/1000\n",
            "1/2 [==============>...............] - ETA: 0s - loss: 0.0012 - accuracy: 1.0000\n",
            "Epoch 122: saving model to .\\gesture_classifier.keras\n",
            "2/2 [==============================] - 0s 59ms/step - loss: 0.0011 - accuracy: 1.0000 - val_loss: 1.2690e-05 - val_accuracy: 1.0000\n",
            "Epoch 123/1000\n",
            "1/2 [==============>...............] - ETA: 0s - loss: 5.4959e-04 - accuracy: 1.0000\n",
            "Epoch 123: saving model to .\\gesture_classifier.keras\n",
            "2/2 [==============================] - 0s 62ms/step - loss: 6.8224e-04 - accuracy: 1.0000 - val_loss: 1.3749e-05 - val_accuracy: 1.0000\n",
            "Epoch 124/1000\n",
            "1/2 [==============>...............] - ETA: 0s - loss: 1.9402e-04 - accuracy: 1.0000\n",
            "Epoch 124: saving model to .\\gesture_classifier.keras\n",
            "2/2 [==============================] - 0s 58ms/step - loss: 7.7389e-04 - accuracy: 1.0000 - val_loss: 1.4251e-05 - val_accuracy: 1.0000\n",
            "Epoch 125/1000\n",
            "1/2 [==============>...............] - ETA: 0s - loss: 0.0022 - accuracy: 1.0000\n",
            "Epoch 125: saving model to .\\gesture_classifier.keras\n",
            "2/2 [==============================] - 0s 57ms/step - loss: 0.0021 - accuracy: 1.0000 - val_loss: 1.4854e-05 - val_accuracy: 1.0000\n",
            "Epoch 126/1000\n",
            "1/2 [==============>...............] - ETA: 0s - loss: 0.0010 - accuracy: 1.0000\n",
            "Epoch 126: saving model to .\\gesture_classifier.keras\n",
            "2/2 [==============================] - 0s 57ms/step - loss: 8.4753e-04 - accuracy: 1.0000 - val_loss: 1.7513e-05 - val_accuracy: 1.0000\n",
            "Epoch 127/1000\n",
            "1/2 [==============>...............] - ETA: 0s - loss: 9.0236e-04 - accuracy: 1.0000\n",
            "Epoch 127: saving model to .\\gesture_classifier.keras\n",
            "2/2 [==============================] - 0s 57ms/step - loss: 9.5989e-04 - accuracy: 1.0000 - val_loss: 2.1689e-05 - val_accuracy: 1.0000\n",
            "Epoch 128/1000\n",
            "1/2 [==============>...............] - ETA: 0s - loss: 7.1228e-04 - accuracy: 1.0000\n",
            "Epoch 128: saving model to .\\gesture_classifier.keras\n",
            "2/2 [==============================] - 0s 57ms/step - loss: 6.5825e-04 - accuracy: 1.0000 - val_loss: 2.5359e-05 - val_accuracy: 1.0000\n",
            "Epoch 129/1000\n",
            "1/2 [==============>...............] - ETA: 0s - loss: 6.6568e-04 - accuracy: 1.0000\n",
            "Epoch 129: saving model to .\\gesture_classifier.keras\n",
            "2/2 [==============================] - 0s 61ms/step - loss: 6.6495e-04 - accuracy: 1.0000 - val_loss: 2.8194e-05 - val_accuracy: 1.0000\n",
            "Epoch 130/1000\n",
            "1/2 [==============>...............] - ETA: 0s - loss: 0.0039 - accuracy: 1.0000\n",
            "Epoch 130: saving model to .\\gesture_classifier.keras\n",
            "2/2 [==============================] - 0s 65ms/step - loss: 0.0026 - accuracy: 1.0000 - val_loss: 1.8405e-05 - val_accuracy: 1.0000\n",
            "Epoch 131/1000\n",
            "1/2 [==============>...............] - ETA: 0s - loss: 0.0012 - accuracy: 1.0000\n",
            "Epoch 131: saving model to .\\gesture_classifier.keras\n",
            "2/2 [==============================] - 0s 69ms/step - loss: 0.0011 - accuracy: 1.0000 - val_loss: 1.5746e-05 - val_accuracy: 1.0000\n",
            "Epoch 131: early stopping\n"
          ]
        },
        {
          "data": {
            "text/plain": [
              "<keras.src.callbacks.History at 0x1ff0ae03730>"
            ]
          },
          "execution_count": 13,
          "metadata": {},
          "output_type": "execute_result"
        }
      ],
      "source": [
        "model.fit(\n",
        "    X_train,\n",
        "    y_train,\n",
        "    epochs=1000,\n",
        "    batch_size=128,\n",
        "    validation_data=(X_valid, y_valid),\n",
        "    callbacks=[cp_callback, es_callback]\n",
        ")"
      ]
    },
    {
      "cell_type": "code",
      "execution_count": 14,
      "metadata": {},
      "outputs": [
        {
          "name": "stdout",
          "output_type": "stream",
          "text": [
            "1/1 [==============================] - 0s 34ms/step - loss: 2.1074e-05 - accuracy: 1.0000\n"
          ]
        }
      ],
      "source": [
        "val_loss, val_acc = model.evaluate(X_test, y_test, batch_size=128)"
      ]
    },
    {
      "cell_type": "code",
      "execution_count": 15,
      "metadata": {
        "colab": {
          "base_uri": "https://localhost:8080/"
        },
        "id": "WirBl-JE9hE3",
        "outputId": "71b30ca2-8294-4d9d-8aa2-800d90d399de",
        "scrolled": true,
        "tags": [
          "outputPrepend"
        ]
      },
      "outputs": [],
      "source": [
        "model = tf.keras.models.load_model(model_save_path)"
      ]
    },
    {
      "cell_type": "code",
      "execution_count": 16,
      "metadata": {},
      "outputs": [
        {
          "name": "stdout",
          "output_type": "stream",
          "text": [
            "1/1 [==============================] - 0s 81ms/step\n",
            "[9.9998331e-01 1.6655025e-05]\n",
            "0\n",
            "0\n"
          ]
        }
      ],
      "source": [
        "# Inference test\n",
        "predict_result = model.predict(np.array([X_test[0]]))\n",
        "print(np.squeeze(predict_result))\n",
        "print(np.argmax(np.squeeze(predict_result)))\n",
        "print(y_test[0])"
      ]
    },
    {
      "cell_type": "markdown",
      "metadata": {
        "id": "S3U4yNWx9hE4"
      },
      "source": [
        "# Confusion matrix"
      ]
    },
    {
      "cell_type": "code",
      "execution_count": 17,
      "metadata": {
        "colab": {
          "base_uri": "https://localhost:8080/",
          "height": 582
        },
        "id": "AP1V6SCk9hE5",
        "outputId": "08e41a80-7a4a-4619-8125-ecc371368d19"
      },
      "outputs": [
        {
          "name": "stdout",
          "output_type": "stream",
          "text": [
            "4/4 [==============================] - 0s 1ms/step\n"
          ]
        },
        {
          "data": {
            "image/png": "[encoded data removed]",
            "text/plain": [
              "<Figure size 700x600 with 2 Axes>"
            ]
          },
          "metadata": {},
          "output_type": "display_data"
        },
        {
          "name": "stdout",
          "output_type": "stream",
          "text": [
            "Classification Report\n",
            "              precision    recall  f1-score   support\n",
            "\n",
            "           0       1.00      1.00      1.00        49\n",
            "           1       1.00      1.00      1.00        50\n",
            "\n",
            "    accuracy                           1.00        99\n",
            "   macro avg       1.00      1.00      1.00        99\n",
            "weighted avg       1.00      1.00      1.00        99\n",
            "\n"
          ]
        }
      ],
      "source": [
        "import pandas as pd\n",
        "import seaborn as sns\n",
        "import matplotlib.pyplot as plt\n",
        "from sklearn.metrics import confusion_matrix, classification_report\n",
        "\n",
        "def print_confusion_matrix(y_true, y_pred, report=True):\n",
        "    labels = sorted(list(set(y_true)))\n",
        "    cmx_data = confusion_matrix(y_true, y_pred, labels=labels)\n",
        "    \n",
        "    df_cmx = pd.DataFrame(cmx_data, index=labels, columns=labels)\n",
        " \n",
        "    fig, ax = plt.subplots(figsize=(7, 6))\n",
        "    sns.heatmap(df_cmx, annot=True, fmt='g' ,square=False)\n",
        "    ax.set_ylim(len(set(y_true)), 0)\n",
        "    plt.show()\n",
        "    \n",
        "    if report:\n",
        "        print('Classification Report')\n",
        "        print(classification_report(y_test, y_pred))\n",
        "\n",
        "Y_pred = model.predict(X_test)\n",
        "y_pred = np.argmax(Y_pred, axis=1)\n",
        "\n",
        "print_confusion_matrix(y_test, y_pred)"
      ]
    },
    {
      "cell_type": "markdown",
      "metadata": {
        "id": "FNP6aqzc9hE5"
      },
      "source": [
        "# Convert to model for Tensorflow-Lite"
      ]
    },
    {
      "cell_type": "code",
      "execution_count": 18,
      "metadata": {
        "id": "ODjnYyld9hE6"
      },
      "outputs": [],
      "source": [
        "# Save as a model dedicated to inference\n",
        "model.save(model_save_path)"
      ]
    },
    {
      "cell_type": "code",
      "execution_count": 23,
      "metadata": {},
      "outputs": [
        {
          "name": "stdout",
          "output_type": "stream",
          "text": [
            "INFO:tensorflow:Assets written to: C:\\Users\\zeins\\AppData\\Local\\Temp\\tmps7huuj6c\\assets\n"
          ]
        },
        {
          "name": "stderr",
          "output_type": "stream",
          "text": [
            "INFO:tensorflow:Assets written to: C:\\Users\\zeins\\AppData\\Local\\Temp\\tmps7huuj6c\\assets\n"
          ]
        },
        {
          "data": {
            "text/plain": [
              "368496"
            ]
          },
          "execution_count": 23,
          "metadata": {},
          "output_type": "execute_result"
        }
      ],
      "source": [
        "\n",
        "converter = tf.lite.TFLiteConverter.from_keras_model(model)\n",
        "converter.optimizations = [tf.lite.Optimize.DEFAULT]\n",
        "tflite_quantized_model = converter.convert()\n",
        "\n",
        "open(tflite_save_path, 'wb').write(tflite_quantized_model)"
      ]
    },
    {
      "cell_type": "code",
      "execution_count": 24,
      "metadata": {},
      "outputs": [],
      "source": [
        "interpreter = tf.lite.Interpreter(model_path=tflite_save_path)\n",
        "interpreter.allocate_tensors()"
      ]
    },
    {
      "cell_type": "code",
      "execution_count": 25,
      "metadata": {},
      "outputs": [],
      "source": [
        "# Get I / O tensor\n",
        "input_details = interpreter.get_input_details()\n",
        "output_details = interpreter.get_output_details()"
      ]
    },
    {
      "cell_type": "code",
      "execution_count": 26,
      "metadata": {},
      "outputs": [
        {
          "name": "stdout",
          "output_type": "stream",
          "text": [
            "[0. 1.]\n",
            "1\n",
            "CPU times: total: 0 ns\n",
            "Wall time: 1.1 ms\n"
          ]
        }
      ],
      "source": [
        "%%time\n",
        "# Inference implementation\n",
        "interpreter.invoke()\n",
        "tflite_results = interpreter.get_tensor(output_details[0]['index'])\n",
        "print(np.squeeze(tflite_results))\n",
        "print(np.argmax(np.squeeze(tflite_results)))"
      ]
    }
  ],
  "metadata": {
    "accelerator": "GPU",
    "colab": {
      "collapsed_sections": [],
      "name": "keypoint_classification_EN.ipynb",
      "provenance": [],
      "toc_visible": true
    },
    "interpreter": {
      "hash": "85b733480cc67b8cf4f7b44ea859236688838663f0d4c864dc5b1de551a5e467"
    },
    "kernelspec": {
      "display_name": "Python 3.9.4 64-bit ('mpenv': conda)",
      "name": "python3"
    },
    "language_info": {
      "codemirror_mode": {
        "name": "ipython",
        "version": 3
      },
      "file_extension": ".py",
      "mimetype": "text/x-python",
      "name": "python",
      "nbconvert_exporter": "python",
      "pygments_lexer": "ipython3",
      "version": "3.10.13"
    }
  },
  "nbformat": 4,
  "nbformat_minor": 0
}
