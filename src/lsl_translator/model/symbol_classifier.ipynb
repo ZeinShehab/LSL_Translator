{
  "cells": [
    {
      "cell_type": "code",
      "execution_count": 1,
      "metadata": {
        "id": "igMyGnjE9hEp"
      },
      "outputs": [
        {
          "name": "stdout",
          "output_type": "stream",
          "text": [
            "WARNING:tensorflow:From c:\\Users\\zeins\\anaconda3\\envs\\lsl\\lib\\site-packages\\keras\\src\\losses.py:2976: The name tf.losses.sparse_softmax_cross_entropy is deprecated. Please use tf.compat.v1.losses.sparse_softmax_cross_entropy instead.\n",
            "\n"
          ]
        }
      ],
      "source": [
        "import numpy as np\n",
        "import tensorflow as tf\n",
        "from sklearn.model_selection import train_test_split"
      ]
    },
    {
      "cell_type": "markdown",
      "metadata": {
        "id": "t2HDvhIu9hEr"
      },
      "source": [
        "# Specify each path"
      ]
    },
    {
      "cell_type": "code",
      "execution_count": 2,
      "metadata": {
        "id": "9NvZP2Zn9hEy"
      },
      "outputs": [],
      "source": [
        "data_directory = \"../../../data/\"\n",
        "train_dataset = f'{data_directory}train.csv'\n",
        "test_dataset = f'{data_directory}test.csv'\n",
        "model_save_path = './symbol_classifier.keras'\n",
        "tflite_save_path = './symbol_classifier.tflite'"
      ]
    },
    {
      "cell_type": "markdown",
      "metadata": {
        "id": "s5oMH7x19hEz"
      },
      "source": [
        "# Set number of classes"
      ]
    },
    {
      "cell_type": "code",
      "execution_count": 3,
      "metadata": {
        "id": "du4kodXL9hEz"
      },
      "outputs": [],
      "source": [
        "RANDOM_SEED = 42\n",
        "NUM_CLASSES = 58\n",
        "MULTI_HAND_LANDMARKS = 126"
      ]
    },
    {
      "cell_type": "markdown",
      "metadata": {
        "id": "XjnL0uso9hEz"
      },
      "source": [
        "# Dataset reading"
      ]
    },
    {
      "cell_type": "code",
      "execution_count": 4,
      "metadata": {
        "id": "QT5ZqtEz9hE0"
      },
      "outputs": [],
      "source": [
        "X_train = np.loadtxt(train_dataset, delimiter=',', dtype='float32', usecols=list(range(1, MULTI_HAND_LANDMARKS + 1)))\n",
        "X_test_data = np.loadtxt(test_dataset, delimiter=',', dtype='float32', usecols=list(range(1, MULTI_HAND_LANDMARKS + 1)))"
      ]
    },
    {
      "cell_type": "code",
      "execution_count": 5,
      "metadata": {
        "id": "QmoKFsp49hE0"
      },
      "outputs": [],
      "source": [
        "y_train = np.loadtxt(train_dataset, delimiter=',', dtype='int32', usecols=(0))\n",
        "y_test_data = np.loadtxt(test_dataset, delimiter=',', dtype='int32', usecols=(0))"
      ]
    },
    {
      "cell_type": "code",
      "execution_count": 6,
      "metadata": {},
      "outputs": [],
      "source": [
        "X_test, X_valid, y_test, y_valid = train_test_split(X_test_data, y_test_data, train_size=0.75, random_state=RANDOM_SEED)"
      ]
    },
    {
      "cell_type": "code",
      "execution_count": 7,
      "metadata": {},
      "outputs": [
        {
          "name": "stdout",
          "output_type": "stream",
          "text": [
            "[ 0  1  2  3  4  5  6  7  8  9 10 11 12 13 14 15 16 17 18 19 20 21 22 23\n",
            " 24 25 26 27 28 29 30 31 32 33 34 35 36 37 38 39 40 41 42 43 44 45 46 47\n",
            " 48 49 50 51 52 53 54 55 56 57]\n",
            "[ 0  1  2  3  4  5  6  7  8  9 10 11 12 13 14 15 16 17 18 19 20 21 22 23\n",
            " 24 25 26 27 28 29 30 31 32 33 34 35 36 37 38 39 40 41 42 43 44 45 46 47\n",
            " 48 49 50 51 52 53 54 55 56 57]\n",
            "[ 0  1  2  3  4  5  6  7  8  9 10 11 12 13 14 15 16 17 18 19 20 21 22 23\n",
            " 24 25 26 27 28 29 30 31 32 33 34 35 36 37 38 39 40 41 42 43 44 45 46 47\n",
            " 48 49 50 51 52 53 54 55 56 57]\n"
          ]
        }
      ],
      "source": [
        "print(np.unique(y_train))\n",
        "print(np.unique(y_test))\n",
        "print(np.unique(y_valid))"
      ]
    },
    {
      "cell_type": "code",
      "execution_count": 8,
      "metadata": {},
      "outputs": [
        {
          "name": "stdout",
          "output_type": "stream",
          "text": [
            "(24830, 126)\n",
            "(24830,)\n"
          ]
        }
      ],
      "source": [
        "print(X_train.shape)\n",
        "print(y_train.shape)"
      ]
    },
    {
      "cell_type": "markdown",
      "metadata": {
        "id": "mxK_lETT9hE0"
      },
      "source": [
        "# Model building"
      ]
    },
    {
      "cell_type": "code",
      "execution_count": 9,
      "metadata": {
        "id": "vHBmUf1t9hE1"
      },
      "outputs": [
        {
          "name": "stdout",
          "output_type": "stream",
          "text": [
            "WARNING:tensorflow:From c:\\Users\\zeins\\anaconda3\\envs\\lsl\\lib\\site-packages\\keras\\src\\backend.py:1398: The name tf.executing_eagerly_outside_functions is deprecated. Please use tf.compat.v1.executing_eagerly_outside_functions instead.\n",
            "\n"
          ]
        }
      ],
      "source": [
        "model = tf.keras.models.Sequential([\n",
        "    tf.keras.layers.Input((126, )),\n",
        "    # tf.keras.layers.BatchNormalization(),  # Normalizes input features\n",
        "    tf.keras.layers.Dense(256, activation='relu'),\n",
        "    tf.keras.layers.Dropout(0.5),  # Dropout for regularization\n",
        "    tf.keras.layers.Dense(128, activation='relu'),\n",
        "    tf.keras.layers.Dropout(0.3),  # Dropout for regularization\n",
        "    tf.keras.layers.Dense(64, activation='relu'),\n",
        "    tf.keras.layers.Dropout(0.2),  # Dropout for regularization\n",
        "    tf.keras.layers.Dense(NUM_CLASSES, activation='softmax')  # Output layer with 57 units\n",
        "])"
      ]
    },
    {
      "cell_type": "code",
      "execution_count": 10,
      "metadata": {},
      "outputs": [],
      "source": [
        "cp_callback = tf.keras.callbacks.ModelCheckpoint(\n",
        "    model_save_path, verbose=1, save_weights_only=False)\n",
        "# Callback for early stopping\n",
        "es_callback = tf.keras.callbacks.EarlyStopping(patience=20, verbose=1)"
      ]
    },
    {
      "cell_type": "code",
      "execution_count": 11,
      "metadata": {},
      "outputs": [
        {
          "name": "stdout",
          "output_type": "stream",
          "text": [
            "WARNING:tensorflow:From c:\\Users\\zeins\\anaconda3\\envs\\lsl\\lib\\site-packages\\keras\\src\\optimizers\\__init__.py:309: The name tf.train.Optimizer is deprecated. Please use tf.compat.v1.train.Optimizer instead.\n",
            "\n"
          ]
        }
      ],
      "source": [
        "# Model compilation\n",
        "model.compile(\n",
        "    optimizer='adam',\n",
        "    loss='sparse_categorical_crossentropy',\n",
        "    metrics=['accuracy']\n",
        ")"
      ]
    },
    {
      "cell_type": "code",
      "execution_count": 12,
      "metadata": {},
      "outputs": [
        {
          "name": "stdout",
          "output_type": "stream",
          "text": [
            "Epoch 1/1000\n",
            "WARNING:tensorflow:From c:\\Users\\zeins\\anaconda3\\envs\\lsl\\lib\\site-packages\\keras\\src\\utils\\tf_utils.py:492: The name tf.ragged.RaggedTensorValue is deprecated. Please use tf.compat.v1.ragged.RaggedTensorValue instead.\n",
            "\n",
            "WARNING:tensorflow:From c:\\Users\\zeins\\anaconda3\\envs\\lsl\\lib\\site-packages\\keras\\src\\engine\\base_layer_utils.py:384: The name tf.executing_eagerly_outside_functions is deprecated. Please use tf.compat.v1.executing_eagerly_outside_functions instead.\n",
            "\n",
            "182/194 [===========================>..] - ETA: 0s - loss: 3.2532 - accuracy: 0.1651\n",
            "Epoch 1: saving model to .\\symbol_classifier.keras\n",
            "194/194 [==============================] - 2s 4ms/step - loss: 3.2057 - accuracy: 0.1731 - val_loss: 2.1785 - val_accuracy: 0.4105\n",
            "Epoch 2/1000\n",
            "181/194 [==========================>...] - ETA: 0s - loss: 2.0607 - accuracy: 0.3816\n",
            "Epoch 2: saving model to .\\symbol_classifier.keras\n",
            "194/194 [==============================] - 1s 3ms/step - loss: 2.0393 - accuracy: 0.3865 - val_loss: 1.3442 - val_accuracy: 0.6336\n",
            "Epoch 3/1000\n",
            "174/194 [=========================>....] - ETA: 0s - loss: 1.5401 - accuracy: 0.5143\n",
            "Epoch 3: saving model to .\\symbol_classifier.keras\n",
            "194/194 [==============================] - 1s 3ms/step - loss: 1.5229 - accuracy: 0.5195 - val_loss: 0.9797 - val_accuracy: 0.7414\n",
            "Epoch 4/1000\n",
            "188/194 [============================>.] - ETA: 0s - loss: 1.2259 - accuracy: 0.6154\n",
            "Epoch 4: saving model to .\\symbol_classifier.keras\n",
            "194/194 [==============================] - 1s 3ms/step - loss: 1.2233 - accuracy: 0.6159 - val_loss: 0.7504 - val_accuracy: 0.8145\n",
            "Epoch 5/1000\n",
            "190/194 [============================>.] - ETA: 0s - loss: 1.0145 - accuracy: 0.6829\n",
            "Epoch 5: saving model to .\\symbol_classifier.keras\n",
            "194/194 [==============================] - 1s 3ms/step - loss: 1.0124 - accuracy: 0.6830 - val_loss: 0.6150 - val_accuracy: 0.8418\n",
            "Epoch 6/1000\n",
            "190/194 [============================>.] - ETA: 0s - loss: 0.8848 - accuracy: 0.7261\n",
            "Epoch 6: saving model to .\\symbol_classifier.keras\n",
            "194/194 [==============================] - 1s 3ms/step - loss: 0.8841 - accuracy: 0.7262 - val_loss: 0.5583 - val_accuracy: 0.8484\n",
            "Epoch 7/1000\n",
            "178/194 [==========================>...] - ETA: 0s - loss: 0.8083 - accuracy: 0.7507\n",
            "Epoch 7: saving model to .\\symbol_classifier.keras\n",
            "194/194 [==============================] - 1s 3ms/step - loss: 0.8050 - accuracy: 0.7513 - val_loss: 0.5100 - val_accuracy: 0.8723\n",
            "Epoch 8/1000\n",
            "187/194 [===========================>..] - ETA: 0s - loss: 0.7315 - accuracy: 0.7711\n",
            "Epoch 8: saving model to .\\symbol_classifier.keras\n",
            "194/194 [==============================] - 1s 3ms/step - loss: 0.7323 - accuracy: 0.7715 - val_loss: 0.4642 - val_accuracy: 0.8840\n",
            "Epoch 9/1000\n",
            "174/194 [=========================>....] - ETA: 0s - loss: 0.6980 - accuracy: 0.7876\n",
            "Epoch 9: saving model to .\\symbol_classifier.keras\n",
            "194/194 [==============================] - 1s 3ms/step - loss: 0.6948 - accuracy: 0.7892 - val_loss: 0.4435 - val_accuracy: 0.8891\n",
            "Epoch 10/1000\n",
            "178/194 [==========================>...] - ETA: 0s - loss: 0.6439 - accuracy: 0.8039\n",
            "Epoch 10: saving model to .\\symbol_classifier.keras\n",
            "194/194 [==============================] - 1s 3ms/step - loss: 0.6425 - accuracy: 0.8046 - val_loss: 0.4144 - val_accuracy: 0.8961\n",
            "Epoch 11/1000\n",
            "179/194 [==========================>...] - ETA: 0s - loss: 0.6113 - accuracy: 0.8126\n",
            "Epoch 11: saving model to .\\symbol_classifier.keras\n",
            "194/194 [==============================] - 1s 3ms/step - loss: 0.6082 - accuracy: 0.8133 - val_loss: 0.4060 - val_accuracy: 0.9004\n",
            "Epoch 12/1000\n",
            "180/194 [==========================>...] - ETA: 0s - loss: 0.5832 - accuracy: 0.8227\n",
            "Epoch 12: saving model to .\\symbol_classifier.keras\n",
            "194/194 [==============================] - 1s 3ms/step - loss: 0.5836 - accuracy: 0.8227 - val_loss: 0.3832 - val_accuracy: 0.9094\n",
            "Epoch 13/1000\n",
            "188/194 [============================>.] - ETA: 0s - loss: 0.5575 - accuracy: 0.8319\n",
            "Epoch 13: saving model to .\\symbol_classifier.keras\n",
            "194/194 [==============================] - 1s 3ms/step - loss: 0.5546 - accuracy: 0.8325 - val_loss: 0.3665 - val_accuracy: 0.9047\n",
            "Epoch 14/1000\n",
            "185/194 [===========================>..] - ETA: 0s - loss: 0.5403 - accuracy: 0.8382\n",
            "Epoch 14: saving model to .\\symbol_classifier.keras\n",
            "194/194 [==============================] - 1s 3ms/step - loss: 0.5395 - accuracy: 0.8391 - val_loss: 0.3562 - val_accuracy: 0.9199\n",
            "Epoch 15/1000\n",
            "192/194 [============================>.] - ETA: 0s - loss: 0.5173 - accuracy: 0.8425\n",
            "Epoch 15: saving model to .\\symbol_classifier.keras\n",
            "194/194 [==============================] - 1s 4ms/step - loss: 0.5179 - accuracy: 0.8424 - val_loss: 0.3442 - val_accuracy: 0.9195\n",
            "Epoch 16/1000\n",
            "174/194 [=========================>....] - ETA: 0s - loss: 0.4901 - accuracy: 0.8534\n",
            "Epoch 16: saving model to .\\symbol_classifier.keras\n",
            "194/194 [==============================] - 1s 3ms/step - loss: 0.4940 - accuracy: 0.8516 - val_loss: 0.3467 - val_accuracy: 0.9156\n",
            "Epoch 17/1000\n",
            "191/194 [============================>.] - ETA: 0s - loss: 0.4893 - accuracy: 0.8525\n",
            "Epoch 17: saving model to .\\symbol_classifier.keras\n",
            "194/194 [==============================] - 1s 3ms/step - loss: 0.4890 - accuracy: 0.8527 - val_loss: 0.3237 - val_accuracy: 0.9328\n",
            "Epoch 18/1000\n",
            "177/194 [==========================>...] - ETA: 0s - loss: 0.4678 - accuracy: 0.8592\n",
            "Epoch 18: saving model to .\\symbol_classifier.keras\n",
            "194/194 [==============================] - 1s 3ms/step - loss: 0.4670 - accuracy: 0.8596 - val_loss: 0.3156 - val_accuracy: 0.9285\n",
            "Epoch 19/1000\n",
            "186/194 [===========================>..] - ETA: 0s - loss: 0.4543 - accuracy: 0.8632\n",
            "Epoch 19: saving model to .\\symbol_classifier.keras\n",
            "194/194 [==============================] - 1s 3ms/step - loss: 0.4554 - accuracy: 0.8629 - val_loss: 0.3049 - val_accuracy: 0.9359\n",
            "Epoch 20/1000\n",
            "186/194 [===========================>..] - ETA: 0s - loss: 0.4458 - accuracy: 0.8698\n",
            "Epoch 20: saving model to .\\symbol_classifier.keras\n",
            "194/194 [==============================] - 1s 3ms/step - loss: 0.4456 - accuracy: 0.8694 - val_loss: 0.2920 - val_accuracy: 0.9316\n",
            "Epoch 21/1000\n",
            "194/194 [==============================] - ETA: 0s - loss: 0.4188 - accuracy: 0.8705\n",
            "Epoch 21: saving model to .\\symbol_classifier.keras\n",
            "194/194 [==============================] - 1s 3ms/step - loss: 0.4188 - accuracy: 0.8705 - val_loss: 0.2920 - val_accuracy: 0.9359\n",
            "Epoch 22/1000\n",
            "180/194 [==========================>...] - ETA: 0s - loss: 0.4137 - accuracy: 0.8761\n",
            "Epoch 22: saving model to .\\symbol_classifier.keras\n",
            "194/194 [==============================] - 1s 3ms/step - loss: 0.4153 - accuracy: 0.8762 - val_loss: 0.3007 - val_accuracy: 0.9324\n",
            "Epoch 23/1000\n",
            "180/194 [==========================>...] - ETA: 0s - loss: 0.4137 - accuracy: 0.8750\n",
            "Epoch 23: saving model to .\\symbol_classifier.keras\n",
            "194/194 [==============================] - 1s 3ms/step - loss: 0.4126 - accuracy: 0.8756 - val_loss: 0.2799 - val_accuracy: 0.9402\n",
            "Epoch 24/1000\n",
            "181/194 [==========================>...] - ETA: 0s - loss: 0.4002 - accuracy: 0.8812\n",
            "Epoch 24: saving model to .\\symbol_classifier.keras\n",
            "194/194 [==============================] - 1s 3ms/step - loss: 0.3987 - accuracy: 0.8807 - val_loss: 0.2727 - val_accuracy: 0.9379\n",
            "Epoch 25/1000\n",
            "192/194 [============================>.] - ETA: 0s - loss: 0.3968 - accuracy: 0.8798\n",
            "Epoch 25: saving model to .\\symbol_classifier.keras\n",
            "194/194 [==============================] - 1s 3ms/step - loss: 0.3974 - accuracy: 0.8797 - val_loss: 0.2768 - val_accuracy: 0.9352\n",
            "Epoch 26/1000\n",
            "178/194 [==========================>...] - ETA: 0s - loss: 0.3845 - accuracy: 0.8850\n",
            "Epoch 26: saving model to .\\symbol_classifier.keras\n",
            "194/194 [==============================] - 1s 3ms/step - loss: 0.3852 - accuracy: 0.8845 - val_loss: 0.2745 - val_accuracy: 0.9383\n",
            "Epoch 27/1000\n",
            "187/194 [===========================>..] - ETA: 0s - loss: 0.3787 - accuracy: 0.8877\n",
            "Epoch 27: saving model to .\\symbol_classifier.keras\n",
            "194/194 [==============================] - 1s 3ms/step - loss: 0.3781 - accuracy: 0.8878 - val_loss: 0.2752 - val_accuracy: 0.9367\n",
            "Epoch 28/1000\n",
            "174/194 [=========================>....] - ETA: 0s - loss: 0.3789 - accuracy: 0.8914\n",
            "Epoch 28: saving model to .\\symbol_classifier.keras\n",
            "194/194 [==============================] - 1s 3ms/step - loss: 0.3758 - accuracy: 0.8912 - val_loss: 0.2614 - val_accuracy: 0.9410\n",
            "Epoch 29/1000\n",
            "192/194 [============================>.] - ETA: 0s - loss: 0.3602 - accuracy: 0.8924\n",
            "Epoch 29: saving model to .\\symbol_classifier.keras\n",
            "194/194 [==============================] - 1s 3ms/step - loss: 0.3596 - accuracy: 0.8925 - val_loss: 0.2509 - val_accuracy: 0.9453\n",
            "Epoch 30/1000\n",
            "177/194 [==========================>...] - ETA: 0s - loss: 0.3624 - accuracy: 0.8920\n",
            "Epoch 30: saving model to .\\symbol_classifier.keras\n",
            "194/194 [==============================] - 1s 3ms/step - loss: 0.3622 - accuracy: 0.8916 - val_loss: 0.2691 - val_accuracy: 0.9379\n",
            "Epoch 31/1000\n",
            "175/194 [==========================>...] - ETA: 0s - loss: 0.3392 - accuracy: 0.8994\n",
            "Epoch 31: saving model to .\\symbol_classifier.keras\n",
            "194/194 [==============================] - 1s 3ms/step - loss: 0.3430 - accuracy: 0.8984 - val_loss: 0.2551 - val_accuracy: 0.9430\n",
            "Epoch 32/1000\n",
            "193/194 [============================>.] - ETA: 0s - loss: 0.3404 - accuracy: 0.8981\n",
            "Epoch 32: saving model to .\\symbol_classifier.keras\n",
            "194/194 [==============================] - 1s 3ms/step - loss: 0.3402 - accuracy: 0.8982 - val_loss: 0.2534 - val_accuracy: 0.9414\n",
            "Epoch 33/1000\n",
            "174/194 [=========================>....] - ETA: 0s - loss: 0.3394 - accuracy: 0.8986\n",
            "Epoch 33: saving model to .\\symbol_classifier.keras\n",
            "194/194 [==============================] - 1s 3ms/step - loss: 0.3367 - accuracy: 0.8983 - val_loss: 0.2567 - val_accuracy: 0.9434\n",
            "Epoch 34/1000\n",
            "185/194 [===========================>..] - ETA: 0s - loss: 0.3332 - accuracy: 0.9022\n",
            "Epoch 34: saving model to .\\symbol_classifier.keras\n",
            "194/194 [==============================] - 1s 3ms/step - loss: 0.3322 - accuracy: 0.9027 - val_loss: 0.2526 - val_accuracy: 0.9461\n",
            "Epoch 35/1000\n",
            "180/194 [==========================>...] - ETA: 0s - loss: 0.3276 - accuracy: 0.9033\n",
            "Epoch 35: saving model to .\\symbol_classifier.keras\n",
            "194/194 [==============================] - 1s 3ms/step - loss: 0.3302 - accuracy: 0.9026 - val_loss: 0.2436 - val_accuracy: 0.9453\n",
            "Epoch 36/1000\n",
            "177/194 [==========================>...] - ETA: 0s - loss: 0.3254 - accuracy: 0.9054\n",
            "Epoch 36: saving model to .\\symbol_classifier.keras\n",
            "194/194 [==============================] - 1s 3ms/step - loss: 0.3267 - accuracy: 0.9058 - val_loss: 0.2437 - val_accuracy: 0.9441\n",
            "Epoch 37/1000\n",
            "178/194 [==========================>...] - ETA: 0s - loss: 0.3225 - accuracy: 0.9057\n",
            "Epoch 37: saving model to .\\symbol_classifier.keras\n",
            "194/194 [==============================] - 1s 3ms/step - loss: 0.3212 - accuracy: 0.9057 - val_loss: 0.2424 - val_accuracy: 0.9473\n",
            "Epoch 38/1000\n",
            "192/194 [============================>.] - ETA: 0s - loss: 0.3155 - accuracy: 0.9054\n",
            "Epoch 38: saving model to .\\symbol_classifier.keras\n",
            "194/194 [==============================] - 1s 3ms/step - loss: 0.3153 - accuracy: 0.9056 - val_loss: 0.2492 - val_accuracy: 0.9426\n",
            "Epoch 39/1000\n",
            "175/194 [==========================>...] - ETA: 0s - loss: 0.3177 - accuracy: 0.9087\n",
            "Epoch 39: saving model to .\\symbol_classifier.keras\n",
            "194/194 [==============================] - 1s 3ms/step - loss: 0.3153 - accuracy: 0.9091 - val_loss: 0.2370 - val_accuracy: 0.9492\n",
            "Epoch 40/1000\n",
            "180/194 [==========================>...] - ETA: 0s - loss: 0.3094 - accuracy: 0.9087\n",
            "Epoch 40: saving model to .\\symbol_classifier.keras\n",
            "194/194 [==============================] - 1s 3ms/step - loss: 0.3089 - accuracy: 0.9091 - val_loss: 0.2568 - val_accuracy: 0.9453\n",
            "Epoch 41/1000\n",
            "175/194 [==========================>...] - ETA: 0s - loss: 0.3010 - accuracy: 0.9128\n",
            "Epoch 41: saving model to .\\symbol_classifier.keras\n",
            "194/194 [==============================] - 1s 3ms/step - loss: 0.3011 - accuracy: 0.9121 - val_loss: 0.2409 - val_accuracy: 0.9441\n",
            "Epoch 42/1000\n",
            "180/194 [==========================>...] - ETA: 0s - loss: 0.2977 - accuracy: 0.9141\n",
            "Epoch 42: saving model to .\\symbol_classifier.keras\n",
            "194/194 [==============================] - 1s 3ms/step - loss: 0.3008 - accuracy: 0.9139 - val_loss: 0.2392 - val_accuracy: 0.9457\n",
            "Epoch 43/1000\n",
            "177/194 [==========================>...] - ETA: 0s - loss: 0.2992 - accuracy: 0.9114\n",
            "Epoch 43: saving model to .\\symbol_classifier.keras\n",
            "194/194 [==============================] - 1s 3ms/step - loss: 0.3007 - accuracy: 0.9117 - val_loss: 0.2192 - val_accuracy: 0.9520\n",
            "Epoch 44/1000\n",
            "178/194 [==========================>...] - ETA: 0s - loss: 0.2961 - accuracy: 0.9123\n",
            "Epoch 44: saving model to .\\symbol_classifier.keras\n",
            "194/194 [==============================] - 1s 3ms/step - loss: 0.2979 - accuracy: 0.9125 - val_loss: 0.2281 - val_accuracy: 0.9488\n",
            "Epoch 45/1000\n",
            "188/194 [============================>.] - ETA: 0s - loss: 0.2934 - accuracy: 0.9127\n",
            "Epoch 45: saving model to .\\symbol_classifier.keras\n",
            "194/194 [==============================] - 1s 3ms/step - loss: 0.2925 - accuracy: 0.9129 - val_loss: 0.2391 - val_accuracy: 0.9445\n",
            "Epoch 46/1000\n",
            "184/194 [===========================>..] - ETA: 0s - loss: 0.2884 - accuracy: 0.9147\n",
            "Epoch 46: saving model to .\\symbol_classifier.keras\n",
            "194/194 [==============================] - 1s 3ms/step - loss: 0.2891 - accuracy: 0.9145 - val_loss: 0.2271 - val_accuracy: 0.9465\n",
            "Epoch 47/1000\n",
            "187/194 [===========================>..] - ETA: 0s - loss: 0.2851 - accuracy: 0.9151\n",
            "Epoch 47: saving model to .\\symbol_classifier.keras\n",
            "194/194 [==============================] - 1s 3ms/step - loss: 0.2855 - accuracy: 0.9147 - val_loss: 0.2231 - val_accuracy: 0.9527\n",
            "Epoch 48/1000\n",
            "187/194 [===========================>..] - ETA: 0s - loss: 0.2864 - accuracy: 0.9137\n",
            "Epoch 48: saving model to .\\symbol_classifier.keras\n",
            "194/194 [==============================] - 1s 3ms/step - loss: 0.2848 - accuracy: 0.9141 - val_loss: 0.2272 - val_accuracy: 0.9488\n",
            "Epoch 49/1000\n",
            "183/194 [===========================>..] - ETA: 0s - loss: 0.2815 - accuracy: 0.9186\n",
            "Epoch 49: saving model to .\\symbol_classifier.keras\n",
            "194/194 [==============================] - 1s 3ms/step - loss: 0.2790 - accuracy: 0.9193 - val_loss: 0.2191 - val_accuracy: 0.9531\n",
            "Epoch 50/1000\n",
            "181/194 [==========================>...] - ETA: 0s - loss: 0.2873 - accuracy: 0.9168\n",
            "Epoch 50: saving model to .\\symbol_classifier.keras\n",
            "194/194 [==============================] - 1s 3ms/step - loss: 0.2852 - accuracy: 0.9172 - val_loss: 0.2224 - val_accuracy: 0.9512\n",
            "Epoch 51/1000\n",
            "180/194 [==========================>...] - ETA: 0s - loss: 0.2718 - accuracy: 0.9196\n",
            "Epoch 51: saving model to .\\symbol_classifier.keras\n",
            "194/194 [==============================] - 1s 3ms/step - loss: 0.2712 - accuracy: 0.9201 - val_loss: 0.2320 - val_accuracy: 0.9512\n",
            "Epoch 52/1000\n",
            "186/194 [===========================>..] - ETA: 0s - loss: 0.2792 - accuracy: 0.9189\n",
            "Epoch 52: saving model to .\\symbol_classifier.keras\n",
            "194/194 [==============================] - 1s 3ms/step - loss: 0.2790 - accuracy: 0.9184 - val_loss: 0.2237 - val_accuracy: 0.9512\n",
            "Epoch 53/1000\n",
            "185/194 [===========================>..] - ETA: 0s - loss: 0.2718 - accuracy: 0.9189\n",
            "Epoch 53: saving model to .\\symbol_classifier.keras\n",
            "194/194 [==============================] - 1s 3ms/step - loss: 0.2724 - accuracy: 0.9187 - val_loss: 0.2205 - val_accuracy: 0.9492\n",
            "Epoch 54/1000\n",
            "192/194 [============================>.] - ETA: 0s - loss: 0.2680 - accuracy: 0.9211\n",
            "Epoch 54: saving model to .\\symbol_classifier.keras\n",
            "194/194 [==============================] - 1s 3ms/step - loss: 0.2674 - accuracy: 0.9213 - val_loss: 0.2307 - val_accuracy: 0.9492\n",
            "Epoch 55/1000\n",
            "191/194 [============================>.] - ETA: 0s - loss: 0.2604 - accuracy: 0.9232\n",
            "Epoch 55: saving model to .\\symbol_classifier.keras\n",
            "194/194 [==============================] - 1s 3ms/step - loss: 0.2603 - accuracy: 0.9233 - val_loss: 0.2254 - val_accuracy: 0.9523\n",
            "Epoch 56/1000\n",
            "190/194 [============================>.] - ETA: 0s - loss: 0.2662 - accuracy: 0.9217\n",
            "Epoch 56: saving model to .\\symbol_classifier.keras\n",
            "194/194 [==============================] - 1s 3ms/step - loss: 0.2665 - accuracy: 0.9217 - val_loss: 0.2186 - val_accuracy: 0.9535\n",
            "Epoch 57/1000\n",
            "182/194 [===========================>..] - ETA: 0s - loss: 0.2690 - accuracy: 0.9230\n",
            "Epoch 57: saving model to .\\symbol_classifier.keras\n",
            "194/194 [==============================] - 1s 3ms/step - loss: 0.2693 - accuracy: 0.9233 - val_loss: 0.2191 - val_accuracy: 0.9539\n",
            "Epoch 58/1000\n",
            "190/194 [============================>.] - ETA: 0s - loss: 0.2508 - accuracy: 0.9275\n",
            "Epoch 58: saving model to .\\symbol_classifier.keras\n",
            "194/194 [==============================] - 1s 3ms/step - loss: 0.2504 - accuracy: 0.9275 - val_loss: 0.2122 - val_accuracy: 0.9551\n",
            "Epoch 59/1000\n",
            "186/194 [===========================>..] - ETA: 0s - loss: 0.2497 - accuracy: 0.9260\n",
            "Epoch 59: saving model to .\\symbol_classifier.keras\n",
            "194/194 [==============================] - 1s 3ms/step - loss: 0.2528 - accuracy: 0.9254 - val_loss: 0.2132 - val_accuracy: 0.9543\n",
            "Epoch 60/1000\n",
            "194/194 [==============================] - ETA: 0s - loss: 0.2557 - accuracy: 0.9242\n",
            "Epoch 60: saving model to .\\symbol_classifier.keras\n",
            "194/194 [==============================] - 1s 3ms/step - loss: 0.2557 - accuracy: 0.9242 - val_loss: 0.2236 - val_accuracy: 0.9539\n",
            "Epoch 61/1000\n",
            "190/194 [============================>.] - ETA: 0s - loss: 0.2619 - accuracy: 0.9241\n",
            "Epoch 61: saving model to .\\symbol_classifier.keras\n",
            "194/194 [==============================] - 1s 3ms/step - loss: 0.2615 - accuracy: 0.9245 - val_loss: 0.2143 - val_accuracy: 0.9555\n",
            "Epoch 62/1000\n",
            "175/194 [==========================>...] - ETA: 0s - loss: 0.2509 - accuracy: 0.9259\n",
            "Epoch 62: saving model to .\\symbol_classifier.keras\n",
            "194/194 [==============================] - 1s 3ms/step - loss: 0.2527 - accuracy: 0.9259 - val_loss: 0.2255 - val_accuracy: 0.9516\n",
            "Epoch 63/1000\n",
            "194/194 [==============================] - ETA: 0s - loss: 0.2483 - accuracy: 0.9271\n",
            "Epoch 63: saving model to .\\symbol_classifier.keras\n",
            "194/194 [==============================] - 1s 3ms/step - loss: 0.2483 - accuracy: 0.9271 - val_loss: 0.2070 - val_accuracy: 0.9578\n",
            "Epoch 64/1000\n",
            "177/194 [==========================>...] - ETA: 0s - loss: 0.2447 - accuracy: 0.9285\n",
            "Epoch 64: saving model to .\\symbol_classifier.keras\n",
            "194/194 [==============================] - 1s 3ms/step - loss: 0.2475 - accuracy: 0.9276 - val_loss: 0.2134 - val_accuracy: 0.9527\n",
            "Epoch 65/1000\n",
            "185/194 [===========================>..] - ETA: 0s - loss: 0.2429 - accuracy: 0.9294\n",
            "Epoch 65: saving model to .\\symbol_classifier.keras\n",
            "194/194 [==============================] - 1s 3ms/step - loss: 0.2432 - accuracy: 0.9294 - val_loss: 0.2097 - val_accuracy: 0.9574\n",
            "Epoch 66/1000\n",
            "192/194 [============================>.] - ETA: 0s - loss: 0.2436 - accuracy: 0.9282\n",
            "Epoch 66: saving model to .\\symbol_classifier.keras\n",
            "194/194 [==============================] - 1s 3ms/step - loss: 0.2434 - accuracy: 0.9283 - val_loss: 0.2230 - val_accuracy: 0.9516\n",
            "Epoch 67/1000\n",
            "192/194 [============================>.] - ETA: 0s - loss: 0.2461 - accuracy: 0.9281\n",
            "Epoch 67: saving model to .\\symbol_classifier.keras\n",
            "194/194 [==============================] - 1s 3ms/step - loss: 0.2451 - accuracy: 0.9284 - val_loss: 0.2053 - val_accuracy: 0.9605\n",
            "Epoch 68/1000\n",
            "183/194 [===========================>..] - ETA: 0s - loss: 0.2332 - accuracy: 0.9316\n",
            "Epoch 68: saving model to .\\symbol_classifier.keras\n",
            "194/194 [==============================] - 1s 3ms/step - loss: 0.2347 - accuracy: 0.9311 - val_loss: 0.2092 - val_accuracy: 0.9605\n",
            "Epoch 69/1000\n",
            "178/194 [==========================>...] - ETA: 0s - loss: 0.2504 - accuracy: 0.9262\n",
            "Epoch 69: saving model to .\\symbol_classifier.keras\n",
            "194/194 [==============================] - 1s 3ms/step - loss: 0.2484 - accuracy: 0.9266 - val_loss: 0.2101 - val_accuracy: 0.9574\n",
            "Epoch 70/1000\n",
            "192/194 [============================>.] - ETA: 0s - loss: 0.2419 - accuracy: 0.9289\n",
            "Epoch 70: saving model to .\\symbol_classifier.keras\n",
            "194/194 [==============================] - 1s 4ms/step - loss: 0.2424 - accuracy: 0.9287 - val_loss: 0.1997 - val_accuracy: 0.9594\n",
            "Epoch 71/1000\n",
            "193/194 [============================>.] - ETA: 0s - loss: 0.2389 - accuracy: 0.9289\n",
            "Epoch 71: saving model to .\\symbol_classifier.keras\n",
            "194/194 [==============================] - 1s 3ms/step - loss: 0.2390 - accuracy: 0.9288 - val_loss: 0.2064 - val_accuracy: 0.9531\n",
            "Epoch 72/1000\n",
            "192/194 [============================>.] - ETA: 0s - loss: 0.2398 - accuracy: 0.9296\n",
            "Epoch 72: saving model to .\\symbol_classifier.keras\n",
            "194/194 [==============================] - 1s 3ms/step - loss: 0.2399 - accuracy: 0.9296 - val_loss: 0.2050 - val_accuracy: 0.9555\n",
            "Epoch 73/1000\n",
            "193/194 [============================>.] - ETA: 0s - loss: 0.2332 - accuracy: 0.9325\n",
            "Epoch 73: saving model to .\\symbol_classifier.keras\n",
            "194/194 [==============================] - 1s 3ms/step - loss: 0.2332 - accuracy: 0.9323 - val_loss: 0.2074 - val_accuracy: 0.9523\n",
            "Epoch 74/1000\n",
            "191/194 [============================>.] - ETA: 0s - loss: 0.2326 - accuracy: 0.9328\n",
            "Epoch 74: saving model to .\\symbol_classifier.keras\n",
            "194/194 [==============================] - 1s 3ms/step - loss: 0.2324 - accuracy: 0.9329 - val_loss: 0.2144 - val_accuracy: 0.9543\n",
            "Epoch 75/1000\n",
            "190/194 [============================>.] - ETA: 0s - loss: 0.2360 - accuracy: 0.9302\n",
            "Epoch 75: saving model to .\\symbol_classifier.keras\n",
            "194/194 [==============================] - 1s 3ms/step - loss: 0.2347 - accuracy: 0.9305 - val_loss: 0.2020 - val_accuracy: 0.9586\n",
            "Epoch 76/1000\n",
            "190/194 [============================>.] - ETA: 0s - loss: 0.2318 - accuracy: 0.9308\n",
            "Epoch 76: saving model to .\\symbol_classifier.keras\n",
            "194/194 [==============================] - 1s 3ms/step - loss: 0.2325 - accuracy: 0.9306 - val_loss: 0.2012 - val_accuracy: 0.9563\n",
            "Epoch 77/1000\n",
            "182/194 [===========================>..] - ETA: 0s - loss: 0.2239 - accuracy: 0.9330\n",
            "Epoch 77: saving model to .\\symbol_classifier.keras\n",
            "194/194 [==============================] - 1s 3ms/step - loss: 0.2251 - accuracy: 0.9332 - val_loss: 0.2051 - val_accuracy: 0.9512\n",
            "Epoch 78/1000\n",
            "188/194 [============================>.] - ETA: 0s - loss: 0.2266 - accuracy: 0.9313\n",
            "Epoch 78: saving model to .\\symbol_classifier.keras\n",
            "194/194 [==============================] - 1s 3ms/step - loss: 0.2283 - accuracy: 0.9313 - val_loss: 0.2059 - val_accuracy: 0.9602\n",
            "Epoch 79/1000\n",
            "185/194 [===========================>..] - ETA: 0s - loss: 0.2340 - accuracy: 0.9307\n",
            "Epoch 79: saving model to .\\symbol_classifier.keras\n",
            "194/194 [==============================] - 1s 3ms/step - loss: 0.2364 - accuracy: 0.9304 - val_loss: 0.2045 - val_accuracy: 0.9566\n",
            "Epoch 80/1000\n",
            "183/194 [===========================>..] - ETA: 0s - loss: 0.2298 - accuracy: 0.9333\n",
            "Epoch 80: saving model to .\\symbol_classifier.keras\n",
            "194/194 [==============================] - 1s 3ms/step - loss: 0.2314 - accuracy: 0.9333 - val_loss: 0.2035 - val_accuracy: 0.9570\n",
            "Epoch 81/1000\n",
            "188/194 [============================>.] - ETA: 0s - loss: 0.2250 - accuracy: 0.9349\n",
            "Epoch 81: saving model to .\\symbol_classifier.keras\n",
            "194/194 [==============================] - 1s 3ms/step - loss: 0.2245 - accuracy: 0.9351 - val_loss: 0.2059 - val_accuracy: 0.9586\n",
            "Epoch 82/1000\n",
            "184/194 [===========================>..] - ETA: 0s - loss: 0.2180 - accuracy: 0.9355\n",
            "Epoch 82: saving model to .\\symbol_classifier.keras\n",
            "194/194 [==============================] - 1s 3ms/step - loss: 0.2190 - accuracy: 0.9353 - val_loss: 0.2043 - val_accuracy: 0.9559\n",
            "Epoch 83/1000\n",
            "183/194 [===========================>..] - ETA: 0s - loss: 0.2234 - accuracy: 0.9346\n",
            "Epoch 83: saving model to .\\symbol_classifier.keras\n",
            "194/194 [==============================] - 1s 3ms/step - loss: 0.2248 - accuracy: 0.9341 - val_loss: 0.1995 - val_accuracy: 0.9563\n",
            "Epoch 84/1000\n",
            "181/194 [==========================>...] - ETA: 0s - loss: 0.2219 - accuracy: 0.9353\n",
            "Epoch 84: saving model to .\\symbol_classifier.keras\n",
            "194/194 [==============================] - 1s 3ms/step - loss: 0.2239 - accuracy: 0.9352 - val_loss: 0.2024 - val_accuracy: 0.9574\n",
            "Epoch 85/1000\n",
            "184/194 [===========================>..] - ETA: 0s - loss: 0.2300 - accuracy: 0.9334\n",
            "Epoch 85: saving model to .\\symbol_classifier.keras\n",
            "194/194 [==============================] - 1s 3ms/step - loss: 0.2290 - accuracy: 0.9331 - val_loss: 0.1899 - val_accuracy: 0.9578\n",
            "Epoch 86/1000\n",
            "178/194 [==========================>...] - ETA: 0s - loss: 0.2178 - accuracy: 0.9353\n",
            "Epoch 86: saving model to .\\symbol_classifier.keras\n",
            "194/194 [==============================] - 1s 3ms/step - loss: 0.2194 - accuracy: 0.9351 - val_loss: 0.2041 - val_accuracy: 0.9543\n",
            "Epoch 87/1000\n",
            "185/194 [===========================>..] - ETA: 0s - loss: 0.2267 - accuracy: 0.9343\n",
            "Epoch 87: saving model to .\\symbol_classifier.keras\n",
            "194/194 [==============================] - 1s 3ms/step - loss: 0.2268 - accuracy: 0.9344 - val_loss: 0.2105 - val_accuracy: 0.9551\n",
            "Epoch 88/1000\n",
            "183/194 [===========================>..] - ETA: 0s - loss: 0.2215 - accuracy: 0.9344\n",
            "Epoch 88: saving model to .\\symbol_classifier.keras\n",
            "194/194 [==============================] - 1s 3ms/step - loss: 0.2216 - accuracy: 0.9347 - val_loss: 0.2059 - val_accuracy: 0.9570\n",
            "Epoch 89/1000\n",
            "183/194 [===========================>..] - ETA: 0s - loss: 0.2242 - accuracy: 0.9342\n",
            "Epoch 89: saving model to .\\symbol_classifier.keras\n",
            "194/194 [==============================] - 1s 3ms/step - loss: 0.2242 - accuracy: 0.9345 - val_loss: 0.1981 - val_accuracy: 0.9559\n",
            "Epoch 90/1000\n",
            "184/194 [===========================>..] - ETA: 0s - loss: 0.2162 - accuracy: 0.9361\n",
            "Epoch 90: saving model to .\\symbol_classifier.keras\n",
            "194/194 [==============================] - 1s 3ms/step - loss: 0.2163 - accuracy: 0.9361 - val_loss: 0.1965 - val_accuracy: 0.9586\n",
            "Epoch 91/1000\n",
            "186/194 [===========================>..] - ETA: 0s - loss: 0.2167 - accuracy: 0.9351\n",
            "Epoch 91: saving model to .\\symbol_classifier.keras\n",
            "194/194 [==============================] - 1s 3ms/step - loss: 0.2152 - accuracy: 0.9359 - val_loss: 0.2020 - val_accuracy: 0.9582\n",
            "Epoch 92/1000\n",
            "194/194 [==============================] - ETA: 0s - loss: 0.2185 - accuracy: 0.9354\n",
            "Epoch 92: saving model to .\\symbol_classifier.keras\n",
            "194/194 [==============================] - 1s 3ms/step - loss: 0.2185 - accuracy: 0.9354 - val_loss: 0.1980 - val_accuracy: 0.9570\n",
            "Epoch 93/1000\n",
            "187/194 [===========================>..] - ETA: 0s - loss: 0.2110 - accuracy: 0.9367\n",
            "Epoch 93: saving model to .\\symbol_classifier.keras\n",
            "194/194 [==============================] - 1s 3ms/step - loss: 0.2120 - accuracy: 0.9363 - val_loss: 0.2050 - val_accuracy: 0.9570\n",
            "Epoch 94/1000\n",
            "184/194 [===========================>..] - ETA: 0s - loss: 0.2186 - accuracy: 0.9365\n",
            "Epoch 94: saving model to .\\symbol_classifier.keras\n",
            "194/194 [==============================] - 1s 3ms/step - loss: 0.2187 - accuracy: 0.9360 - val_loss: 0.1991 - val_accuracy: 0.9566\n",
            "Epoch 95/1000\n",
            "186/194 [===========================>..] - ETA: 0s - loss: 0.2194 - accuracy: 0.9349\n",
            "Epoch 95: saving model to .\\symbol_classifier.keras\n",
            "194/194 [==============================] - 1s 3ms/step - loss: 0.2206 - accuracy: 0.9347 - val_loss: 0.2010 - val_accuracy: 0.9563\n",
            "Epoch 96/1000\n",
            "194/194 [==============================] - ETA: 0s - loss: 0.2099 - accuracy: 0.9392\n",
            "Epoch 96: saving model to .\\symbol_classifier.keras\n",
            "194/194 [==============================] - 1s 3ms/step - loss: 0.2099 - accuracy: 0.9392 - val_loss: 0.1943 - val_accuracy: 0.9578\n",
            "Epoch 97/1000\n",
            "189/194 [============================>.] - ETA: 0s - loss: 0.2073 - accuracy: 0.9390\n",
            "Epoch 97: saving model to .\\symbol_classifier.keras\n",
            "194/194 [==============================] - 1s 3ms/step - loss: 0.2094 - accuracy: 0.9385 - val_loss: 0.2029 - val_accuracy: 0.9590\n",
            "Epoch 98/1000\n",
            "189/194 [============================>.] - ETA: 0s - loss: 0.2062 - accuracy: 0.9381\n",
            "Epoch 98: saving model to .\\symbol_classifier.keras\n",
            "194/194 [==============================] - 1s 3ms/step - loss: 0.2057 - accuracy: 0.9382 - val_loss: 0.1931 - val_accuracy: 0.9609\n",
            "Epoch 99/1000\n",
            "192/194 [============================>.] - ETA: 0s - loss: 0.2061 - accuracy: 0.9380\n",
            "Epoch 99: saving model to .\\symbol_classifier.keras\n",
            "194/194 [==============================] - 1s 3ms/step - loss: 0.2064 - accuracy: 0.9378 - val_loss: 0.1994 - val_accuracy: 0.9605\n",
            "Epoch 100/1000\n",
            "189/194 [============================>.] - ETA: 0s - loss: 0.2068 - accuracy: 0.9377\n",
            "Epoch 100: saving model to .\\symbol_classifier.keras\n",
            "194/194 [==============================] - 1s 3ms/step - loss: 0.2071 - accuracy: 0.9377 - val_loss: 0.1935 - val_accuracy: 0.9605\n",
            "Epoch 101/1000\n",
            "177/194 [==========================>...] - ETA: 0s - loss: 0.2130 - accuracy: 0.9376\n",
            "Epoch 101: saving model to .\\symbol_classifier.keras\n",
            "194/194 [==============================] - 1s 3ms/step - loss: 0.2125 - accuracy: 0.9379 - val_loss: 0.1955 - val_accuracy: 0.9566\n",
            "Epoch 102/1000\n",
            "186/194 [===========================>..] - ETA: 0s - loss: 0.2062 - accuracy: 0.9376\n",
            "Epoch 102: saving model to .\\symbol_classifier.keras\n",
            "194/194 [==============================] - 1s 3ms/step - loss: 0.2058 - accuracy: 0.9379 - val_loss: 0.2045 - val_accuracy: 0.9574\n",
            "Epoch 103/1000\n",
            "191/194 [============================>.] - ETA: 0s - loss: 0.2096 - accuracy: 0.9388\n",
            "Epoch 103: saving model to .\\symbol_classifier.keras\n",
            "194/194 [==============================] - 1s 3ms/step - loss: 0.2101 - accuracy: 0.9384 - val_loss: 0.1988 - val_accuracy: 0.9570\n",
            "Epoch 104/1000\n",
            "183/194 [===========================>..] - ETA: 0s - loss: 0.1997 - accuracy: 0.9409\n",
            "Epoch 104: saving model to .\\symbol_classifier.keras\n",
            "194/194 [==============================] - 1s 3ms/step - loss: 0.2007 - accuracy: 0.9403 - val_loss: 0.1957 - val_accuracy: 0.9582\n",
            "Epoch 105/1000\n",
            "187/194 [===========================>..] - ETA: 0s - loss: 0.2073 - accuracy: 0.9402\n",
            "Epoch 105: saving model to .\\symbol_classifier.keras\n",
            "194/194 [==============================] - 1s 3ms/step - loss: 0.2061 - accuracy: 0.9406 - val_loss: 0.2122 - val_accuracy: 0.9539\n",
            "Epoch 105: early stopping\n"
          ]
        },
        {
          "data": {
            "text/plain": [
              "<keras.src.callbacks.History at 0x224bdaa4e50>"
            ]
          },
          "execution_count": 12,
          "metadata": {},
          "output_type": "execute_result"
        }
      ],
      "source": [
        "model.fit(\n",
        "    X_train,\n",
        "    y_train,\n",
        "    epochs=1000,\n",
        "    batch_size=128,\n",
        "    validation_data=(X_valid, y_valid),\n",
        "    callbacks=[cp_callback, es_callback]\n",
        ")"
      ]
    },
    {
      "cell_type": "code",
      "execution_count": 13,
      "metadata": {},
      "outputs": [
        {
          "name": "stdout",
          "output_type": "stream",
          "text": [
            "60/60 [==============================] - 0s 1ms/step - loss: 0.1496 - accuracy: 0.9637\n"
          ]
        }
      ],
      "source": [
        "val_loss, val_acc = model.evaluate(X_test, y_test, batch_size=128)"
      ]
    },
    {
      "cell_type": "code",
      "execution_count": 14,
      "metadata": {
        "colab": {
          "base_uri": "https://localhost:8080/"
        },
        "id": "WirBl-JE9hE3",
        "outputId": "71b30ca2-8294-4d9d-8aa2-800d90d399de",
        "scrolled": true,
        "tags": [
          "outputPrepend"
        ]
      },
      "outputs": [],
      "source": [
        "model = tf.keras.models.load_model(model_save_path)"
      ]
    },
    {
      "cell_type": "code",
      "execution_count": 15,
      "metadata": {},
      "outputs": [
        {
          "name": "stdout",
          "output_type": "stream",
          "text": [
            "1/1 [==============================] - 0s 87ms/step\n",
            "[3.16906834e-10 2.23062480e-09 3.48325898e-07 1.21742643e-08\n",
            " 9.51405764e-06 4.96452575e-12 6.89978208e-08 9.77215336e-07\n",
            " 2.50507739e-08 8.59257832e-10 8.53163237e-06 6.34054642e-10\n",
            " 2.01399897e-09 4.46707812e-16 2.33440467e-09 1.07163403e-13\n",
            " 7.62011287e-10 6.77039907e-07 1.68206768e-07 3.81941554e-08\n",
            " 1.12897078e-06 4.36520090e-14 9.27906016e-12 3.60916288e-12\n",
            " 3.74163547e-12 2.68442664e-11 2.44815368e-08 1.46336321e-08\n",
            " 6.97565554e-07 6.81322163e-08 2.68151085e-10 7.49495666e-09\n",
            " 2.81151852e-10 9.99973536e-01 7.52923699e-18 1.14030541e-12\n",
            " 3.48644225e-09 3.17307240e-06 6.40856213e-09 5.13855403e-09\n",
            " 1.33822510e-07 1.03639114e-14 1.56217296e-11 1.17794031e-07\n",
            " 3.02390113e-09 1.34479127e-14 1.50210221e-13 1.51871487e-18\n",
            " 8.43312355e-17 3.04840286e-09 2.92677375e-11 1.96838422e-13\n",
            " 2.17859758e-11 5.80096184e-07 2.61412119e-08 1.55446803e-12\n",
            " 1.20537239e-12 3.23756581e-12]\n",
            "33\n",
            "33\n"
          ]
        }
      ],
      "source": [
        "# Inference test\n",
        "predict_result = model.predict(np.array([X_test[0]]))\n",
        "print(np.squeeze(predict_result))\n",
        "print(np.argmax(np.squeeze(predict_result)))\n",
        "print(y_test[0])"
      ]
    },
    {
      "cell_type": "markdown",
      "metadata": {
        "id": "S3U4yNWx9hE4"
      },
      "source": [
        "# Confusion matrix"
      ]
    },
    {
      "cell_type": "code",
      "execution_count": 16,
      "metadata": {
        "colab": {
          "base_uri": "https://localhost:8080/",
          "height": 582
        },
        "id": "AP1V6SCk9hE5",
        "outputId": "08e41a80-7a4a-4619-8125-ecc371368d19"
      },
      "outputs": [
        {
          "name": "stdout",
          "output_type": "stream",
          "text": [
            "240/240 [==============================] - 0s 992us/step\n"
          ]
        },
        {
          "data": {
            "image/png": "[encoded data removed]",
            "text/plain": [
              "<Figure size 700x600 with 2 Axes>"
            ]
          },
          "metadata": {},
          "output_type": "display_data"
        },
        {
          "name": "stdout",
          "output_type": "stream",
          "text": [
            "Classification Report\n",
            "              precision    recall  f1-score   support\n",
            "\n",
            "           0       1.00      0.96      0.98        79\n",
            "           1       0.99      0.81      0.89        93\n",
            "           2       0.97      0.98      0.98       103\n",
            "           3       0.97      0.93      0.95        98\n",
            "           4       0.97      0.93      0.95        75\n",
            "           5       0.93      0.94      0.94       106\n",
            "           6       0.96      0.97      0.96        92\n",
            "           7       0.94      0.84      0.89        95\n",
            "           8       0.95      0.95      0.95        95\n",
            "           9       0.98      0.97      0.97        90\n",
            "          10       0.96      0.92      0.94       100\n",
            "          11       0.90      0.92      0.91        89\n",
            "          12       0.89      0.97      0.93        96\n",
            "          13       0.89      0.91      0.90        93\n",
            "          14       0.99      0.93      0.96        92\n",
            "          15       0.99      1.00      1.00       101\n",
            "          16       0.96      0.95      0.96       101\n",
            "          17       0.96      0.99      0.97        95\n",
            "          18       0.95      0.93      0.94        94\n",
            "          19       0.92      0.95      0.93        91\n",
            "          20       0.92      1.00      0.96        92\n",
            "          21       0.93      0.92      0.93        93\n",
            "          22       0.96      1.00      0.98       110\n",
            "          23       0.94      0.99      0.97       102\n",
            "          24       0.95      0.86      0.90        98\n",
            "          25       0.98      0.95      0.97       103\n",
            "          26       0.94      0.92      0.93       106\n",
            "          27       0.97      0.93      0.95        99\n",
            "          28       0.91      0.92      0.92        93\n",
            "          29       0.91      0.99      0.95       106\n",
            "          30       0.99      0.95      0.97        92\n",
            "          31       0.92      0.89      0.91        97\n",
            "          32       0.96      0.99      0.97       173\n",
            "          33       1.00      0.99      1.00       174\n",
            "          34       1.00      0.99      1.00       182\n",
            "          35       0.99      1.00      1.00       167\n",
            "          36       1.00      0.99      0.99       187\n",
            "          37       0.97      0.98      0.97       177\n",
            "          38       0.97      1.00      0.99       185\n",
            "          39       0.96      0.94      0.95       181\n",
            "          40       0.98      0.95      0.97       175\n",
            "          41       1.00      1.00      1.00        97\n",
            "          42       0.96      0.99      0.97       194\n",
            "          43       1.00      0.99      1.00       178\n",
            "          44       0.98      0.99      0.99       183\n",
            "          45       0.95      1.00      0.98       186\n",
            "          46       0.98      0.90      0.94       187\n",
            "          47       0.93      0.92      0.93       184\n",
            "          48       0.96      1.00      0.98       165\n",
            "          49       0.99      0.98      0.99       179\n",
            "          50       0.99      0.97      0.98       186\n",
            "          51       0.91      0.98      0.94       184\n",
            "          52       0.99      0.97      0.98       170\n",
            "          53       0.97      0.99      0.98       187\n",
            "          54       0.93      0.98      0.96       181\n",
            "          55       0.97      1.00      0.99       171\n",
            "          56       0.99      0.99      0.99       191\n",
            "          57       0.98      0.96      0.97       187\n",
            "\n",
            "    accuracy                           0.96      7680\n",
            "   macro avg       0.96      0.96      0.96      7680\n",
            "weighted avg       0.96      0.96      0.96      7680\n",
            "\n"
          ]
        }
      ],
      "source": [
        "import pandas as pd\n",
        "import seaborn as sns\n",
        "import matplotlib.pyplot as plt\n",
        "from sklearn.metrics import confusion_matrix, classification_report\n",
        "\n",
        "def print_confusion_matrix(y_true, y_pred, report=True):\n",
        "    labels = sorted(list(set(y_true)))\n",
        "    cmx_data = confusion_matrix(y_true, y_pred, labels=labels)\n",
        "    \n",
        "    df_cmx = pd.DataFrame(cmx_data, index=labels, columns=labels)\n",
        " \n",
        "    fig, ax = plt.subplots(figsize=(7, 6))\n",
        "    sns.heatmap(df_cmx, annot=True, fmt='g' ,square=False)\n",
        "    ax.set_ylim(len(set(y_true)), 0)\n",
        "    plt.show()\n",
        "    \n",
        "    if report:\n",
        "        print('Classification Report')\n",
        "        print(classification_report(y_test, y_pred))\n",
        "\n",
        "Y_pred = model.predict(X_test)\n",
        "y_pred = np.argmax(Y_pred, axis=1)\n",
        "\n",
        "print_confusion_matrix(y_test, y_pred)"
      ]
    },
    {
      "cell_type": "markdown",
      "metadata": {
        "id": "FNP6aqzc9hE5"
      },
      "source": [
        "# Convert to model for Tensorflow-Lite"
      ]
    },
    {
      "cell_type": "code",
      "execution_count": 17,
      "metadata": {
        "id": "ODjnYyld9hE6"
      },
      "outputs": [],
      "source": [
        "# Save as a model dedicated to inference\n",
        "model.save(model_save_path)"
      ]
    },
    {
      "cell_type": "code",
      "execution_count": 18,
      "metadata": {},
      "outputs": [
        {
          "name": "stdout",
          "output_type": "stream",
          "text": [
            "INFO:tensorflow:Assets written to: C:\\Users\\zeins\\AppData\\Local\\Temp\\tmpcsceohus\\assets\n"
          ]
        },
        {
          "name": "stderr",
          "output_type": "stream",
          "text": [
            "INFO:tensorflow:Assets written to: C:\\Users\\zeins\\AppData\\Local\\Temp\\tmpcsceohus\\assets\n"
          ]
        },
        {
          "data": {
            "text/plain": [
              "81664"
            ]
          },
          "execution_count": 18,
          "metadata": {},
          "output_type": "execute_result"
        }
      ],
      "source": [
        "\n",
        "converter = tf.lite.TFLiteConverter.from_keras_model(model)\n",
        "converter.optimizations = [tf.lite.Optimize.DEFAULT]\n",
        "tflite_quantized_model = converter.convert()\n",
        "\n",
        "open(tflite_save_path, 'wb').write(tflite_quantized_model)"
      ]
    },
    {
      "cell_type": "code",
      "execution_count": 19,
      "metadata": {},
      "outputs": [],
      "source": [
        "interpreter = tf.lite.Interpreter(model_path=tflite_save_path)\n",
        "interpreter.allocate_tensors()"
      ]
    },
    {
      "cell_type": "code",
      "execution_count": 20,
      "metadata": {},
      "outputs": [],
      "source": [
        "# Get I / O tensor\n",
        "input_details = interpreter.get_input_details()\n",
        "output_details = interpreter.get_output_details()"
      ]
    },
    {
      "cell_type": "code",
      "execution_count": 21,
      "metadata": {},
      "outputs": [
        {
          "name": "stdout",
          "output_type": "stream",
          "text": [
            "[0. 0. 0. 0. 0. 0. 0. 0. 0. 0. 1. 0. 0. 0. 0. 0. 0. 0. 0. 0. 0. 0. 0. 0.\n",
            " 0. 0. 0. 0. 0. 0. 0. 0. 0. 0. 0. 0. 0. 0. 0. 0. 0. 0. 0. 0. 0. 0. 0. 0.\n",
            " 0. 0. 0. 0. 0. 0. 0. 0. 0. 0.]\n",
            "10\n",
            "CPU times: total: 0 ns\n",
            "Wall time: 1e+03 µs\n"
          ]
        }
      ],
      "source": [
        "%%time\n",
        "# Inference implementation\n",
        "interpreter.invoke()\n",
        "tflite_results = interpreter.get_tensor(output_details[0]['index'])\n",
        "print(np.squeeze(tflite_results))\n",
        "print(np.argmax(np.squeeze(tflite_results)))"
      ]
    }
  ],
  "metadata": {
    "accelerator": "GPU",
    "colab": {
      "collapsed_sections": [],
      "name": "keypoint_classification_EN.ipynb",
      "provenance": [],
      "toc_visible": true
    },
    "interpreter": {
      "hash": "85b733480cc67b8cf4f7b44ea859236688838663f0d4c864dc5b1de551a5e467"
    },
    "kernelspec": {
      "display_name": "Python 3.9.4 64-bit ('mpenv': conda)",
      "name": "python3"
    },
    "language_info": {
      "codemirror_mode": {
        "name": "ipython",
        "version": 3
      },
      "file_extension": ".py",
      "mimetype": "text/x-python",
      "name": "python",
      "nbconvert_exporter": "python",
      "pygments_lexer": "ipython3",
      "version": "3.10.13"
    }
  },
  "nbformat": 4,
  "nbformat_minor": 0
}
