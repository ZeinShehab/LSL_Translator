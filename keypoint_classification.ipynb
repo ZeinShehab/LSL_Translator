{
  "cells": [
    {
      "cell_type": "code",
      "execution_count": 78,
      "metadata": {
        "id": "igMyGnjE9hEp"
      },
      "outputs": [],
      "source": [
        "import csv\n",
        "\n",
        "import numpy as np\n",
        "import tensorflow as tf\n",
        "from sklearn.model_selection import train_test_split\n",
        "\n",
        "RANDOM_SEED = 42"
      ]
    },
    {
      "cell_type": "markdown",
      "metadata": {
        "id": "t2HDvhIu9hEr"
      },
      "source": [
        "# Specify each path"
      ]
    },
    {
      "cell_type": "code",
      "execution_count": 79,
      "metadata": {
        "id": "9NvZP2Zn9hEy"
      },
      "outputs": [],
      "source": [
        "train_dataset = 'data/train.csv'\n",
        "test_dataset = 'data/test.csv'\n",
        "model_save_path = 'model/keypoint_classifier.hdf5'\n",
        "tflite_save_path = 'model/keypoint_classifier.tflite'"
      ]
    },
    {
      "cell_type": "markdown",
      "metadata": {
        "id": "s5oMH7x19hEz"
      },
      "source": [
        "# Set number of classes"
      ]
    },
    {
      "cell_type": "code",
      "execution_count": 80,
      "metadata": {
        "id": "du4kodXL9hEz"
      },
      "outputs": [],
      "source": [
        "NUM_CLASSES = 32"
      ]
    },
    {
      "cell_type": "markdown",
      "metadata": {
        "id": "XjnL0uso9hEz"
      },
      "source": [
        "# Dataset reading"
      ]
    },
    {
      "cell_type": "code",
      "execution_count": 81,
      "metadata": {
        "id": "QT5ZqtEz9hE0"
      },
      "outputs": [],
      "source": [
        "X_train = np.loadtxt(train_dataset, delimiter=',', dtype='float32', usecols=list(range(1, (21 * 2) + 1)))\n",
        "X_test = np.loadtxt(test_dataset, delimiter=',', dtype='float32', usecols=list(range(1, (21 * 2) + 1)))\n"
      ]
    },
    {
      "cell_type": "code",
      "execution_count": 82,
      "metadata": {
        "id": "QmoKFsp49hE0"
      },
      "outputs": [],
      "source": [
        "y_train = np.loadtxt(train_dataset, delimiter=',', dtype='int32', usecols=(0))\n",
        "y_test = np.loadtxt(test_dataset, delimiter=',', dtype='int32', usecols=(0))"
      ]
    },
    {
      "cell_type": "code",
      "execution_count": 83,
      "metadata": {
        "id": "xQU7JTZ_9hE0"
      },
      "outputs": [],
      "source": [
        "# X_train, X_test, y_train, y_test = train_test_split(X_dataset, y_dataset, train_size=0.75, random_state=RANDOM_SEED)"
      ]
    },
    {
      "cell_type": "markdown",
      "metadata": {
        "id": "mxK_lETT9hE0"
      },
      "source": [
        "# Model building"
      ]
    },
    {
      "cell_type": "code",
      "execution_count": 84,
      "metadata": {
        "id": "vHBmUf1t9hE1"
      },
      "outputs": [],
      "source": [
        "model = tf.keras.models.Sequential([\n",
        "    tf.keras.layers.Input((21 * 2, )),\n",
        "    tf.keras.layers.Dropout(0.2),\n",
        "    tf.keras.layers.Dense(20, activation='relu'),\n",
        "    tf.keras.layers.Dropout(0.4),\n",
        "    tf.keras.layers.Dense(10, activation='relu'),\n",
        "    tf.keras.layers.Dense(NUM_CLASSES, activation='softmax')\n",
        "])"
      ]
    },
    {
      "cell_type": "code",
      "execution_count": 85,
      "metadata": {
        "colab": {
          "base_uri": "https://localhost:8080/"
        },
        "id": "ypqky9tc9hE1",
        "outputId": "5db082bb-30e3-4110-bf63-a1ee777ecd46"
      },
      "outputs": [
        {
          "name": "stdout",
          "output_type": "stream",
          "text": [
            "Model: \"sequential_5\"\n",
            "_________________________________________________________________\n",
            " Layer (type)                Output Shape              Param #   \n",
            "=================================================================\n",
            " dropout_10 (Dropout)        (None, 42)                0         \n",
            "                                                                 \n",
            " dense_15 (Dense)            (None, 20)                860       \n",
            "                                                                 \n",
            " dropout_11 (Dropout)        (None, 20)                0         \n",
            "                                                                 \n",
            " dense_16 (Dense)            (None, 10)                210       \n",
            "                                                                 \n",
            " dense_17 (Dense)            (None, 32)                352       \n",
            "                                                                 \n",
            "=================================================================\n",
            "Total params: 1422 (5.55 KB)\n",
            "Trainable params: 1422 (5.55 KB)\n",
            "Non-trainable params: 0 (0.00 Byte)\n",
            "_________________________________________________________________\n"
          ]
        }
      ],
      "source": [
        "model.summary()  # tf.keras.utils.plot_model(model, show_shapes=True)"
      ]
    },
    {
      "cell_type": "code",
      "execution_count": 86,
      "metadata": {
        "id": "MbMjOflQ9hE1"
      },
      "outputs": [],
      "source": [
        "# Model checkpoint callback\n",
        "cp_callback = tf.keras.callbacks.ModelCheckpoint(\n",
        "    model_save_path, verbose=1, save_weights_only=False)\n",
        "# Callback for early stopping\n",
        "es_callback = tf.keras.callbacks.EarlyStopping(patience=20, verbose=1)"
      ]
    },
    {
      "cell_type": "code",
      "execution_count": 87,
      "metadata": {
        "id": "c3Dac0M_9hE2"
      },
      "outputs": [],
      "source": [
        "# Model compilation\n",
        "model.compile(\n",
        "    optimizer='adam',\n",
        "    loss='sparse_categorical_crossentropy',\n",
        "    metrics=['accuracy']\n",
        ")"
      ]
    },
    {
      "cell_type": "markdown",
      "metadata": {
        "id": "7XI0j1Iu9hE2"
      },
      "source": [
        "# Model training"
      ]
    },
    {
      "cell_type": "code",
      "execution_count": 88,
      "metadata": {
        "colab": {
          "base_uri": "https://localhost:8080/"
        },
        "id": "WirBl-JE9hE3",
        "outputId": "71b30ca2-8294-4d9d-8aa2-800d90d399de",
        "scrolled": true,
        "tags": [
          "outputPrepend"
        ]
      },
      "outputs": [
        {
          "name": "stdout",
          "output_type": "stream",
          "text": [
            "Epoch 1/1000\n",
            "39/75 [==============>...............] - ETA: 0s - loss: 3.4731 - accuracy: 0.0280 \n",
            "Epoch 1: saving model to model\\keypoint_classifier.hdf5\n",
            "75/75 [==============================] - 1s 4ms/step - loss: 3.4602 - accuracy: 0.0298 - val_loss: 3.4271 - val_accuracy: 0.0562\n",
            "Epoch 2/1000\n",
            "43/75 [================>.............] - ETA: 0s - loss: 3.4250 - accuracy: 0.0403\n",
            "Epoch 2: saving model to model\\keypoint_classifier.hdf5\n",
            "75/75 [==============================] - 0s 2ms/step - loss: 3.4131 - accuracy: 0.0449 - val_loss: 3.3542 - val_accuracy: 0.0663\n"
          ]
        },
        {
          "name": "stderr",
          "output_type": "stream",
          "text": [
            "c:\\Users\\zeins\\anaconda3\\envs\\lsl\\lib\\site-packages\\keras\\src\\engine\\training.py:3103: UserWarning: You are saving your model as an HDF5 file via `model.save()`. This file format is considered legacy. We recommend using instead the native Keras format, e.g. `model.save('my_model.keras')`.\n",
            "  saving_api.save_model(\n"
          ]
        },
        {
          "name": "stdout",
          "output_type": "stream",
          "text": [
            "Epoch 3/1000\n",
            "43/75 [================>.............] - ETA: 0s - loss: 3.3570 - accuracy: 0.0705\n",
            "Epoch 3: saving model to model\\keypoint_classifier.hdf5\n",
            "75/75 [==============================] - 0s 2ms/step - loss: 3.3466 - accuracy: 0.0692 - val_loss: 3.2571 - val_accuracy: 0.1121\n",
            "Epoch 4/1000\n",
            "44/75 [================>.............] - ETA: 0s - loss: 3.2735 - accuracy: 0.0813\n",
            "Epoch 4: saving model to model\\keypoint_classifier.hdf5\n",
            "75/75 [==============================] - 0s 2ms/step - loss: 3.2524 - accuracy: 0.0848 - val_loss: 3.1139 - val_accuracy: 0.1242\n",
            "Epoch 5/1000\n",
            "43/75 [================>.............] - ETA: 0s - loss: 3.1593 - accuracy: 0.1027\n",
            "Epoch 5: saving model to model\\keypoint_classifier.hdf5\n",
            "75/75 [==============================] - 0s 2ms/step - loss: 3.1341 - accuracy: 0.1047 - val_loss: 2.9538 - val_accuracy: 0.1489\n",
            "Epoch 6/1000\n",
            "43/75 [================>.............] - ETA: 0s - loss: 3.0518 - accuracy: 0.1163\n",
            "Epoch 6: saving model to model\\keypoint_classifier.hdf5\n",
            "75/75 [==============================] - 0s 2ms/step - loss: 3.0279 - accuracy: 0.1189 - val_loss: 2.8173 - val_accuracy: 0.1966\n",
            "Epoch 7/1000\n",
            "43/75 [================>.............] - ETA: 0s - loss: 2.9578 - accuracy: 0.1374\n",
            "Epoch 7: saving model to model\\keypoint_classifier.hdf5\n",
            "75/75 [==============================] - 0s 2ms/step - loss: 2.9299 - accuracy: 0.1392 - val_loss: 2.6793 - val_accuracy: 0.2375\n",
            "Epoch 8/1000\n",
            "43/75 [================>.............] - ETA: 0s - loss: 2.8637 - accuracy: 0.1577\n",
            "Epoch 8: saving model to model\\keypoint_classifier.hdf5\n",
            "75/75 [==============================] - 0s 2ms/step - loss: 2.8545 - accuracy: 0.1605 - val_loss: 2.5737 - val_accuracy: 0.3085\n",
            "Epoch 9/1000\n",
            "42/75 [===============>..............] - ETA: 0s - loss: 2.8159 - accuracy: 0.1616\n",
            "Epoch 9: saving model to model\\keypoint_classifier.hdf5\n",
            "75/75 [==============================] - 0s 2ms/step - loss: 2.7928 - accuracy: 0.1701 - val_loss: 2.4821 - val_accuracy: 0.3656\n",
            "Epoch 10/1000\n",
            "44/75 [================>.............] - ETA: 0s - loss: 2.7393 - accuracy: 0.1795\n",
            "Epoch 10: saving model to model\\keypoint_classifier.hdf5\n",
            "75/75 [==============================] - 0s 2ms/step - loss: 2.7326 - accuracy: 0.1816 - val_loss: 2.3870 - val_accuracy: 0.3736\n",
            "Epoch 11/1000\n",
            "44/75 [================>.............] - ETA: 0s - loss: 2.6712 - accuracy: 0.1953\n",
            "Epoch 11: saving model to model\\keypoint_classifier.hdf5\n",
            "75/75 [==============================] - 0s 2ms/step - loss: 2.6686 - accuracy: 0.1948 - val_loss: 2.3075 - val_accuracy: 0.4039\n",
            "Epoch 12/1000\n",
            "41/75 [===============>..............] - ETA: 0s - loss: 2.6312 - accuracy: 0.2096\n",
            "Epoch 12: saving model to model\\keypoint_classifier.hdf5\n",
            "75/75 [==============================] - 0s 2ms/step - loss: 2.6211 - accuracy: 0.2112 - val_loss: 2.2287 - val_accuracy: 0.4220\n",
            "Epoch 13/1000\n",
            "43/75 [================>.............] - ETA: 0s - loss: 2.6053 - accuracy: 0.2059\n",
            "Epoch 13: saving model to model\\keypoint_classifier.hdf5\n",
            "75/75 [==============================] - 0s 2ms/step - loss: 2.6002 - accuracy: 0.2069 - val_loss: 2.1738 - val_accuracy: 0.4387\n",
            "Epoch 14/1000\n",
            "40/75 [===============>..............] - ETA: 0s - loss: 2.5597 - accuracy: 0.2230\n",
            "Epoch 14: saving model to model\\keypoint_classifier.hdf5\n",
            "75/75 [==============================] - 0s 2ms/step - loss: 2.5542 - accuracy: 0.2233 - val_loss: 2.1285 - val_accuracy: 0.4584\n",
            "Epoch 15/1000\n",
            "40/75 [===============>..............] - ETA: 0s - loss: 2.5376 - accuracy: 0.2229\n",
            "Epoch 15: saving model to model\\keypoint_classifier.hdf5\n",
            "75/75 [==============================] - 0s 2ms/step - loss: 2.5251 - accuracy: 0.2245 - val_loss: 2.0762 - val_accuracy: 0.4530\n",
            "Epoch 16/1000\n",
            "43/75 [================>.............] - ETA: 0s - loss: 2.5090 - accuracy: 0.2222\n",
            "Epoch 16: saving model to model\\keypoint_classifier.hdf5\n",
            "75/75 [==============================] - 0s 2ms/step - loss: 2.4995 - accuracy: 0.2275 - val_loss: 2.0356 - val_accuracy: 0.4646\n",
            "Epoch 17/1000\n",
            "42/75 [===============>..............] - ETA: 0s - loss: 2.4871 - accuracy: 0.2305\n",
            "Epoch 17: saving model to model\\keypoint_classifier.hdf5\n",
            "75/75 [==============================] - 0s 2ms/step - loss: 2.4849 - accuracy: 0.2312 - val_loss: 2.0232 - val_accuracy: 0.4787\n",
            "Epoch 18/1000\n",
            "43/75 [================>.............] - ETA: 0s - loss: 2.4858 - accuracy: 0.2289\n",
            "Epoch 18: saving model to model\\keypoint_classifier.hdf5\n",
            "75/75 [==============================] - 0s 2ms/step - loss: 2.4722 - accuracy: 0.2307 - val_loss: 1.9884 - val_accuracy: 0.4748\n",
            "Epoch 19/1000\n",
            "41/75 [===============>..............] - ETA: 0s - loss: 2.4246 - accuracy: 0.2429\n",
            "Epoch 19: saving model to model\\keypoint_classifier.hdf5\n",
            "75/75 [==============================] - 0s 2ms/step - loss: 2.4231 - accuracy: 0.2431 - val_loss: 1.9611 - val_accuracy: 0.5029\n",
            "Epoch 20/1000\n",
            "42/75 [===============>..............] - ETA: 0s - loss: 2.4196 - accuracy: 0.2576\n",
            "Epoch 20: saving model to model\\keypoint_classifier.hdf5\n",
            "75/75 [==============================] - 0s 2ms/step - loss: 2.4132 - accuracy: 0.2538 - val_loss: 1.9271 - val_accuracy: 0.4877\n",
            "Epoch 21/1000\n",
            "41/75 [===============>..............] - ETA: 0s - loss: 2.3864 - accuracy: 0.2517\n",
            "Epoch 21: saving model to model\\keypoint_classifier.hdf5\n",
            "75/75 [==============================] - 0s 2ms/step - loss: 2.3879 - accuracy: 0.2544 - val_loss: 1.9134 - val_accuracy: 0.5230\n",
            "Epoch 22/1000\n",
            "43/75 [================>.............] - ETA: 0s - loss: 2.4022 - accuracy: 0.2593\n",
            "Epoch 22: saving model to model\\keypoint_classifier.hdf5\n",
            "75/75 [==============================] - 0s 2ms/step - loss: 2.3930 - accuracy: 0.2543 - val_loss: 1.8953 - val_accuracy: 0.5320\n",
            "Epoch 23/1000\n",
            "43/75 [================>.............] - ETA: 0s - loss: 2.3692 - accuracy: 0.2593\n",
            "Epoch 23: saving model to model\\keypoint_classifier.hdf5\n",
            "75/75 [==============================] - 0s 2ms/step - loss: 2.3717 - accuracy: 0.2579 - val_loss: 1.8784 - val_accuracy: 0.5245\n",
            "Epoch 24/1000\n",
            "43/75 [================>.............] - ETA: 0s - loss: 2.3636 - accuracy: 0.2596\n",
            "Epoch 24: saving model to model\\keypoint_classifier.hdf5\n",
            "75/75 [==============================] - 0s 2ms/step - loss: 2.3595 - accuracy: 0.2610 - val_loss: 1.8458 - val_accuracy: 0.5232\n",
            "Epoch 25/1000\n",
            "43/75 [================>.............] - ETA: 0s - loss: 2.3408 - accuracy: 0.2678\n",
            "Epoch 25: saving model to model\\keypoint_classifier.hdf5\n",
            "75/75 [==============================] - 0s 2ms/step - loss: 2.3371 - accuracy: 0.2669 - val_loss: 1.8198 - val_accuracy: 0.5245\n",
            "Epoch 26/1000\n",
            "42/75 [===============>..............] - ETA: 0s - loss: 2.3375 - accuracy: 0.2742\n",
            "Epoch 26: saving model to model\\keypoint_classifier.hdf5\n",
            "75/75 [==============================] - 0s 2ms/step - loss: 2.3350 - accuracy: 0.2723 - val_loss: 1.8228 - val_accuracy: 0.5540\n",
            "Epoch 27/1000\n",
            "43/75 [================>.............] - ETA: 0s - loss: 2.3128 - accuracy: 0.2749\n",
            "Epoch 27: saving model to model\\keypoint_classifier.hdf5\n",
            "75/75 [==============================] - 0s 2ms/step - loss: 2.3072 - accuracy: 0.2758 - val_loss: 1.7893 - val_accuracy: 0.5424\n",
            "Epoch 28/1000\n",
            "44/75 [================>.............] - ETA: 0s - loss: 2.3376 - accuracy: 0.2651\n",
            "Epoch 28: saving model to model\\keypoint_classifier.hdf5\n",
            "75/75 [==============================] - 0s 2ms/step - loss: 2.3264 - accuracy: 0.2732 - val_loss: 1.7921 - val_accuracy: 0.5467\n",
            "Epoch 29/1000\n",
            "43/75 [================>.............] - ETA: 0s - loss: 2.3178 - accuracy: 0.2774\n",
            "Epoch 29: saving model to model\\keypoint_classifier.hdf5\n",
            "75/75 [==============================] - 0s 2ms/step - loss: 2.2956 - accuracy: 0.2843 - val_loss: 1.7745 - val_accuracy: 0.5552\n",
            "Epoch 30/1000\n",
            "43/75 [================>.............] - ETA: 0s - loss: 2.2760 - accuracy: 0.2811\n",
            "Epoch 30: saving model to model\\keypoint_classifier.hdf5\n",
            "75/75 [==============================] - 0s 2ms/step - loss: 2.2764 - accuracy: 0.2864 - val_loss: 1.7664 - val_accuracy: 0.5666\n",
            "Epoch 31/1000\n",
            "42/75 [===============>..............] - ETA: 0s - loss: 2.2906 - accuracy: 0.2833\n",
            "Epoch 31: saving model to model\\keypoint_classifier.hdf5\n",
            "75/75 [==============================] - 0s 2ms/step - loss: 2.2765 - accuracy: 0.2824 - val_loss: 1.7359 - val_accuracy: 0.5891\n",
            "Epoch 32/1000\n",
            "42/75 [===============>..............] - ETA: 0s - loss: 2.2871 - accuracy: 0.2852\n",
            "Epoch 32: saving model to model\\keypoint_classifier.hdf5\n",
            "75/75 [==============================] - 0s 2ms/step - loss: 2.2811 - accuracy: 0.2842 - val_loss: 1.7366 - val_accuracy: 0.5738\n",
            "Epoch 33/1000\n",
            "43/75 [================>.............] - ETA: 0s - loss: 2.2591 - accuracy: 0.2958\n",
            "Epoch 33: saving model to model\\keypoint_classifier.hdf5\n",
            "75/75 [==============================] - 0s 2ms/step - loss: 2.2531 - accuracy: 0.2984 - val_loss: 1.7176 - val_accuracy: 0.5816\n",
            "Epoch 34/1000\n",
            "43/75 [================>.............] - ETA: 0s - loss: 2.2594 - accuracy: 0.2892\n",
            "Epoch 34: saving model to model\\keypoint_classifier.hdf5\n",
            "75/75 [==============================] - 0s 2ms/step - loss: 2.2564 - accuracy: 0.2907 - val_loss: 1.7022 - val_accuracy: 0.5770\n",
            "Epoch 35/1000\n",
            "41/75 [===============>..............] - ETA: 0s - loss: 2.2377 - accuracy: 0.3016\n",
            "Epoch 35: saving model to model\\keypoint_classifier.hdf5\n",
            "75/75 [==============================] - 0s 2ms/step - loss: 2.2431 - accuracy: 0.2983 - val_loss: 1.7009 - val_accuracy: 0.5772\n",
            "Epoch 36/1000\n",
            "42/75 [===============>..............] - ETA: 0s - loss: 2.2575 - accuracy: 0.2814\n",
            "Epoch 36: saving model to model\\keypoint_classifier.hdf5\n",
            "75/75 [==============================] - 0s 2ms/step - loss: 2.2514 - accuracy: 0.2870 - val_loss: 1.6872 - val_accuracy: 0.5806\n",
            "Epoch 37/1000\n",
            "73/75 [============================>.] - ETA: 0s - loss: 2.2506 - accuracy: 0.3005\n",
            "Epoch 37: saving model to model\\keypoint_classifier.hdf5\n",
            "75/75 [==============================] - 0s 2ms/step - loss: 2.2480 - accuracy: 0.2997 - val_loss: 1.6862 - val_accuracy: 0.5717\n",
            "Epoch 38/1000\n",
            "41/75 [===============>..............] - ETA: 0s - loss: 2.2258 - accuracy: 0.2986\n",
            "Epoch 38: saving model to model\\keypoint_classifier.hdf5\n",
            "75/75 [==============================] - 0s 2ms/step - loss: 2.2211 - accuracy: 0.3031 - val_loss: 1.6649 - val_accuracy: 0.6029\n",
            "Epoch 39/1000\n",
            "74/75 [============================>.] - ETA: 0s - loss: 2.2048 - accuracy: 0.3079\n",
            "Epoch 39: saving model to model\\keypoint_classifier.hdf5\n",
            "75/75 [==============================] - 0s 2ms/step - loss: 2.2024 - accuracy: 0.3090 - val_loss: 1.6578 - val_accuracy: 0.5973\n",
            "Epoch 40/1000\n",
            "40/75 [===============>..............] - ETA: 0s - loss: 2.2272 - accuracy: 0.3063\n",
            "Epoch 40: saving model to model\\keypoint_classifier.hdf5\n",
            "75/75 [==============================] - 0s 2ms/step - loss: 2.2170 - accuracy: 0.3098 - val_loss: 1.6633 - val_accuracy: 0.5971\n",
            "Epoch 41/1000\n",
            "40/75 [===============>..............] - ETA: 0s - loss: 2.2207 - accuracy: 0.2990\n",
            "Epoch 41: saving model to model\\keypoint_classifier.hdf5\n",
            "75/75 [==============================] - 0s 2ms/step - loss: 2.2019 - accuracy: 0.3042 - val_loss: 1.6338 - val_accuracy: 0.5867\n",
            "Epoch 42/1000\n",
            "39/75 [==============>...............] - ETA: 0s - loss: 2.1742 - accuracy: 0.3165\n",
            "Epoch 42: saving model to model\\keypoint_classifier.hdf5\n",
            "75/75 [==============================] - 0s 2ms/step - loss: 2.1851 - accuracy: 0.3172 - val_loss: 1.6330 - val_accuracy: 0.5826\n",
            "Epoch 43/1000\n",
            "41/75 [===============>..............] - ETA: 0s - loss: 2.1863 - accuracy: 0.3131\n",
            "Epoch 43: saving model to model\\keypoint_classifier.hdf5\n",
            "75/75 [==============================] - 0s 2ms/step - loss: 2.1967 - accuracy: 0.3109 - val_loss: 1.6289 - val_accuracy: 0.6080\n",
            "Epoch 44/1000\n",
            "41/75 [===============>..............] - ETA: 0s - loss: 2.1942 - accuracy: 0.3039\n",
            "Epoch 44: saving model to model\\keypoint_classifier.hdf5\n",
            "75/75 [==============================] - 0s 2ms/step - loss: 2.1820 - accuracy: 0.3094 - val_loss: 1.6208 - val_accuracy: 0.5966\n",
            "Epoch 45/1000\n",
            "42/75 [===============>..............] - ETA: 0s - loss: 2.1881 - accuracy: 0.3149\n",
            "Epoch 45: saving model to model\\keypoint_classifier.hdf5\n",
            "75/75 [==============================] - 0s 2ms/step - loss: 2.1774 - accuracy: 0.3186 - val_loss: 1.6106 - val_accuracy: 0.5932\n",
            "Epoch 46/1000\n",
            "41/75 [===============>..............] - ETA: 0s - loss: 2.1642 - accuracy: 0.3186\n",
            "Epoch 46: saving model to model\\keypoint_classifier.hdf5\n",
            "75/75 [==============================] - 0s 2ms/step - loss: 2.1629 - accuracy: 0.3199 - val_loss: 1.6005 - val_accuracy: 0.6237\n",
            "Epoch 47/1000\n",
            "42/75 [===============>..............] - ETA: 0s - loss: 2.1733 - accuracy: 0.3132\n",
            "Epoch 47: saving model to model\\keypoint_classifier.hdf5\n",
            "75/75 [==============================] - 0s 2ms/step - loss: 2.1741 - accuracy: 0.3178 - val_loss: 1.5951 - val_accuracy: 0.6254\n",
            "Epoch 48/1000\n",
            "42/75 [===============>..............] - ETA: 0s - loss: 2.1764 - accuracy: 0.3212\n",
            "Epoch 48: saving model to model\\keypoint_classifier.hdf5\n",
            "75/75 [==============================] - 0s 2ms/step - loss: 2.1678 - accuracy: 0.3186 - val_loss: 1.5820 - val_accuracy: 0.6174\n",
            "Epoch 49/1000\n",
            "42/75 [===============>..............] - ETA: 0s - loss: 2.1567 - accuracy: 0.3231\n",
            "Epoch 49: saving model to model\\keypoint_classifier.hdf5\n",
            "75/75 [==============================] - 0s 2ms/step - loss: 2.1550 - accuracy: 0.3257 - val_loss: 1.5738 - val_accuracy: 0.6274\n",
            "Epoch 50/1000\n",
            "41/75 [===============>..............] - ETA: 0s - loss: 2.1499 - accuracy: 0.3102\n",
            "Epoch 50: saving model to model\\keypoint_classifier.hdf5\n",
            "75/75 [==============================] - 0s 2ms/step - loss: 2.1434 - accuracy: 0.3218 - val_loss: 1.5721 - val_accuracy: 0.6281\n",
            "Epoch 51/1000\n",
            "41/75 [===============>..............] - ETA: 0s - loss: 2.1559 - accuracy: 0.3079\n",
            "Epoch 51: saving model to model\\keypoint_classifier.hdf5\n",
            "75/75 [==============================] - 0s 2ms/step - loss: 2.1524 - accuracy: 0.3148 - val_loss: 1.5705 - val_accuracy: 0.6136\n",
            "Epoch 52/1000\n",
            "41/75 [===============>..............] - ETA: 0s - loss: 2.1311 - accuracy: 0.3323\n",
            "Epoch 52: saving model to model\\keypoint_classifier.hdf5\n",
            "75/75 [==============================] - 0s 2ms/step - loss: 2.1488 - accuracy: 0.3248 - val_loss: 1.5710 - val_accuracy: 0.6090\n",
            "Epoch 53/1000\n",
            "40/75 [===============>..............] - ETA: 0s - loss: 2.1135 - accuracy: 0.3270\n",
            "Epoch 53: saving model to model\\keypoint_classifier.hdf5\n",
            "75/75 [==============================] - 0s 2ms/step - loss: 2.1340 - accuracy: 0.3231 - val_loss: 1.5612 - val_accuracy: 0.6254\n",
            "Epoch 54/1000\n",
            "41/75 [===============>..............] - ETA: 0s - loss: 2.1418 - accuracy: 0.3232\n",
            "Epoch 54: saving model to model\\keypoint_classifier.hdf5\n",
            "75/75 [==============================] - 0s 2ms/step - loss: 2.1392 - accuracy: 0.3251 - val_loss: 1.5512 - val_accuracy: 0.6412\n",
            "Epoch 55/1000\n",
            "41/75 [===============>..............] - ETA: 0s - loss: 2.1306 - accuracy: 0.3222\n",
            "Epoch 55: saving model to model\\keypoint_classifier.hdf5\n",
            "75/75 [==============================] - 0s 2ms/step - loss: 2.1378 - accuracy: 0.3228 - val_loss: 1.5409 - val_accuracy: 0.6547\n",
            "Epoch 56/1000\n",
            "42/75 [===============>..............] - ETA: 0s - loss: 2.1062 - accuracy: 0.3406\n",
            "Epoch 56: saving model to model\\keypoint_classifier.hdf5\n",
            "75/75 [==============================] - 0s 2ms/step - loss: 2.1066 - accuracy: 0.3389 - val_loss: 1.5305 - val_accuracy: 0.6390\n",
            "Epoch 57/1000\n",
            "42/75 [===============>..............] - ETA: 0s - loss: 2.1190 - accuracy: 0.3354\n",
            "Epoch 57: saving model to model\\keypoint_classifier.hdf5\n",
            "75/75 [==============================] - 0s 2ms/step - loss: 2.1206 - accuracy: 0.3319 - val_loss: 1.5358 - val_accuracy: 0.6443\n",
            "Epoch 58/1000\n",
            "71/75 [===========================>..] - ETA: 0s - loss: 2.1113 - accuracy: 0.3326\n",
            "Epoch 58: saving model to model\\keypoint_classifier.hdf5\n",
            "75/75 [==============================] - 0s 2ms/step - loss: 2.1115 - accuracy: 0.3331 - val_loss: 1.5236 - val_accuracy: 0.6436\n",
            "Epoch 59/1000\n",
            "41/75 [===============>..............] - ETA: 0s - loss: 2.1279 - accuracy: 0.3325\n",
            "Epoch 59: saving model to model\\keypoint_classifier.hdf5\n",
            "75/75 [==============================] - 0s 2ms/step - loss: 2.1322 - accuracy: 0.3304 - val_loss: 1.5344 - val_accuracy: 0.6426\n",
            "Epoch 60/1000\n",
            "41/75 [===============>..............] - ETA: 0s - loss: 2.1153 - accuracy: 0.3314\n",
            "Epoch 60: saving model to model\\keypoint_classifier.hdf5\n",
            "75/75 [==============================] - 0s 2ms/step - loss: 2.1224 - accuracy: 0.3353 - val_loss: 1.5219 - val_accuracy: 0.6584\n",
            "Epoch 61/1000\n",
            "42/75 [===============>..............] - ETA: 0s - loss: 2.0834 - accuracy: 0.3404\n",
            "Epoch 61: saving model to model\\keypoint_classifier.hdf5\n",
            "75/75 [==============================] - 0s 2ms/step - loss: 2.0970 - accuracy: 0.3399 - val_loss: 1.5108 - val_accuracy: 0.6533\n",
            "Epoch 62/1000\n",
            "42/75 [===============>..............] - ETA: 0s - loss: 2.0890 - accuracy: 0.3380\n",
            "Epoch 62: saving model to model\\keypoint_classifier.hdf5\n",
            "75/75 [==============================] - 0s 2ms/step - loss: 2.0871 - accuracy: 0.3428 - val_loss: 1.5085 - val_accuracy: 0.6523\n",
            "Epoch 63/1000\n",
            "41/75 [===============>..............] - ETA: 0s - loss: 2.0994 - accuracy: 0.3460\n",
            "Epoch 63: saving model to model\\keypoint_classifier.hdf5\n",
            "75/75 [==============================] - 0s 2ms/step - loss: 2.0867 - accuracy: 0.3457 - val_loss: 1.4947 - val_accuracy: 0.6487\n",
            "Epoch 64/1000\n",
            "41/75 [===============>..............] - ETA: 0s - loss: 2.0818 - accuracy: 0.3434\n",
            "Epoch 64: saving model to model\\keypoint_classifier.hdf5\n",
            "75/75 [==============================] - 0s 2ms/step - loss: 2.0892 - accuracy: 0.3417 - val_loss: 1.4893 - val_accuracy: 0.6470\n",
            "Epoch 65/1000\n",
            "42/75 [===============>..............] - ETA: 0s - loss: 2.0794 - accuracy: 0.3503\n",
            "Epoch 65: saving model to model\\keypoint_classifier.hdf5\n",
            "75/75 [==============================] - 0s 2ms/step - loss: 2.0659 - accuracy: 0.3520 - val_loss: 1.4755 - val_accuracy: 0.6591\n",
            "Epoch 66/1000\n",
            "41/75 [===============>..............] - ETA: 0s - loss: 2.0690 - accuracy: 0.3489\n",
            "Epoch 66: saving model to model\\keypoint_classifier.hdf5\n",
            "75/75 [==============================] - 0s 2ms/step - loss: 2.0851 - accuracy: 0.3427 - val_loss: 1.4690 - val_accuracy: 0.6826\n",
            "Epoch 67/1000\n",
            "42/75 [===============>..............] - ETA: 0s - loss: 2.0859 - accuracy: 0.3495\n",
            "Epoch 67: saving model to model\\keypoint_classifier.hdf5\n",
            "75/75 [==============================] - 0s 2ms/step - loss: 2.0994 - accuracy: 0.3422 - val_loss: 1.4784 - val_accuracy: 0.6649\n",
            "Epoch 68/1000\n",
            "38/75 [==============>...............] - ETA: 0s - loss: 2.0793 - accuracy: 0.3390\n",
            "Epoch 68: saving model to model\\keypoint_classifier.hdf5\n",
            "75/75 [==============================] - 0s 2ms/step - loss: 2.0676 - accuracy: 0.3473 - val_loss: 1.4911 - val_accuracy: 0.6504\n",
            "Epoch 69/1000\n",
            "40/75 [===============>..............] - ETA: 0s - loss: 2.0579 - accuracy: 0.3572\n",
            "Epoch 69: saving model to model\\keypoint_classifier.hdf5\n",
            "75/75 [==============================] - 0s 2ms/step - loss: 2.0689 - accuracy: 0.3470 - val_loss: 1.4702 - val_accuracy: 0.6605\n",
            "Epoch 70/1000\n",
            "41/75 [===============>..............] - ETA: 0s - loss: 2.0782 - accuracy: 0.3405\n",
            "Epoch 70: saving model to model\\keypoint_classifier.hdf5\n",
            "75/75 [==============================] - 0s 2ms/step - loss: 2.0732 - accuracy: 0.3415 - val_loss: 1.4599 - val_accuracy: 0.6622\n",
            "Epoch 71/1000\n",
            "41/75 [===============>..............] - ETA: 0s - loss: 2.0577 - accuracy: 0.3514\n",
            "Epoch 71: saving model to model\\keypoint_classifier.hdf5\n",
            "75/75 [==============================] - 0s 2ms/step - loss: 2.0634 - accuracy: 0.3502 - val_loss: 1.4597 - val_accuracy: 0.6814\n",
            "Epoch 72/1000\n",
            "42/75 [===============>..............] - ETA: 0s - loss: 2.0583 - accuracy: 0.3625\n",
            "Epoch 72: saving model to model\\keypoint_classifier.hdf5\n",
            "75/75 [==============================] - 0s 2ms/step - loss: 2.0627 - accuracy: 0.3591 - val_loss: 1.4485 - val_accuracy: 0.6816\n",
            "Epoch 73/1000\n",
            "41/75 [===============>..............] - ETA: 0s - loss: 2.0639 - accuracy: 0.3500\n",
            "Epoch 73: saving model to model\\keypoint_classifier.hdf5\n",
            "75/75 [==============================] - 0s 2ms/step - loss: 2.0709 - accuracy: 0.3493 - val_loss: 1.4575 - val_accuracy: 0.6627\n",
            "Epoch 74/1000\n",
            "41/75 [===============>..............] - ETA: 0s - loss: 2.0584 - accuracy: 0.3430\n",
            "Epoch 74: saving model to model\\keypoint_classifier.hdf5\n",
            "75/75 [==============================] - 0s 2ms/step - loss: 2.0505 - accuracy: 0.3517 - val_loss: 1.4427 - val_accuracy: 0.6690\n",
            "Epoch 75/1000\n",
            "41/75 [===============>..............] - ETA: 0s - loss: 2.0496 - accuracy: 0.3537\n",
            "Epoch 75: saving model to model\\keypoint_classifier.hdf5\n",
            "75/75 [==============================] - 0s 2ms/step - loss: 2.0559 - accuracy: 0.3555 - val_loss: 1.4516 - val_accuracy: 0.6610\n",
            "Epoch 76/1000\n",
            "41/75 [===============>..............] - ETA: 0s - loss: 2.0456 - accuracy: 0.3538\n",
            "Epoch 76: saving model to model\\keypoint_classifier.hdf5\n",
            "75/75 [==============================] - 0s 2ms/step - loss: 2.0347 - accuracy: 0.3588 - val_loss: 1.4287 - val_accuracy: 0.6782\n",
            "Epoch 77/1000\n",
            "41/75 [===============>..............] - ETA: 0s - loss: 2.0291 - accuracy: 0.3577\n",
            "Epoch 77: saving model to model\\keypoint_classifier.hdf5\n",
            "75/75 [==============================] - 0s 2ms/step - loss: 2.0426 - accuracy: 0.3556 - val_loss: 1.4323 - val_accuracy: 0.6797\n",
            "Epoch 78/1000\n",
            "41/75 [===============>..............] - ETA: 0s - loss: 2.0748 - accuracy: 0.3523\n",
            "Epoch 78: saving model to model\\keypoint_classifier.hdf5\n",
            "75/75 [==============================] - 0s 2ms/step - loss: 2.0560 - accuracy: 0.3550 - val_loss: 1.4331 - val_accuracy: 0.6707\n",
            "Epoch 79/1000\n",
            "41/75 [===============>..............] - ETA: 0s - loss: 2.0228 - accuracy: 0.3550\n",
            "Epoch 79: saving model to model\\keypoint_classifier.hdf5\n",
            "75/75 [==============================] - 0s 2ms/step - loss: 2.0369 - accuracy: 0.3546 - val_loss: 1.4289 - val_accuracy: 0.6700\n",
            "Epoch 80/1000\n",
            "41/75 [===============>..............] - ETA: 0s - loss: 2.0332 - accuracy: 0.3582\n",
            "Epoch 80: saving model to model\\keypoint_classifier.hdf5\n",
            "75/75 [==============================] - 0s 2ms/step - loss: 2.0360 - accuracy: 0.3639 - val_loss: 1.4378 - val_accuracy: 0.6646\n",
            "Epoch 81/1000\n",
            "41/75 [===============>..............] - ETA: 0s - loss: 2.0301 - accuracy: 0.3632\n",
            "Epoch 81: saving model to model\\keypoint_classifier.hdf5\n",
            "75/75 [==============================] - 0s 2ms/step - loss: 2.0458 - accuracy: 0.3574 - val_loss: 1.4380 - val_accuracy: 0.6850\n",
            "Epoch 82/1000\n",
            "42/75 [===============>..............] - ETA: 0s - loss: 2.0359 - accuracy: 0.3646\n",
            "Epoch 82: saving model to model\\keypoint_classifier.hdf5\n",
            "75/75 [==============================] - 0s 2ms/step - loss: 2.0098 - accuracy: 0.3694 - val_loss: 1.4123 - val_accuracy: 0.6806\n",
            "Epoch 83/1000\n",
            "40/75 [===============>..............] - ETA: 0s - loss: 2.0269 - accuracy: 0.3725\n",
            "Epoch 83: saving model to model\\keypoint_classifier.hdf5\n",
            "75/75 [==============================] - 0s 2ms/step - loss: 2.0317 - accuracy: 0.3632 - val_loss: 1.4143 - val_accuracy: 0.6751\n",
            "Epoch 84/1000\n",
            "41/75 [===============>..............] - ETA: 0s - loss: 2.0335 - accuracy: 0.3607\n",
            "Epoch 84: saving model to model\\keypoint_classifier.hdf5\n",
            "75/75 [==============================] - 0s 2ms/step - loss: 2.0354 - accuracy: 0.3602 - val_loss: 1.4268 - val_accuracy: 0.6787\n",
            "Epoch 85/1000\n",
            "42/75 [===============>..............] - ETA: 0s - loss: 2.0248 - accuracy: 0.3668\n",
            "Epoch 85: saving model to model\\keypoint_classifier.hdf5\n",
            "75/75 [==============================] - 0s 2ms/step - loss: 2.0331 - accuracy: 0.3622 - val_loss: 1.4183 - val_accuracy: 0.6857\n",
            "Epoch 86/1000\n",
            "41/75 [===============>..............] - ETA: 0s - loss: 2.0388 - accuracy: 0.3643\n",
            "Epoch 86: saving model to model\\keypoint_classifier.hdf5\n",
            "75/75 [==============================] - 0s 2ms/step - loss: 2.0386 - accuracy: 0.3654 - val_loss: 1.4078 - val_accuracy: 0.6828\n",
            "Epoch 87/1000\n",
            "41/75 [===============>..............] - ETA: 0s - loss: 2.0068 - accuracy: 0.3733\n",
            "Epoch 87: saving model to model\\keypoint_classifier.hdf5\n",
            "75/75 [==============================] - 0s 2ms/step - loss: 2.0306 - accuracy: 0.3698 - val_loss: 1.4111 - val_accuracy: 0.6823\n",
            "Epoch 88/1000\n",
            "42/75 [===============>..............] - ETA: 0s - loss: 2.0130 - accuracy: 0.3677\n",
            "Epoch 88: saving model to model\\keypoint_classifier.hdf5\n",
            "75/75 [==============================] - 0s 2ms/step - loss: 2.0259 - accuracy: 0.3677 - val_loss: 1.3998 - val_accuracy: 0.6952\n",
            "Epoch 89/1000\n",
            "42/75 [===============>..............] - ETA: 0s - loss: 2.0238 - accuracy: 0.3692\n",
            "Epoch 89: saving model to model\\keypoint_classifier.hdf5\n",
            "75/75 [==============================] - 0s 2ms/step - loss: 2.0072 - accuracy: 0.3704 - val_loss: 1.4033 - val_accuracy: 0.7000\n",
            "Epoch 90/1000\n",
            "41/75 [===============>..............] - ETA: 0s - loss: 2.0230 - accuracy: 0.3626\n",
            "Epoch 90: saving model to model\\keypoint_classifier.hdf5\n",
            "75/75 [==============================] - 0s 2ms/step - loss: 2.0340 - accuracy: 0.3630 - val_loss: 1.4116 - val_accuracy: 0.6889\n",
            "Epoch 91/1000\n",
            "40/75 [===============>..............] - ETA: 0s - loss: 2.0031 - accuracy: 0.3627\n",
            "Epoch 91: saving model to model\\keypoint_classifier.hdf5\n",
            "75/75 [==============================] - 0s 2ms/step - loss: 2.0167 - accuracy: 0.3660 - val_loss: 1.3959 - val_accuracy: 0.7029\n",
            "Epoch 92/1000\n",
            "41/75 [===============>..............] - ETA: 0s - loss: 2.0239 - accuracy: 0.3700\n",
            "Epoch 92: saving model to model\\keypoint_classifier.hdf5\n",
            "75/75 [==============================] - 0s 2ms/step - loss: 2.0221 - accuracy: 0.3691 - val_loss: 1.3982 - val_accuracy: 0.6944\n",
            "Epoch 93/1000\n",
            "42/75 [===============>..............] - ETA: 0s - loss: 2.0227 - accuracy: 0.3739\n",
            "Epoch 93: saving model to model\\keypoint_classifier.hdf5\n",
            "75/75 [==============================] - 0s 2ms/step - loss: 2.0040 - accuracy: 0.3772 - val_loss: 1.3975 - val_accuracy: 0.6835\n",
            "Epoch 94/1000\n",
            "41/75 [===============>..............] - ETA: 0s - loss: 1.9981 - accuracy: 0.3645\n",
            "Epoch 94: saving model to model\\keypoint_classifier.hdf5\n",
            "75/75 [==============================] - 0s 2ms/step - loss: 2.0039 - accuracy: 0.3647 - val_loss: 1.3945 - val_accuracy: 0.6969\n",
            "Epoch 95/1000\n",
            "42/75 [===============>..............] - ETA: 0s - loss: 1.9993 - accuracy: 0.3674\n",
            "Epoch 95: saving model to model\\keypoint_classifier.hdf5\n",
            "75/75 [==============================] - 0s 2ms/step - loss: 2.0108 - accuracy: 0.3673 - val_loss: 1.3929 - val_accuracy: 0.6838\n",
            "Epoch 96/1000\n",
            "42/75 [===============>..............] - ETA: 0s - loss: 1.9940 - accuracy: 0.3672\n",
            "Epoch 96: saving model to model\\keypoint_classifier.hdf5\n",
            "75/75 [==============================] - 0s 2ms/step - loss: 1.9915 - accuracy: 0.3716 - val_loss: 1.3896 - val_accuracy: 0.6947\n",
            "Epoch 97/1000\n",
            "40/75 [===============>..............] - ETA: 0s - loss: 1.9869 - accuracy: 0.3805\n",
            "Epoch 97: saving model to model\\keypoint_classifier.hdf5\n",
            "75/75 [==============================] - 0s 2ms/step - loss: 2.0019 - accuracy: 0.3760 - val_loss: 1.3801 - val_accuracy: 0.7017\n",
            "Epoch 98/1000\n",
            "42/75 [===============>..............] - ETA: 0s - loss: 1.9952 - accuracy: 0.3767\n",
            "Epoch 98: saving model to model\\keypoint_classifier.hdf5\n",
            "75/75 [==============================] - 0s 2ms/step - loss: 2.0040 - accuracy: 0.3765 - val_loss: 1.3716 - val_accuracy: 0.6993\n",
            "Epoch 99/1000\n",
            "41/75 [===============>..............] - ETA: 0s - loss: 2.0253 - accuracy: 0.3628\n",
            "Epoch 99: saving model to model\\keypoint_classifier.hdf5\n",
            "75/75 [==============================] - 0s 2ms/step - loss: 2.0026 - accuracy: 0.3694 - val_loss: 1.3824 - val_accuracy: 0.6966\n",
            "Epoch 100/1000\n",
            "42/75 [===============>..............] - ETA: 0s - loss: 2.0106 - accuracy: 0.3709\n",
            "Epoch 100: saving model to model\\keypoint_classifier.hdf5\n",
            "75/75 [==============================] - 0s 2ms/step - loss: 1.9896 - accuracy: 0.3729 - val_loss: 1.3762 - val_accuracy: 0.6944\n",
            "Epoch 101/1000\n",
            "41/75 [===============>..............] - ETA: 0s - loss: 1.9811 - accuracy: 0.3845\n",
            "Epoch 101: saving model to model\\keypoint_classifier.hdf5\n",
            "75/75 [==============================] - 0s 2ms/step - loss: 1.9873 - accuracy: 0.3829 - val_loss: 1.3680 - val_accuracy: 0.6826\n",
            "Epoch 102/1000\n",
            "42/75 [===============>..............] - ETA: 0s - loss: 1.9878 - accuracy: 0.3808\n",
            "Epoch 102: saving model to model\\keypoint_classifier.hdf5\n",
            "75/75 [==============================] - 0s 2ms/step - loss: 1.9809 - accuracy: 0.3809 - val_loss: 1.3736 - val_accuracy: 0.6886\n",
            "Epoch 103/1000\n",
            "42/75 [===============>..............] - ETA: 0s - loss: 1.9969 - accuracy: 0.3806\n",
            "Epoch 103: saving model to model\\keypoint_classifier.hdf5\n",
            "75/75 [==============================] - 0s 2ms/step - loss: 1.9954 - accuracy: 0.3813 - val_loss: 1.3818 - val_accuracy: 0.6862\n",
            "Epoch 104/1000\n",
            "41/75 [===============>..............] - ETA: 0s - loss: 1.9661 - accuracy: 0.3895\n",
            "Epoch 104: saving model to model\\keypoint_classifier.hdf5\n",
            "75/75 [==============================] - 0s 2ms/step - loss: 1.9779 - accuracy: 0.3853 - val_loss: 1.3609 - val_accuracy: 0.6881\n",
            "Epoch 105/1000\n",
            "38/75 [==============>...............] - ETA: 0s - loss: 1.9933 - accuracy: 0.3734\n",
            "Epoch 105: saving model to model\\keypoint_classifier.hdf5\n",
            "75/75 [==============================] - 0s 2ms/step - loss: 1.9797 - accuracy: 0.3784 - val_loss: 1.3695 - val_accuracy: 0.6852\n",
            "Epoch 106/1000\n",
            "41/75 [===============>..............] - ETA: 0s - loss: 2.0032 - accuracy: 0.3821\n",
            "Epoch 106: saving model to model\\keypoint_classifier.hdf5\n",
            "75/75 [==============================] - 0s 2ms/step - loss: 1.9996 - accuracy: 0.3789 - val_loss: 1.3697 - val_accuracy: 0.6971\n",
            "Epoch 107/1000\n",
            "42/75 [===============>..............] - ETA: 0s - loss: 2.0181 - accuracy: 0.3785\n",
            "Epoch 107: saving model to model\\keypoint_classifier.hdf5\n",
            "75/75 [==============================] - 0s 2ms/step - loss: 2.0148 - accuracy: 0.3786 - val_loss: 1.3805 - val_accuracy: 0.6838\n",
            "Epoch 108/1000\n",
            "41/75 [===============>..............] - ETA: 0s - loss: 1.9621 - accuracy: 0.3855\n",
            "Epoch 108: saving model to model\\keypoint_classifier.hdf5\n",
            "75/75 [==============================] - 0s 2ms/step - loss: 1.9707 - accuracy: 0.3846 - val_loss: 1.3720 - val_accuracy: 0.6886\n",
            "Epoch 109/1000\n",
            "41/75 [===============>..............] - ETA: 0s - loss: 2.0004 - accuracy: 0.3786\n",
            "Epoch 109: saving model to model\\keypoint_classifier.hdf5\n",
            "75/75 [==============================] - 0s 2ms/step - loss: 1.9948 - accuracy: 0.3783 - val_loss: 1.3586 - val_accuracy: 0.6998\n",
            "Epoch 110/1000\n",
            "41/75 [===============>..............] - ETA: 0s - loss: 1.9905 - accuracy: 0.3920\n",
            "Epoch 110: saving model to model\\keypoint_classifier.hdf5\n",
            "75/75 [==============================] - 0s 2ms/step - loss: 1.9921 - accuracy: 0.3867 - val_loss: 1.3860 - val_accuracy: 0.6906\n",
            "Epoch 111/1000\n",
            "41/75 [===============>..............] - ETA: 0s - loss: 1.9670 - accuracy: 0.3828\n",
            "Epoch 111: saving model to model\\keypoint_classifier.hdf5\n",
            "75/75 [==============================] - 0s 2ms/step - loss: 1.9682 - accuracy: 0.3846 - val_loss: 1.3506 - val_accuracy: 0.7077\n",
            "Epoch 112/1000\n",
            "41/75 [===============>..............] - ETA: 0s - loss: 1.9652 - accuracy: 0.3872\n",
            "Epoch 112: saving model to model\\keypoint_classifier.hdf5\n",
            "75/75 [==============================] - 0s 2ms/step - loss: 1.9755 - accuracy: 0.3816 - val_loss: 1.3656 - val_accuracy: 0.6913\n",
            "Epoch 113/1000\n",
            "41/75 [===============>..............] - ETA: 0s - loss: 1.9783 - accuracy: 0.3897\n",
            "Epoch 113: saving model to model\\keypoint_classifier.hdf5\n",
            "75/75 [==============================] - 0s 2ms/step - loss: 1.9709 - accuracy: 0.3881 - val_loss: 1.3618 - val_accuracy: 0.7090\n",
            "Epoch 114/1000\n",
            "41/75 [===============>..............] - ETA: 0s - loss: 1.9754 - accuracy: 0.3822\n",
            "Epoch 114: saving model to model\\keypoint_classifier.hdf5\n",
            "75/75 [==============================] - 0s 2ms/step - loss: 1.9753 - accuracy: 0.3835 - val_loss: 1.3568 - val_accuracy: 0.6990\n",
            "Epoch 115/1000\n",
            "41/75 [===============>..............] - ETA: 0s - loss: 1.9832 - accuracy: 0.3815\n",
            "Epoch 115: saving model to model\\keypoint_classifier.hdf5\n",
            "75/75 [==============================] - 0s 2ms/step - loss: 1.9780 - accuracy: 0.3847 - val_loss: 1.3553 - val_accuracy: 0.6872\n",
            "Epoch 116/1000\n",
            "41/75 [===============>..............] - ETA: 0s - loss: 1.9660 - accuracy: 0.3855\n",
            "Epoch 116: saving model to model\\keypoint_classifier.hdf5\n",
            "75/75 [==============================] - 0s 2ms/step - loss: 1.9781 - accuracy: 0.3819 - val_loss: 1.3621 - val_accuracy: 0.6874\n",
            "Epoch 117/1000\n",
            "42/75 [===============>..............] - ETA: 0s - loss: 1.9700 - accuracy: 0.3862\n",
            "Epoch 117: saving model to model\\keypoint_classifier.hdf5\n",
            "75/75 [==============================] - 0s 2ms/step - loss: 1.9691 - accuracy: 0.3911 - val_loss: 1.3463 - val_accuracy: 0.6944\n",
            "Epoch 118/1000\n",
            "42/75 [===============>..............] - ETA: 0s - loss: 1.9656 - accuracy: 0.3875\n",
            "Epoch 118: saving model to model\\keypoint_classifier.hdf5\n",
            "75/75 [==============================] - 0s 2ms/step - loss: 1.9717 - accuracy: 0.3814 - val_loss: 1.3643 - val_accuracy: 0.6823\n",
            "Epoch 119/1000\n",
            "41/75 [===============>..............] - ETA: 0s - loss: 1.9787 - accuracy: 0.3819\n",
            "Epoch 119: saving model to model\\keypoint_classifier.hdf5\n",
            "75/75 [==============================] - 0s 2ms/step - loss: 1.9741 - accuracy: 0.3847 - val_loss: 1.3450 - val_accuracy: 0.6998\n",
            "Epoch 120/1000\n",
            "41/75 [===============>..............] - ETA: 0s - loss: 1.9595 - accuracy: 0.3948\n",
            "Epoch 120: saving model to model\\keypoint_classifier.hdf5\n",
            "75/75 [==============================] - 0s 2ms/step - loss: 1.9677 - accuracy: 0.3882 - val_loss: 1.3568 - val_accuracy: 0.7010\n",
            "Epoch 121/1000\n",
            "41/75 [===============>..............] - ETA: 0s - loss: 1.9755 - accuracy: 0.3838\n",
            "Epoch 121: saving model to model\\keypoint_classifier.hdf5\n",
            "75/75 [==============================] - 0s 2ms/step - loss: 1.9697 - accuracy: 0.3860 - val_loss: 1.3574 - val_accuracy: 0.6782\n",
            "Epoch 122/1000\n",
            "41/75 [===============>..............] - ETA: 0s - loss: 1.9609 - accuracy: 0.3889\n",
            "Epoch 122: saving model to model\\keypoint_classifier.hdf5\n",
            "75/75 [==============================] - 0s 2ms/step - loss: 1.9579 - accuracy: 0.3905 - val_loss: 1.3523 - val_accuracy: 0.6930\n",
            "Epoch 123/1000\n",
            "42/75 [===============>..............] - ETA: 0s - loss: 1.9618 - accuracy: 0.3921\n",
            "Epoch 123: saving model to model\\keypoint_classifier.hdf5\n",
            "75/75 [==============================] - 0s 2ms/step - loss: 1.9612 - accuracy: 0.3898 - val_loss: 1.3583 - val_accuracy: 0.6799\n",
            "Epoch 124/1000\n",
            "41/75 [===============>..............] - ETA: 0s - loss: 1.9763 - accuracy: 0.3790\n",
            "Epoch 124: saving model to model\\keypoint_classifier.hdf5\n",
            "75/75 [==============================] - 0s 2ms/step - loss: 1.9749 - accuracy: 0.3875 - val_loss: 1.3504 - val_accuracy: 0.6835\n",
            "Epoch 125/1000\n",
            "38/75 [==============>...............] - ETA: 0s - loss: 1.9594 - accuracy: 0.3865\n",
            "Epoch 125: saving model to model\\keypoint_classifier.hdf5\n",
            "75/75 [==============================] - 0s 2ms/step - loss: 1.9556 - accuracy: 0.3891 - val_loss: 1.3438 - val_accuracy: 0.7010\n",
            "Epoch 126/1000\n",
            "41/75 [===============>..............] - ETA: 0s - loss: 1.9498 - accuracy: 0.3872\n",
            "Epoch 126: saving model to model\\keypoint_classifier.hdf5\n",
            "75/75 [==============================] - 0s 2ms/step - loss: 1.9652 - accuracy: 0.3830 - val_loss: 1.3406 - val_accuracy: 0.7010\n",
            "Epoch 127/1000\n",
            "40/75 [===============>..............] - ETA: 0s - loss: 1.9711 - accuracy: 0.4012\n",
            "Epoch 127: saving model to model\\keypoint_classifier.hdf5\n",
            "75/75 [==============================] - 0s 2ms/step - loss: 1.9556 - accuracy: 0.3959 - val_loss: 1.3550 - val_accuracy: 0.6937\n",
            "Epoch 128/1000\n",
            "41/75 [===============>..............] - ETA: 0s - loss: 1.9520 - accuracy: 0.3868\n",
            "Epoch 128: saving model to model\\keypoint_classifier.hdf5\n",
            "75/75 [==============================] - 0s 2ms/step - loss: 1.9448 - accuracy: 0.3903 - val_loss: 1.3178 - val_accuracy: 0.7031\n",
            "Epoch 129/1000\n",
            "40/75 [===============>..............] - ETA: 0s - loss: 1.9920 - accuracy: 0.3814\n",
            "Epoch 129: saving model to model\\keypoint_classifier.hdf5\n",
            "75/75 [==============================] - 0s 2ms/step - loss: 1.9612 - accuracy: 0.3821 - val_loss: 1.3402 - val_accuracy: 0.6949\n",
            "Epoch 130/1000\n",
            "41/75 [===============>..............] - ETA: 0s - loss: 1.9460 - accuracy: 0.3832\n",
            "Epoch 130: saving model to model\\keypoint_classifier.hdf5\n",
            "75/75 [==============================] - 0s 2ms/step - loss: 1.9555 - accuracy: 0.3847 - val_loss: 1.3526 - val_accuracy: 0.6923\n",
            "Epoch 131/1000\n",
            "41/75 [===============>..............] - ETA: 0s - loss: 1.9754 - accuracy: 0.3950\n",
            "Epoch 131: saving model to model\\keypoint_classifier.hdf5\n",
            "75/75 [==============================] - 0s 2ms/step - loss: 1.9650 - accuracy: 0.3963 - val_loss: 1.3622 - val_accuracy: 0.6862\n",
            "Epoch 132/1000\n",
            "42/75 [===============>..............] - ETA: 0s - loss: 1.9661 - accuracy: 0.3968\n",
            "Epoch 132: saving model to model\\keypoint_classifier.hdf5\n",
            "75/75 [==============================] - 0s 2ms/step - loss: 1.9494 - accuracy: 0.3969 - val_loss: 1.3519 - val_accuracy: 0.6886\n",
            "Epoch 133/1000\n",
            "42/75 [===============>..............] - ETA: 0s - loss: 1.9291 - accuracy: 0.4018\n",
            "Epoch 133: saving model to model\\keypoint_classifier.hdf5\n",
            "75/75 [==============================] - 0s 2ms/step - loss: 1.9472 - accuracy: 0.3959 - val_loss: 1.3499 - val_accuracy: 0.6971\n",
            "Epoch 134/1000\n",
            "42/75 [===============>..............] - ETA: 0s - loss: 1.9495 - accuracy: 0.3999\n",
            "Epoch 134: saving model to model\\keypoint_classifier.hdf5\n",
            "75/75 [==============================] - 0s 2ms/step - loss: 1.9640 - accuracy: 0.3947 - val_loss: 1.3452 - val_accuracy: 0.6930\n",
            "Epoch 135/1000\n",
            "42/75 [===============>..............] - ETA: 0s - loss: 1.9483 - accuracy: 0.3886\n",
            "Epoch 135: saving model to model\\keypoint_classifier.hdf5\n",
            "75/75 [==============================] - 0s 2ms/step - loss: 1.9638 - accuracy: 0.3859 - val_loss: 1.3415 - val_accuracy: 0.6961\n",
            "Epoch 136/1000\n",
            "41/75 [===============>..............] - ETA: 0s - loss: 1.9283 - accuracy: 0.3887\n",
            "Epoch 136: saving model to model\\keypoint_classifier.hdf5\n",
            "75/75 [==============================] - 0s 2ms/step - loss: 1.9459 - accuracy: 0.3902 - val_loss: 1.3673 - val_accuracy: 0.6692\n",
            "Epoch 137/1000\n",
            "42/75 [===============>..............] - ETA: 0s - loss: 1.9186 - accuracy: 0.4025\n",
            "Epoch 137: saving model to model\\keypoint_classifier.hdf5\n",
            "75/75 [==============================] - 0s 2ms/step - loss: 1.9319 - accuracy: 0.3983 - val_loss: 1.3531 - val_accuracy: 0.6772\n",
            "Epoch 138/1000\n",
            "42/75 [===============>..............] - ETA: 0s - loss: 1.9423 - accuracy: 0.3871\n",
            "Epoch 138: saving model to model\\keypoint_classifier.hdf5\n",
            "75/75 [==============================] - 0s 2ms/step - loss: 1.9268 - accuracy: 0.3965 - val_loss: 1.3521 - val_accuracy: 0.6751\n",
            "Epoch 139/1000\n",
            "41/75 [===============>..............] - ETA: 0s - loss: 1.9319 - accuracy: 0.3923\n",
            "Epoch 139: saving model to model\\keypoint_classifier.hdf5\n",
            "75/75 [==============================] - 0s 2ms/step - loss: 1.9366 - accuracy: 0.3897 - val_loss: 1.3406 - val_accuracy: 0.7007\n",
            "Epoch 140/1000\n",
            "40/75 [===============>..............] - ETA: 0s - loss: 1.9388 - accuracy: 0.3969\n",
            "Epoch 140: saving model to model\\keypoint_classifier.hdf5\n",
            "75/75 [==============================] - 0s 2ms/step - loss: 1.9550 - accuracy: 0.3927 - val_loss: 1.3641 - val_accuracy: 0.6755\n",
            "Epoch 141/1000\n",
            "42/75 [===============>..............] - ETA: 0s - loss: 1.9432 - accuracy: 0.3981\n",
            "Epoch 141: saving model to model\\keypoint_classifier.hdf5\n",
            "75/75 [==============================] - 0s 2ms/step - loss: 1.9409 - accuracy: 0.4040 - val_loss: 1.3585 - val_accuracy: 0.6954\n",
            "Epoch 142/1000\n",
            "68/75 [==========================>...] - ETA: 0s - loss: 1.9309 - accuracy: 0.3981\n",
            "Epoch 142: saving model to model\\keypoint_classifier.hdf5\n",
            "75/75 [==============================] - 0s 2ms/step - loss: 1.9274 - accuracy: 0.4012 - val_loss: 1.3474 - val_accuracy: 0.6818\n",
            "Epoch 143/1000\n",
            "41/75 [===============>..............] - ETA: 0s - loss: 1.9864 - accuracy: 0.3921\n",
            "Epoch 143: saving model to model\\keypoint_classifier.hdf5\n",
            "75/75 [==============================] - 0s 2ms/step - loss: 1.9585 - accuracy: 0.3949 - val_loss: 1.3391 - val_accuracy: 0.6879\n",
            "Epoch 144/1000\n",
            "41/75 [===============>..............] - ETA: 0s - loss: 1.9393 - accuracy: 0.4070\n",
            "Epoch 144: saving model to model\\keypoint_classifier.hdf5\n",
            "75/75 [==============================] - 0s 2ms/step - loss: 1.9299 - accuracy: 0.4022 - val_loss: 1.3411 - val_accuracy: 0.6816\n",
            "Epoch 145/1000\n",
            "43/75 [================>.............] - ETA: 0s - loss: 1.9475 - accuracy: 0.3968\n",
            "Epoch 145: saving model to model\\keypoint_classifier.hdf5\n",
            "75/75 [==============================] - 0s 2ms/step - loss: 1.9349 - accuracy: 0.3968 - val_loss: 1.3323 - val_accuracy: 0.6775\n",
            "Epoch 146/1000\n",
            "41/75 [===============>..............] - ETA: 0s - loss: 1.9316 - accuracy: 0.3973\n",
            "Epoch 146: saving model to model\\keypoint_classifier.hdf5\n",
            "75/75 [==============================] - 0s 2ms/step - loss: 1.9370 - accuracy: 0.3955 - val_loss: 1.3509 - val_accuracy: 0.6797\n",
            "Epoch 147/1000\n",
            "41/75 [===============>..............] - ETA: 0s - loss: 1.9288 - accuracy: 0.4005\n",
            "Epoch 147: saving model to model\\keypoint_classifier.hdf5\n",
            "75/75 [==============================] - 0s 2ms/step - loss: 1.9233 - accuracy: 0.4046 - val_loss: 1.3393 - val_accuracy: 0.6867\n",
            "Epoch 148/1000\n",
            "40/75 [===============>..............] - ETA: 0s - loss: 1.9159 - accuracy: 0.3982\n",
            "Epoch 148: saving model to model\\keypoint_classifier.hdf5\n",
            "75/75 [==============================] - 0s 2ms/step - loss: 1.9271 - accuracy: 0.4008 - val_loss: 1.3364 - val_accuracy: 0.6932\n",
            "Epoch 148: early stopping\n"
          ]
        },
        {
          "data": {
            "text/plain": [
              "<keras.src.callbacks.History at 0x289d218f2e0>"
            ]
          },
          "execution_count": 88,
          "metadata": {},
          "output_type": "execute_result"
        }
      ],
      "source": [
        "model.fit(\n",
        "    X_train,\n",
        "    y_train,\n",
        "    epochs=1000,\n",
        "    batch_size=128,\n",
        "    validation_data=(X_test, y_test),\n",
        "    callbacks=[cp_callback, es_callback]\n",
        ")"
      ]
    },
    {
      "cell_type": "code",
      "execution_count": 89,
      "metadata": {
        "colab": {
          "base_uri": "https://localhost:8080/"
        },
        "id": "pxvb2Y299hE3",
        "outputId": "59eb3185-2e37-4b9e-bc9d-ab1b8ac29b7f"
      },
      "outputs": [
        {
          "name": "stdout",
          "output_type": "stream",
          "text": [
            " 1/33 [..............................] - ETA: 0s - loss: 1.2109 - accuracy: 0.8516"
          ]
        },
        {
          "name": "stdout",
          "output_type": "stream",
          "text": [
            "33/33 [==============================] - 0s 969us/step - loss: 1.3364 - accuracy: 0.6932\n"
          ]
        }
      ],
      "source": [
        "# Model evaluation\n",
        "val_loss, val_acc = model.evaluate(X_test, y_test, batch_size=128)"
      ]
    },
    {
      "cell_type": "code",
      "execution_count": 90,
      "metadata": {
        "id": "RBkmDeUW9hE4"
      },
      "outputs": [],
      "source": [
        "# Loading the saved model\n",
        "model = tf.keras.models.load_model(model_save_path)"
      ]
    },
    {
      "cell_type": "code",
      "execution_count": 91,
      "metadata": {
        "colab": {
          "base_uri": "https://localhost:8080/"
        },
        "id": "tFz9Tb0I9hE4",
        "outputId": "1c3b3528-54ae-4ee2-ab04-77429211cbef"
      },
      "outputs": [
        {
          "name": "stdout",
          "output_type": "stream",
          "text": [
            "1/1 [==============================] - 0s 46ms/step\n",
            "[6.13275051e-01 2.42532820e-07 3.52057233e-03 1.11909015e-11\n",
            " 2.89367832e-04 2.89396290e-02 6.31579056e-08 1.62241067e-05\n",
            " 1.71248830e-05 2.27297708e-01 1.78205781e-03 2.51555853e-02\n",
            " 3.68225854e-03 1.04160824e-06 7.73283541e-02 3.28564354e-09\n",
            " 8.72673767e-10 8.56945306e-08 1.07213937e-05 5.61455381e-04\n",
            " 1.65630183e-06 5.60235676e-05 2.69014781e-05 7.98911337e-09\n",
            " 8.62577185e-03 2.71196950e-06 3.72648635e-03 2.33771999e-07\n",
            " 1.43575761e-03 8.23514483e-08 3.45593820e-09 4.24678996e-03]\n",
            "0\n"
          ]
        }
      ],
      "source": [
        "# Inference test\n",
        "predict_result = model.predict(np.array([X_test[0]]))\n",
        "print(np.squeeze(predict_result))\n",
        "print(np.argmax(np.squeeze(predict_result)))"
      ]
    },
    {
      "cell_type": "markdown",
      "metadata": {
        "id": "S3U4yNWx9hE4"
      },
      "source": [
        "# Confusion matrix"
      ]
    },
    {
      "cell_type": "code",
      "execution_count": 92,
      "metadata": {
        "colab": {
          "base_uri": "https://localhost:8080/",
          "height": 582
        },
        "id": "AP1V6SCk9hE5",
        "outputId": "08e41a80-7a4a-4619-8125-ecc371368d19"
      },
      "outputs": [
        {
          "name": "stdout",
          "output_type": "stream",
          "text": [
            "130/130 [==============================] - 0s 814us/step\n"
          ]
        },
        {
          "data": {
            "image/png": "[encoded data removed]",
            "text/plain": [
              "<Figure size 700x600 with 2 Axes>"
            ]
          },
          "metadata": {},
          "output_type": "display_data"
        },
        {
          "name": "stdout",
          "output_type": "stream",
          "text": [
            "Classification Report\n",
            "              precision    recall  f1-score   support\n",
            "\n",
            "           0       0.73      0.87      0.79       122\n",
            "           1       0.85      0.70      0.77       132\n",
            "           2       0.81      0.77      0.79       132\n",
            "           3       0.61      0.95      0.74       130\n",
            "           4       0.65      0.45      0.53       111\n",
            "           5       0.74      0.57      0.64       133\n",
            "           6       0.91      0.70      0.79       128\n",
            "           7       0.61      0.68      0.65       130\n",
            "           8       0.70      0.60      0.65       123\n",
            "           9       0.86      0.80      0.83       135\n",
            "          10       0.79      0.35      0.49       119\n",
            "          11       0.68      0.43      0.53       123\n",
            "          12       0.74      0.73      0.74       132\n",
            "          13       0.69      0.79      0.74       135\n",
            "          14       0.75      0.69      0.72       132\n",
            "          15       0.79      0.99      0.88       132\n",
            "          16       0.72      0.68      0.70       130\n",
            "          17       0.86      0.70      0.77       132\n",
            "          18       0.60      0.38      0.46       119\n",
            "          19       0.39      0.87      0.54       122\n",
            "          20       0.68      0.72      0.70       131\n",
            "          21       0.64      0.41      0.50       135\n",
            "          22       0.66      0.76      0.70       135\n",
            "          23       0.54      0.98      0.69       130\n",
            "          24       0.59      0.25      0.35       135\n",
            "          25       0.88      0.96      0.92       133\n",
            "          26       0.99      0.52      0.68       135\n",
            "          27       0.62      0.35      0.45       126\n",
            "          28       0.89      0.82      0.85       120\n",
            "          29       0.50      0.96      0.65       131\n",
            "          30       0.92      0.89      0.90       135\n",
            "          31       0.65      0.78      0.71       132\n",
            "\n",
            "    accuracy                           0.69      4130\n",
            "   macro avg       0.72      0.69      0.68      4130\n",
            "weighted avg       0.72      0.69      0.69      4130\n",
            "\n"
          ]
        }
      ],
      "source": [
        "import pandas as pd\n",
        "import seaborn as sns\n",
        "import matplotlib.pyplot as plt\n",
        "from sklearn.metrics import confusion_matrix, classification_report\n",
        "\n",
        "def print_confusion_matrix(y_true, y_pred, report=True):\n",
        "    labels = sorted(list(set(y_true)))\n",
        "    cmx_data = confusion_matrix(y_true, y_pred, labels=labels)\n",
        "    \n",
        "    df_cmx = pd.DataFrame(cmx_data, index=labels, columns=labels)\n",
        " \n",
        "    fig, ax = plt.subplots(figsize=(7, 6))\n",
        "    sns.heatmap(df_cmx, annot=True, fmt='g' ,square=False)\n",
        "    ax.set_ylim(len(set(y_true)), 0)\n",
        "    plt.show()\n",
        "    \n",
        "    if report:\n",
        "        print('Classification Report')\n",
        "        print(classification_report(y_test, y_pred))\n",
        "\n",
        "Y_pred = model.predict(X_test)\n",
        "y_pred = np.argmax(Y_pred, axis=1)\n",
        "\n",
        "print_confusion_matrix(y_test, y_pred)"
      ]
    },
    {
      "cell_type": "markdown",
      "metadata": {
        "id": "FNP6aqzc9hE5"
      },
      "source": [
        "# Convert to model for Tensorflow-Lite"
      ]
    },
    {
      "cell_type": "code",
      "execution_count": 93,
      "metadata": {
        "id": "ODjnYyld9hE6"
      },
      "outputs": [
        {
          "name": "stderr",
          "output_type": "stream",
          "text": [
            "c:\\Users\\zeins\\anaconda3\\envs\\lsl\\lib\\site-packages\\keras\\src\\engine\\training.py:3103: UserWarning: You are saving your model as an HDF5 file via `model.save()`. This file format is considered legacy. We recommend using instead the native Keras format, e.g. `model.save('my_model.keras')`.\n",
            "  saving_api.save_model(\n"
          ]
        }
      ],
      "source": [
        "# Save as a model dedicated to inference\n",
        "model.save(model_save_path)"
      ]
    },
    {
      "cell_type": "code",
      "execution_count": 94,
      "metadata": {
        "colab": {
          "base_uri": "https://localhost:8080/"
        },
        "id": "zRfuK8Y59hE6",
        "outputId": "a4ca585c-b5d5-4244-8291-8674063209bb"
      },
      "outputs": [
        {
          "name": "stdout",
          "output_type": "stream",
          "text": [
            "INFO:tensorflow:Assets written to: C:\\Users\\zeins\\AppData\\Local\\Temp\\tmpnz386doj\\assets\n"
          ]
        },
        {
          "name": "stderr",
          "output_type": "stream",
          "text": [
            "INFO:tensorflow:Assets written to: C:\\Users\\zeins\\AppData\\Local\\Temp\\tmpnz386doj\\assets\n"
          ]
        },
        {
          "data": {
            "text/plain": [
              "7852"
            ]
          },
          "execution_count": 94,
          "metadata": {},
          "output_type": "execute_result"
        }
      ],
      "source": [
        "# Transform model (quantization)\n",
        "\n",
        "converter = tf.lite.TFLiteConverter.from_keras_model(model)\n",
        "converter.optimizations = [tf.lite.Optimize.DEFAULT]\n",
        "tflite_quantized_model = converter.convert()\n",
        "\n",
        "open(tflite_save_path, 'wb').write(tflite_quantized_model)"
      ]
    },
    {
      "cell_type": "markdown",
      "metadata": {},
      "source": []
    },
    {
      "cell_type": "markdown",
      "metadata": {
        "id": "CHBPBXdx9hE6"
      },
      "source": [
        "# Inference test"
      ]
    },
    {
      "cell_type": "code",
      "execution_count": 95,
      "metadata": {
        "id": "mGAzLocO9hE7"
      },
      "outputs": [],
      "source": [
        "interpreter = tf.lite.Interpreter(model_path=tflite_save_path)\n",
        "interpreter.allocate_tensors()"
      ]
    },
    {
      "cell_type": "code",
      "execution_count": 96,
      "metadata": {
        "id": "oQuDK8YS9hE7"
      },
      "outputs": [],
      "source": [
        "# Get I / O tensor\n",
        "input_details = interpreter.get_input_details()\n",
        "output_details = interpreter.get_output_details()"
      ]
    },
    {
      "cell_type": "code",
      "execution_count": 97,
      "metadata": {
        "id": "2_ixAf_l9hE7"
      },
      "outputs": [],
      "source": [
        "interpreter.set_tensor(input_details[0]['index'], np.array([X_test[0]]))"
      ]
    },
    {
      "cell_type": "code",
      "execution_count": 98,
      "metadata": {
        "colab": {
          "base_uri": "https://localhost:8080/"
        },
        "id": "s4FoAnuc9hE7",
        "outputId": "91f18257-8d8b-4ef3-c558-e9b5f94fabbf",
        "scrolled": true
      },
      "outputs": [
        {
          "name": "stdout",
          "output_type": "stream",
          "text": [
            "[6.1327505e-01 2.4253282e-07 3.5205754e-03 1.1190922e-11 2.8936795e-04\n",
            " 2.8939629e-02 6.3157906e-08 1.6224090e-05 1.7124881e-05 2.2729771e-01\n",
            " 1.7820578e-03 2.5155591e-02 3.6822602e-03 1.0416103e-06 7.7328376e-02\n",
            " 3.2856433e-09 8.7267199e-10 8.5694531e-08 1.0721384e-05 5.6145561e-04\n",
            " 1.6563018e-06 5.6023513e-05 2.6901476e-05 7.9891125e-09 8.6257756e-03\n",
            " 2.7119745e-06 3.7264880e-03 2.3377200e-07 1.4357576e-03 8.2351448e-08\n",
            " 3.4559378e-09 4.2467900e-03]\n",
            "0\n",
            "CPU times: total: 0 ns\n",
            "Wall time: 0 ns\n"
          ]
        }
      ],
      "source": [
        "%%time\n",
        "# Inference implementation\n",
        "interpreter.invoke()\n",
        "tflite_results = interpreter.get_tensor(output_details[0]['index'])\n",
        "print(np.squeeze(tflite_results))\n",
        "print(np.argmax(np.squeeze(tflite_results)))"
      ]
    },
    {
      "cell_type": "code",
      "execution_count": null,
      "metadata": {
        "colab": {
          "base_uri": "https://localhost:8080/"
        },
        "id": "vONjp19J9hE8",
        "outputId": "77205e24-fd00-42c4-f7b6-e06e527c2cba"
      },
      "outputs": [],
      "source": []
    },
    {
      "cell_type": "markdown",
      "metadata": {},
      "source": []
    }
  ],
  "metadata": {
    "accelerator": "GPU",
    "colab": {
      "collapsed_sections": [],
      "name": "keypoint_classification_EN.ipynb",
      "provenance": [],
      "toc_visible": true
    },
    "interpreter": {
      "hash": "85b733480cc67b8cf4f7b44ea859236688838663f0d4c864dc5b1de551a5e467"
    },
    "kernelspec": {
      "display_name": "Python 3.9.4 64-bit ('mpenv': conda)",
      "name": "python3"
    },
    "language_info": {
      "codemirror_mode": {
        "name": "ipython",
        "version": 3
      },
      "file_extension": ".py",
      "mimetype": "text/x-python",
      "name": "python",
      "nbconvert_exporter": "python",
      "pygments_lexer": "ipython3",
      "version": "3.10.13"
    }
  },
  "nbformat": 4,
  "nbformat_minor": 0
}
