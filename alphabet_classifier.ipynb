{
 "cells": [
  {
   "cell_type": "code",
   "execution_count": null,
   "metadata": {},
   "outputs": [],
   "source": [
    "import csv\n",
    "\n",
    "import numpy as np\n",
    "import tensorflow as tf\n",
    "\n",
    "RANDOM_SEED = 42"
   ]
  },
  {
   "cell_type": "markdown",
   "metadata": {},
   "source": [
    "# Path"
   ]
  },
  {
   "cell_type": "code",
   "execution_count": null,
   "metadata": {},
   "outputs": [],
   "source": [
    "model_save_path = 'model/keypoint_classifier.hdf5'\n",
    "tflite_save_path = 'model/keypoint_classifier.tflite'\n",
    "\n",
    "images_dir = 'content/drive/MyDrive/augmented/train/images/'\n",
    "test_dir = 'content/drive/MyDrive/augmented/test/images/'"
   ]
  },
  {
   "cell_type": "markdown",
   "metadata": {},
   "source": [
    "# Number of classes"
   ]
  },
  {
   "cell_type": "code",
   "execution_count": null,
   "metadata": {},
   "outputs": [],
   "source": [
    "NUM_CLASSES = 28"
   ]
  },
  {
   "cell_type": "markdown",
   "metadata": {},
   "source": [
    "# Training Data "
   ]
  },
  {
   "cell_type": "code",
   "execution_count": null,
   "metadata": {},
   "outputs": [],
   "source": [
    "# X_train = np.loadtxt(train_dataset, delimiter=',', dtype='float32', usecols=list(range(1, (21 * 2) + 1)))\n",
    "# X_test = np.loadtxt(test_dataset, delimiter=',', dtype='float32', usecols=list(range(1, (21 * 2) + 1)))\n",
    "\n",
    "import os\n",
    "import cv2\n",
    "import numpy as np\n",
    "\n",
    "num_images = len([f for f in os.listdir(images_dir) if f[0].isdigit()])\n",
    "\n",
    "print(num_images)\n",
    "\n",
    "# image_shape = (num_images, 128, 128, 3)\n",
    "\n",
    "# X_train = np.empty(image_shape, dtype=np.uint8)\n",
    "# y_train = np.empty(num_images, dtype=np.int8)\n",
    "\n",
    "X_train = []\n",
    "y_train = []\n",
    "\n",
    "index = 0\n",
    "\n",
    "# Loop through each image in the dataset directory\n",
    "for image_name in os.listdir(images_dir):\n",
    "    if image_name[0].isdigit():  # Check if the first character is a digit\n",
    "        image_path = os.path.join(images_dir, image_name)\n",
    "\n",
    "        # Extract class label\n",
    "        class_label = int(image_name[0])\n",
    "\n",
    "        # read image\n",
    "        image = cv2.imread(image_path)\n",
    "\n",
    "        resized_image = cv2.resize(image, (128, 128))\n",
    "\n",
    "        X_train.append(resized_image)\n",
    "        y_train.append(class_label)\n",
    "\n",
    "        print(index)\n",
    "        index+=1\n",
    "\n",
    "\n",
    "X_train = np.array(X_train)\n",
    "y_train = np.array(y_train)\n",
    "\n",
    "\n"
   ]
  },
  {
   "cell_type": "markdown",
   "metadata": {},
   "source": [
    "# Testing Data"
   ]
  },
  {
   "cell_type": "code",
   "execution_count": null,
   "metadata": {},
   "outputs": [],
   "source": [
    "# y_train = np.loadtxt(train_dataset, delimiter=',', dtype='int32', usecols=(0))\n",
    "# y_test = np.loadtxt(test_dataset, delimiter=',', dtype='int32', usecols=(0))\n",
    "\n",
    "import os\n",
    "import cv2\n",
    "import numpy as np\n",
    "\n",
    "num_images = len([f for f in os.listdir(test_dir) if f[0].isdigit()])\n",
    "\n",
    "print(num_images)\n",
    "\n",
    "# image_shape = (num_images, 128, 128, 3)\n",
    "\n",
    "# X_train = np.empty(image_shape, dtype=np.uint8)\n",
    "# y_train = np.empty(num_images, dtype=np.int8)\n",
    "\n",
    "X_test = []\n",
    "y_test = []\n",
    "\n",
    "index = 0\n",
    "\n",
    "# Loop through each image in the dataset directory\n",
    "for image_name in os.listdir(test_dir):\n",
    "    if image_name[0].isdigit():  # Check if the first character is a digit\n",
    "        image_path = os.path.join(test_dir, image_name)\n",
    "\n",
    "        # Extract class label\n",
    "        class_label = int(image_name[0])\n",
    "\n",
    "        # read image\n",
    "        image = cv2.imread(image_path)\n",
    "\n",
    "        resized_image = cv2.resize(image, (128, 128))\n",
    "\n",
    "        X_test.append(resized_image)\n",
    "        y_test.append(class_label)\n",
    "\n",
    "        print(index)\n",
    "        index+=1\n",
    "\n",
    "\n",
    "X_test = np.array(X_test)\n",
    "y_test = np.array(y_test)\n",
    "\n",
    "print(len(X_test), len(y_test))\n"
   ]
  },
  {
   "cell_type": "markdown",
   "metadata": {},
   "source": [
    "# Model"
   ]
  },
  {
   "cell_type": "code",
   "execution_count": null,
   "metadata": {},
   "outputs": [],
   "source": [
    "from keras.models import Sequential\n",
    "from keras.layers import Conv2D, MaxPooling2D, Flatten, Dense, Dropout\n",
    "from keras.optimizers import Adam\n",
    "from keras.losses import categorical_crossentropy\n",
    "from keras.utils import to_categorical\n",
    "# Define the input shape\n",
    "input_shape = (128, 128, 3)\n",
    "y_train_onehot = to_categorical(y_train, num_classes=28)\n",
    "# Create a Sequential model or a Functional API model\n",
    "model = Sequential()\n",
    "\n",
    "# Add convolutional layers\n",
    "model.add(Conv2D(32, (3, 3), activation='relu', input_shape=input_shape))\n",
    "model.add(MaxPooling2D(pool_size=(2, 2)))\n",
    "model.add(Conv2D(64, (3, 3), activation='relu'))\n",
    "model.add(MaxPooling2D(pool_size=(2, 2)))\n",
    "model.add(Conv2D(128, (3, 3), activation='relu'))\n",
    "model.add(MaxPooling2D(pool_size=(2, 2)))\n",
    "\n",
    "# Flatten the feature maps\n",
    "model.add(Flatten())\n",
    "\n",
    "# Add fully connected layers\n",
    "model.add(Dense(512, activation='relu'))\n",
    "model.add(Dropout(0.5))\n",
    "model.add(Dense(128, activation='relu'))\n",
    "model.add(Dropout(0.5))\n",
    "\n",
    "# Modify the final output layer for 28 classes\n",
    "model.add(Dense(28, activation='softmax'))\n",
    "\n"
   ]
  },
  {
   "cell_type": "markdown",
   "metadata": {},
   "source": [
    "# Compile model"
   ]
  },
  {
   "cell_type": "code",
   "execution_count": null,
   "metadata": {},
   "outputs": [],
   "source": [
    "model.compile(optimizer='adam', \n",
    "              loss='categorical_crossentropy',  # Assuming you have one-hot encoded labels\n",
    "              metrics=['accuracy'])\n",
    "\n",
    "model.compile(optimizer=Adam(learning_rate=0.0001), loss=categorical_crossentropy, metrics=['accuracy'])"
   ]
  },
  {
   "cell_type": "markdown",
   "metadata": {},
   "source": [
    "# Train model"
   ]
  },
  {
   "cell_type": "code",
   "execution_count": null,
   "metadata": {},
   "outputs": [],
   "source": [
    "model.fit(X_train, y_train_onehot, epochs=15, batch_size=32, verbose=1)"
   ]
  },
  {
   "cell_type": "markdown",
   "metadata": {},
   "source": [
    "# Save the model"
   ]
  },
  {
   "cell_type": "code",
   "execution_count": null,
   "metadata": {},
   "outputs": [],
   "source": [
    "model.save(model_save_path)"
   ]
  },
  {
   "cell_type": "markdown",
   "metadata": {},
   "source": [
    "# Convert model to TFLite"
   ]
  },
  {
   "cell_type": "code",
   "execution_count": null,
   "metadata": {},
   "outputs": [],
   "source": [
    "converter = tf.lite.TFLiteConverter.from_keras_model(model)\n",
    "converter.optimizations = [tf.lite.Optimize.DEFAULT]\n",
    "tflite_quantized_model = converter.convert()\n",
    "\n",
    "open(tflite_save_path, 'wb').write(tflite_quantized_model)"
   ]
  },
  {
   "cell_type": "markdown",
   "metadata": {},
   "source": [
    "# Confusion matrix"
   ]
  },
  {
   "cell_type": "code",
   "execution_count": null,
   "metadata": {},
   "outputs": [],
   "source": [
    "import pandas as pd\n",
    "import seaborn as sns\n",
    "import matplotlib.pyplot as plt\n",
    "from sklearn.metrics import confusion_matrix, classification_report\n",
    "\n",
    "def print_confusion_matrix(y_true, y_pred, report=True):\n",
    "    labels = sorted(list(set(y_true)))\n",
    "    cmx_data = confusion_matrix(y_true, y_pred, labels=labels)\n",
    "    \n",
    "    df_cmx = pd.DataFrame(cmx_data, index=labels, columns=labels)\n",
    " \n",
    "    fig, ax = plt.subplots(figsize=(7, 6))\n",
    "    sns.heatmap(df_cmx, annot=True, fmt='g' ,square=False)\n",
    "    ax.set_ylim(len(set(y_true)), 0)\n",
    "    plt.show()\n",
    "    \n",
    "    if report:\n",
    "        print('Classification Report')\n",
    "        print(classification_report(y_test, y_pred))\n",
    "\n",
    "Y_pred = model.predict(X_test)\n",
    "y_pred = np.argmax(Y_pred, axis=1)\n",
    "\n",
    "print_confusion_matrix(y_test, y_pred)"
   ]
  },
  {
   "cell_type": "markdown",
   "metadata": {},
   "source": [
    "# Inference test"
   ]
  },
  {
   "cell_type": "code",
   "execution_count": null,
   "metadata": {},
   "outputs": [],
   "source": [
    "interpreter = tf.lite.Interpreter(model_path=tflite_save_path)\n",
    "interpreter.allocate_tensors()\n",
    "\n",
    "# Get tensors\n",
    "input_details = interpreter.get_input_details()\n",
    "output_details = interpreter.get_output_details()\n",
    "# Set tensors\n",
    "interpreter.set_tensor(input_details[0]['index'], np.array([X_test[0]]))\n",
    "\n",
    "#Inference Implementation\n",
    "\n",
    "%%time\n",
    "# Inference implementation\n",
    "interpreter.invoke()\n",
    "tflite_results = interpreter.get_tensor(output_details[0]['index'])\n",
    "print(np.squeeze(tflite_results))\n",
    "print(np.argmax(np.squeeze(tflite_results)))\n",
    "\n"
   ]
  }
 ],
 "metadata": {
  "language_info": {
   "name": "python"
  }
 },
 "nbformat": 4,
 "nbformat_minor": 2
}
